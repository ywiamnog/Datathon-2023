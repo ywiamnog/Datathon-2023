{
 "cells": [
  {
   "cell_type": "code",
   "execution_count": 2,
   "metadata": {
    "collapsed": true
   },
   "outputs": [],
   "source": [
    "import pandas as pd\n",
    "import openpyxl"
   ]
  },
  {
   "cell_type": "code",
   "execution_count": 3,
   "outputs": [
    {
     "name": "stdout",
     "output_type": "stream",
     "text": [
      "overall success rate =  0.16643159379407615\n"
     ]
    }
   ],
   "source": [
    "df = pd.read_excel(\"BlockWalking_Effort.xlsx\")\n",
    "\n",
    "# data with id, zipcode, and result\n",
    "df_loc_res = df[[\"VoterID\", \"zip\", \"result of attempt\"]]\n",
    "df_loc_res.head()\n",
    "df_loc_res = df_loc_res[(df_loc_res['result of attempt'] == \"Canvassed\")]\n",
    "# possible results = {'Canvassed', 'Moved', 'Inaccessible', 'Deceased', 'Refused', 'Other Language'}\n",
    "foo = df_loc_res['result of attempt'].tolist()\n",
    "df_loc_res.head()\n",
    "\n",
    "ov_success_rate = df_loc_res.shape[0]/df.shape[0]\n",
    "print(\"overall success rate = \", ov_success_rate)\n",
    "\n",
    "success_by_location = {}"
   ],
   "metadata": {
    "collapsed": false,
    "pycharm": {
     "name": "#%%\n"
    }
   }
  },
  {
   "cell_type": "code",
   "execution_count": null,
   "outputs": [],
   "source": [],
   "metadata": {
    "collapsed": false,
    "pycharm": {
     "name": "#%%\n"
    }
   }
  }
 ],
 "metadata": {
  "kernelspec": {
   "display_name": "Python 3",
   "language": "python",
   "name": "python3"
  },
  "language_info": {
   "codemirror_mode": {
    "name": "ipython",
    "version": 2
   },
   "file_extension": ".py",
   "mimetype": "text/x-python",
   "name": "python",
   "nbconvert_exporter": "python",
   "pygments_lexer": "ipython2",
   "version": "2.7.6"
  }
 },
 "nbformat": 4,
 "nbformat_minor": 0
}