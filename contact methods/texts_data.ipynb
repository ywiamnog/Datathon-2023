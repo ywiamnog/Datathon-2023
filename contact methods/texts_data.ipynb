{
 "cells": [
  {
   "cell_type": "code",
   "execution_count": 24,
   "metadata": {
    "collapsed": true
   },
   "outputs": [],
   "source": [
    "import numpy as np\n",
    "import pandas as pd"
   ]
  },
  {
   "cell_type": "code",
   "execution_count": 25,
   "outputs": [],
   "source": [
    "attempts_df = pd.read_csv(\"TextBanking_Efforts.xlsx - Attempts.csv\")\n",
    "contact_df = pd.read_csv(\"TextBanking_Efforts.xlsx - Contact.csv\")\n",
    "\n",
    "# clean -- values\n",
    "for column in attempts_df.columns:\n",
    "    attempts_df = attempts_df[(attempts_df[column] != \"--\")]\n",
    "for column in contact_df.columns:\n",
    "    contact_df = contact_df[(contact_df[column] != \"--\")]"
   ],
   "metadata": {
    "collapsed": false
   }
  },
  {
   "cell_type": "code",
   "execution_count": 26,
   "outputs": [
    {
     "data": {
      "text/plain": "Index(['timestamp', 'message_direction', 'Voter ID'], dtype='object')"
     },
     "execution_count": 26,
     "metadata": {},
     "output_type": "execute_result"
    }
   ],
   "source": [
    "attempts_df.columns"
   ],
   "metadata": {
    "collapsed": false
   }
  },
  {
   "cell_type": "code",
   "execution_count": 27,
   "outputs": [
    {
     "data": {
      "text/plain": "Index(['Question Sent', 'question_Response_type', 'response to question',\n       'updated_at', 'Voter ID'],\n      dtype='object')"
     },
     "execution_count": 27,
     "metadata": {},
     "output_type": "execute_result"
    }
   ],
   "source": [
    "contact_df.columns"
   ],
   "metadata": {
    "collapsed": false
   }
  },
  {
   "cell_type": "code",
   "execution_count": 28,
   "outputs": [
    {
     "name": "stdout",
     "output_type": "stream",
     "text": [
      "419\n"
     ]
    },
    {
     "data": {
      "text/plain": "{'Planning to vote?': {'No': 44, 'Yes': 200},\n 'Do you have the proper ID to vote?': {'Yes': 49, 'No': 2, 'Unsure': 3},\n 'Texting correct person': {'Contacted': 142,\n  'Refused': 53,\n  'Wrong Number': 111,\n  'Spanish': 2,\n  'Other Language': 1},\n 'Texting the Right Person': {'Wrong Number': 8}}"
     },
     "execution_count": 28,
     "metadata": {},
     "output_type": "execute_result"
    }
   ],
   "source": [
    "# dictionary mapping {Question : {available response : count}}\n",
    "question_response = {}\n",
    "total_count = 0\n",
    "\n",
    "# initialize questions\n",
    "for question in contact_df[\"Question Sent\"].unique():\n",
    "    question_response[question] = {}\n",
    "\n",
    "# initialize available responses per question\n",
    "for row_idx in range(0, contact_df.shape[0]):\n",
    "    # 'Question Sent' is col 0, 'response to question' is col 2\n",
    "    question = contact_df.iloc[row_idx, 0]\n",
    "    response = contact_df.iloc[row_idx, 2]\n",
    "    if response not in question_response[question]:\n",
    "        question_response[question][response] = 1\n",
    "        total_count += 1\n",
    "    else:\n",
    "        question_response[question][response] += 1\n",
    "        total_count += 1\n",
    "\n",
    "print(contact_df[\"Voter ID\"].unique().shape[0])\n",
    "question_response"
   ],
   "metadata": {
    "collapsed": false
   }
  },
  {
   "cell_type": "code",
   "execution_count": 35,
   "outputs": [
    {
     "data": {
      "text/plain": "            Contact Success\nVoter ID                   \n1000205011                0\n1000433225                0\n1000746850                0\n1001614539                0\n1004309873                0\n...                     ...\n2193193194                0\n2193193564                0\n2193194892                0\n2193225791                0\n2193229462                0\n\n[10167 rows x 1 columns]",
      "text/html": "<div>\n<style scoped>\n    .dataframe tbody tr th:only-of-type {\n        vertical-align: middle;\n    }\n\n    .dataframe tbody tr th {\n        vertical-align: top;\n    }\n\n    .dataframe thead th {\n        text-align: right;\n    }\n</style>\n<table border=\"1\" class=\"dataframe\">\n  <thead>\n    <tr style=\"text-align: right;\">\n      <th></th>\n      <th>Contact Success</th>\n    </tr>\n    <tr>\n      <th>Voter ID</th>\n      <th></th>\n    </tr>\n  </thead>\n  <tbody>\n    <tr>\n      <th>1000205011</th>\n      <td>0</td>\n    </tr>\n    <tr>\n      <th>1000433225</th>\n      <td>0</td>\n    </tr>\n    <tr>\n      <th>1000746850</th>\n      <td>0</td>\n    </tr>\n    <tr>\n      <th>1001614539</th>\n      <td>0</td>\n    </tr>\n    <tr>\n      <th>1004309873</th>\n      <td>0</td>\n    </tr>\n    <tr>\n      <th>...</th>\n      <td>...</td>\n    </tr>\n    <tr>\n      <th>2193193194</th>\n      <td>0</td>\n    </tr>\n    <tr>\n      <th>2193193564</th>\n      <td>0</td>\n    </tr>\n    <tr>\n      <th>2193194892</th>\n      <td>0</td>\n    </tr>\n    <tr>\n      <th>2193225791</th>\n      <td>0</td>\n    </tr>\n    <tr>\n      <th>2193229462</th>\n      <td>0</td>\n    </tr>\n  </tbody>\n</table>\n<p>10167 rows × 1 columns</p>\n</div>"
     },
     "execution_count": 35,
     "metadata": {},
     "output_type": "execute_result"
    }
   ],
   "source": [
    "# Define [successful contact] as someone who was contacted correctly and communicated with correctly\n",
    "# Success at getting a response from reaching out, ie contact success rate\n",
    "all_contacts_df = pd.DataFrame({\"Voter ID\": attempts_df[\"Voter ID\"].unique()})\n",
    "all_contacts_df[\"Contact Success\"] = 0 # changed to 1 later if success\n",
    "all_contacts_df = all_contacts_df.set_index('Voter ID')\n",
    "all_contacts_df = all_contacts_df.sort_values(by=[\"Voter ID\"])\n",
    "contact_df = contact_df.sort_values(by=[\"Voter ID\"])\n",
    "\n",
    "# Voter ID is column 4 in contact_df\n",
    "prev_voterID = contact_df.iloc[0, 4]\n",
    "responses = {}\n",
    "success = False # list of questions this person was asked over text\n",
    "\n",
    "for row_idx in range(0, contact_df.shape[0]):\n",
    "    curr_voterID = contact_df.iloc[row_idx, 4]\n",
    "    # if new person, analyze the boolean and reset boolean\n",
    "    if curr_voterID != prev_voterID:\n",
    "        # analyze previous voterID. If success, change in all_contacts_df\n",
    "        # various booleans\n",
    "        not_plan_to_vote = 'Planning to vote?' in responses and responses['Planning to vote?']=='No'\n",
    "        no_proper_ID = 'Do you have the proper ID to vote?' in responses and responses['Do you have the proper ID to vote?']!=\"Yes\"\n",
    "        not_correct_person = 'Texting correct person' in responses and responses['Texting correct person']!='Contacted'\n",
    "        not_right_person = 'Texting the Right Person' in responses and responses['Texting the Right Person'] == 'Wrong Number'\n",
    "        if not_correct_person or not_right_person:\n",
    "            success = False\n",
    "        if success:\n",
    "            all_contacts_df.loc[prev_voterID, \"Contact Success\"] = 1\n",
    "        success = True # default boolean to False\n",
    "        responses = {} # reset responses\n",
    "\n",
    "    prev_voterID = curr_voterID\n",
    "\n",
    "all_contacts_df\n"
   ],
   "metadata": {
    "collapsed": false
   }
  },
  {
   "cell_type": "code",
   "execution_count": 30,
   "outputs": [
    {
     "data": {
      "text/plain": "0"
     },
     "execution_count": 30,
     "metadata": {},
     "output_type": "execute_result"
    }
   ],
   "source": [
    "# sanity check to make sure all voter ids in contacts_df are also in all_contacts_df\n",
    "count = 0\n",
    "for voter_id in contact_df[\"Voter ID\"].unique():\n",
    "    if voter_id not in all_contacts_df.index:\n",
    "        count += 1\n",
    "count"
   ],
   "metadata": {
    "collapsed": false
   }
  },
  {
   "cell_type": "code",
   "execution_count": 31,
   "outputs": [
    {
     "data": {
      "text/plain": "417"
     },
     "execution_count": 31,
     "metadata": {},
     "output_type": "execute_result"
    }
   ],
   "source": [
    "# sanity check for previous block:\n",
    "num_success = 0\n",
    "for row_idx in range(0, all_contacts_df.shape[0]):\n",
    "    if all_contacts_df.iloc[row_idx, 0] == 1:\n",
    "        num_success += 1\n",
    "num_success"
   ],
   "metadata": {
    "collapsed": false
   }
  },
  {
   "cell_type": "code",
   "execution_count": 32,
   "outputs": [
    {
     "name": "stdout",
     "output_type": "stream",
     "text": [
      "overall success rate =  0.0410150486869283\n"
     ]
    },
    {
     "data": {
      "text/plain": "            Contact Success\nVoter ID                   \n1041564212                1\n1043427395                1\n1061260847                1\n1090798474                1\n1102265724                1\n...                     ...\n2187464508                1\n2188489848                1\n2188895084                1\n2190963915                1\n2192097772                1\n\n[417 rows x 1 columns]",
      "text/html": "<div>\n<style scoped>\n    .dataframe tbody tr th:only-of-type {\n        vertical-align: middle;\n    }\n\n    .dataframe tbody tr th {\n        vertical-align: top;\n    }\n\n    .dataframe thead th {\n        text-align: right;\n    }\n</style>\n<table border=\"1\" class=\"dataframe\">\n  <thead>\n    <tr style=\"text-align: right;\">\n      <th></th>\n      <th>Contact Success</th>\n    </tr>\n    <tr>\n      <th>Voter ID</th>\n      <th></th>\n    </tr>\n  </thead>\n  <tbody>\n    <tr>\n      <th>1041564212</th>\n      <td>1</td>\n    </tr>\n    <tr>\n      <th>1043427395</th>\n      <td>1</td>\n    </tr>\n    <tr>\n      <th>1061260847</th>\n      <td>1</td>\n    </tr>\n    <tr>\n      <th>1090798474</th>\n      <td>1</td>\n    </tr>\n    <tr>\n      <th>1102265724</th>\n      <td>1</td>\n    </tr>\n    <tr>\n      <th>...</th>\n      <td>...</td>\n    </tr>\n    <tr>\n      <th>2187464508</th>\n      <td>1</td>\n    </tr>\n    <tr>\n      <th>2188489848</th>\n      <td>1</td>\n    </tr>\n    <tr>\n      <th>2188895084</th>\n      <td>1</td>\n    </tr>\n    <tr>\n      <th>2190963915</th>\n      <td>1</td>\n    </tr>\n    <tr>\n      <th>2192097772</th>\n      <td>1</td>\n    </tr>\n  </tbody>\n</table>\n<p>417 rows × 1 columns</p>\n</div>"
     },
     "execution_count": 32,
     "metadata": {},
     "output_type": "execute_result"
    }
   ],
   "source": [
    "# get final percentage of successfully contacted people and a df of just the people that were successfully contacted\n",
    "successful_contact_df = all_contacts_df[all_contacts_df[\"Contact Success\"] == 1]\n",
    "print(\"overall success rate = \", num_success / all_contacts_df.shape[0])\n",
    "successful_contact_df"
   ],
   "metadata": {
    "collapsed": false
   }
  },
  {
   "cell_type": "code",
   "execution_count": 33,
   "outputs": [
    {
     "name": "stdout",
     "output_type": "stream",
     "text": [
      "total money spent =  610.02\n",
      "money lost =  585.0\n",
      "money well spent =  25.02\n"
     ]
    }
   ],
   "source": [
    "#Money Spending\n",
    "totalMoneySpent = all_contacts_df.shape[0] * 0.06\n",
    "moneyLost = (1-num_success / all_contacts_df.shape[0]) * all_contacts_df.shape[0] * 0.06\n",
    "moneyWellSpent = num_success / all_contacts_df.shape[0] * all_contacts_df.shape[0] * 0.06\n",
    "\n",
    "print(\"total money spent = \", totalMoneySpent)\n",
    "print(\"money lost = \", moneyLost)\n",
    "print(\"money well spent = \", moneyWellSpent)\n",
    "success_by_location = {}\n"
   ],
   "metadata": {
    "collapsed": false
   }
  },
  {
   "cell_type": "code",
   "execution_count": 58,
   "outputs": [],
   "source": [
    "nov_votes_id = pd.read_csv(\"../cleaned_nov_votes.csv\")[\"Voter ID\"].tolist()\n",
    "successful_contact_id = successful_contact_df.index.tolist()"
   ],
   "metadata": {
    "collapsed": false
   }
  },
  {
   "cell_type": "code",
   "execution_count": 65,
   "outputs": [
    {
     "name": "stdout",
     "output_type": "stream",
     "text": [
      "Voters we contacted successfully: 417\n",
      "Nov voters who turned out: 997440\n",
      "<class 'str'>\n",
      "Voters we contacted who turned out:  52\n",
      "Cost to get One Person To Vote: $ 11.731153846153846\n"
     ]
    }
   ],
   "source": [
    "#Voter turn out\n",
    "countVoterTurnedOut = 0\n",
    "print(\"Voters we texted successfully (got response):\", len(successful_contact_id))\n",
    "print(\"Nov voters who turned out:\", len(nov_votes_id))\n",
    "\n",
    "for voterId in successful_contact_id:\n",
    "    if (int(voterId) in nov_votes_id):\n",
    "        countVoterTurnedOut += 1\n",
    "\n",
    "print(\"Voters we contacted who turned out: \", countVoterTurnedOut)\n",
    "\n",
    "costToGetOnePersonToVote = totalMoneySpent/countVoterTurnedOut\n",
    "\n",
    "print(\"Cost to get One Person To Vote: $\", costToGetOnePersonToVote)"
   ],
   "metadata": {
    "collapsed": false
   }
  },
  {
   "cell_type": "code",
   "execution_count": null,
   "outputs": [],
   "source": [],
   "metadata": {
    "collapsed": false
   }
  }
 ],
 "metadata": {
  "kernelspec": {
   "display_name": "Python 3",
   "language": "python",
   "name": "python3"
  },
  "language_info": {
   "codemirror_mode": {
    "name": "ipython",
    "version": 2
   },
   "file_extension": ".py",
   "mimetype": "text/x-python",
   "name": "python",
   "nbconvert_exporter": "python",
   "pygments_lexer": "ipython2",
   "version": "2.7.6"
  }
 },
 "nbformat": 4,
 "nbformat_minor": 0
}
