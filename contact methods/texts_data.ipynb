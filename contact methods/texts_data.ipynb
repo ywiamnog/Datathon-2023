{
 "cells": [
  {
   "cell_type": "code",
   "execution_count": 3,
   "metadata": {
    "collapsed": true
   },
   "outputs": [],
   "source": [
    "import numpy as np\n",
    "import pandas as pd"
   ]
  },
  {
   "cell_type": "code",
   "execution_count": 4,
   "outputs": [],
   "source": [
    "attempts_df = pd.read_csv(\"TextBanking_Efforts.xlsx - Attempts.csv\")\n",
    "contact_df = pd.read_csv(\"TextBanking_Efforts.xlsx - Contact.csv\")\n",
    "\n",
    "# clean -- values\n",
    "for column in attempts_df.columns:\n",
    "    attempts_df = attempts_df[(attempts_df[column] != \"--\")]\n",
    "for column in contact_df.columns:\n",
    "    contact_df = contact_df[(contact_df[column] != \"--\")]"
   ],
   "metadata": {
    "collapsed": false
   }
  },
  {
   "cell_type": "code",
   "execution_count": 5,
   "outputs": [
    {
     "data": {
      "text/plain": "Index(['timestamp', 'message_direction', 'Voter ID'], dtype='object')"
     },
     "execution_count": 5,
     "metadata": {},
     "output_type": "execute_result"
    }
   ],
   "source": [
    "attempts_df.columns"
   ],
   "metadata": {
    "collapsed": false
   }
  },
  {
   "cell_type": "code",
   "execution_count": 6,
   "outputs": [
    {
     "data": {
      "text/plain": "Index(['Question Sent', 'question_Response_type', 'response to question',\n       'updated_at', 'Voter ID'],\n      dtype='object')"
     },
     "execution_count": 6,
     "metadata": {},
     "output_type": "execute_result"
    }
   ],
   "source": [
    "contact_df.columns"
   ],
   "metadata": {
    "collapsed": false
   }
  },
  {
   "cell_type": "code",
   "execution_count": 7,
   "outputs": [
    {
     "name": "stdout",
     "output_type": "stream",
     "text": [
      "419\n"
     ]
    },
    {
     "data": {
      "text/plain": "{'Planning to vote?': {'No': 44, 'Yes': 200},\n 'Do you have the proper ID to vote?': {'Yes': 49, 'No': 2, 'Unsure': 3},\n 'Texting correct person': {'Contacted': 142,\n  'Refused': 53,\n  'Wrong Number': 111,\n  'Spanish': 2,\n  'Other Language': 1},\n 'Texting the Right Person': {'Wrong Number': 8}}"
     },
     "execution_count": 7,
     "metadata": {},
     "output_type": "execute_result"
    }
   ],
   "source": [
    "# dictionary mapping {Question : {available response : count}}\n",
    "question_response = {}\n",
    "total_count = 0\n",
    "\n",
    "# initialize questions\n",
    "for question in contact_df[\"Question Sent\"].unique():\n",
    "    question_response[question] = {}\n",
    "\n",
    "# initialize available responses per question\n",
    "for row_idx in range(0, contact_df.shape[0]):\n",
    "    # 'Question Sent' is col 0, 'response to question' is col 2\n",
    "    question = contact_df.iloc[row_idx, 0]\n",
    "    response = contact_df.iloc[row_idx, 2]\n",
    "    if response not in question_response[question]:\n",
    "        question_response[question][response] = 1\n",
    "        total_count += 1\n",
    "    else:\n",
    "        question_response[question][response] += 1\n",
    "        total_count += 1\n",
    "\n",
    "print(contact_df[\"Voter ID\"].unique().shape[0])\n",
    "question_response"
   ],
   "metadata": {
    "collapsed": false
   }
  },
  {
   "cell_type": "code",
   "execution_count": 8,
   "outputs": [
    {
     "data": {
      "text/plain": "            Contact Success\nVoter ID                   \n1000205011                0\n1000433225                0\n1000746850                0\n1001614539                0\n1004309873                0\n...                     ...\n2193193194                0\n2193193564                0\n2193194892                0\n2193225791                0\n2193229462                0\n\n[10167 rows x 1 columns]",
      "text/html": "<div>\n<style scoped>\n    .dataframe tbody tr th:only-of-type {\n        vertical-align: middle;\n    }\n\n    .dataframe tbody tr th {\n        vertical-align: top;\n    }\n\n    .dataframe thead th {\n        text-align: right;\n    }\n</style>\n<table border=\"1\" class=\"dataframe\">\n  <thead>\n    <tr style=\"text-align: right;\">\n      <th></th>\n      <th>Contact Success</th>\n    </tr>\n    <tr>\n      <th>Voter ID</th>\n      <th></th>\n    </tr>\n  </thead>\n  <tbody>\n    <tr>\n      <th>1000205011</th>\n      <td>0</td>\n    </tr>\n    <tr>\n      <th>1000433225</th>\n      <td>0</td>\n    </tr>\n    <tr>\n      <th>1000746850</th>\n      <td>0</td>\n    </tr>\n    <tr>\n      <th>1001614539</th>\n      <td>0</td>\n    </tr>\n    <tr>\n      <th>1004309873</th>\n      <td>0</td>\n    </tr>\n    <tr>\n      <th>...</th>\n      <td>...</td>\n    </tr>\n    <tr>\n      <th>2193193194</th>\n      <td>0</td>\n    </tr>\n    <tr>\n      <th>2193193564</th>\n      <td>0</td>\n    </tr>\n    <tr>\n      <th>2193194892</th>\n      <td>0</td>\n    </tr>\n    <tr>\n      <th>2193225791</th>\n      <td>0</td>\n    </tr>\n    <tr>\n      <th>2193229462</th>\n      <td>0</td>\n    </tr>\n  </tbody>\n</table>\n<p>10167 rows × 1 columns</p>\n</div>"
     },
     "execution_count": 8,
     "metadata": {},
     "output_type": "execute_result"
    }
   ],
   "source": [
    "# Define [successful contact] as someone who was contacted correctly and communicated with correctly\n",
    "# Success at getting a response from reaching out, ie contact success rate\n",
    "all_contacts_df = pd.DataFrame({\"Voter ID\": attempts_df[\"Voter ID\"].unique()})\n",
    "all_contacts_df[\"Contact Success\"] = 0 # changed to 1 later if success\n",
    "all_contacts_df = all_contacts_df.set_index('Voter ID')\n",
    "all_contacts_df = all_contacts_df.sort_values(by=[\"Voter ID\"])\n",
    "contact_df = contact_df.sort_values(by=[\"Voter ID\"])\n",
    "\n",
    "# Voter ID is column 4 in contact_df\n",
    "prev_voterID = contact_df.iloc[0, 4]\n",
    "responses = {}\n",
    "success = False # list of questions this person was asked over text\n",
    "\n",
    "for row_idx in range(0, contact_df.shape[0]):\n",
    "    curr_voterID = contact_df.iloc[row_idx, 4]\n",
    "    # if new person, analyze the boolean and reset boolean\n",
    "    if curr_voterID != prev_voterID:\n",
    "        # analyze previous voterID. If success, change in all_contacts_df\n",
    "        # various booleans\n",
    "        not_plan_to_vote = 'Planning to vote?' in responses and responses['Planning to vote?']=='No'\n",
    "        no_proper_ID = 'Do you have the proper ID to vote?' in responses and responses['Do you have the proper ID to vote?']!=\"Yes\"\n",
    "        not_correct_person = 'Texting correct person' in responses and responses['Texting correct person']!='Contacted'\n",
    "        not_right_person = 'Texting the Right Person' in responses and responses['Texting the Right Person'] == 'Wrong Number'\n",
    "        if not_correct_person or not_right_person:\n",
    "            success = False\n",
    "        if success:\n",
    "            all_contacts_df.loc[prev_voterID, \"Contact Success\"] = 1\n",
    "        success = True # default boolean to False\n",
    "        responses = {} # reset responses\n",
    "\n",
    "    prev_voterID = curr_voterID\n",
    "\n",
    "all_contacts_df\n"
   ],
   "metadata": {
    "collapsed": false
   }
  },
  {
   "cell_type": "code",
   "execution_count": 9,
   "outputs": [
    {
     "data": {
      "text/plain": "0"
     },
     "execution_count": 9,
     "metadata": {},
     "output_type": "execute_result"
    }
   ],
   "source": [
    "# sanity check to make sure all voter ids in contacts_df are also in all_contacts_df\n",
    "count = 0\n",
    "for voter_id in contact_df[\"Voter ID\"].unique():\n",
    "    if voter_id not in all_contacts_df.index:\n",
    "        count += 1\n",
    "count"
   ],
   "metadata": {
    "collapsed": false
   }
  },
  {
   "cell_type": "code",
   "execution_count": 10,
   "outputs": [
    {
     "data": {
      "text/plain": "417"
     },
     "execution_count": 10,
     "metadata": {},
     "output_type": "execute_result"
    }
   ],
   "source": [
    "# sanity check for previous block:\n",
    "num_success = 0\n",
    "for row_idx in range(0, all_contacts_df.shape[0]):\n",
    "    if all_contacts_df.iloc[row_idx, 0] == 1:\n",
    "        num_success += 1\n",
    "num_success"
   ],
   "metadata": {
    "collapsed": false
   }
  },
  {
   "cell_type": "code",
   "execution_count": 11,
   "outputs": [
    {
     "name": "stdout",
     "output_type": "stream",
     "text": [
      "overall success rate =  0.0410150486869283\n"
     ]
    },
    {
     "data": {
      "text/plain": "            Contact Success\nVoter ID                   \n1041564212                1\n1043427395                1\n1061260847                1\n1090798474                1\n1102265724                1\n...                     ...\n2187464508                1\n2188489848                1\n2188895084                1\n2190963915                1\n2192097772                1\n\n[417 rows x 1 columns]",
      "text/html": "<div>\n<style scoped>\n    .dataframe tbody tr th:only-of-type {\n        vertical-align: middle;\n    }\n\n    .dataframe tbody tr th {\n        vertical-align: top;\n    }\n\n    .dataframe thead th {\n        text-align: right;\n    }\n</style>\n<table border=\"1\" class=\"dataframe\">\n  <thead>\n    <tr style=\"text-align: right;\">\n      <th></th>\n      <th>Contact Success</th>\n    </tr>\n    <tr>\n      <th>Voter ID</th>\n      <th></th>\n    </tr>\n  </thead>\n  <tbody>\n    <tr>\n      <th>1041564212</th>\n      <td>1</td>\n    </tr>\n    <tr>\n      <th>1043427395</th>\n      <td>1</td>\n    </tr>\n    <tr>\n      <th>1061260847</th>\n      <td>1</td>\n    </tr>\n    <tr>\n      <th>1090798474</th>\n      <td>1</td>\n    </tr>\n    <tr>\n      <th>1102265724</th>\n      <td>1</td>\n    </tr>\n    <tr>\n      <th>...</th>\n      <td>...</td>\n    </tr>\n    <tr>\n      <th>2187464508</th>\n      <td>1</td>\n    </tr>\n    <tr>\n      <th>2188489848</th>\n      <td>1</td>\n    </tr>\n    <tr>\n      <th>2188895084</th>\n      <td>1</td>\n    </tr>\n    <tr>\n      <th>2190963915</th>\n      <td>1</td>\n    </tr>\n    <tr>\n      <th>2192097772</th>\n      <td>1</td>\n    </tr>\n  </tbody>\n</table>\n<p>417 rows × 1 columns</p>\n</div>"
     },
     "execution_count": 11,
     "metadata": {},
     "output_type": "execute_result"
    }
   ],
   "source": [
    "# get final percentage of successfully contacted people and a df of just the people that were successfully contacted\n",
    "successful_contact_df = all_contacts_df[all_contacts_df[\"Contact Success\"] == 1]\n",
    "print(\"overall success rate = \", num_success / all_contacts_df.shape[0])\n",
    "successful_contact_df"
   ],
   "metadata": {
    "collapsed": false
   }
  },
  {
   "cell_type": "code",
   "execution_count": 13,
   "outputs": [
    {
     "name": "stdout",
     "output_type": "stream",
     "text": [
      "total money spent =  610.02\n",
      "money lost =  585.0\n",
      "money well spent =  25.02\n",
      "['1041564212', '1043427395', '1061260847', '1090798474', '1102265724', '1102280756', '1102288308', '1102288536', '1102298111', '1102311807', '1102319268', '1102321583', '1102334131', '1102344612', '1102360166', '1102365946', '1102381918', '1102620312', '1102720198', '1102751899', '1102752620', '1102816366', '1103032468', '1103045569', '1103049503', '1103057439', '1103069179', '1103073300', '1103089342', '1103127098', '1103138424', '1103153910', '1103154991', '1103184488', '1103201280', '1103258780', '1103577879', '1103719255', '1103942287', '1104208603', '1104248838', '1105733695', '1105752187', '1106105154', '1106126760', '1106633023', '1107270162', '1107676492', '1108045610', '1108782112', '1108798354', '1108806210', '1108812362', '1108858411', '1108858843', '1108866721', '1108882899', '1109169518', '1109243921', '1109255465', '1110122288', '1110198951', '1110263301', '1110277717', '1110286460', '1110411952', '1110611620', '1110643497', '1110651623', '1110652562', '1110661687', '1110692399', '1111151694', '1111158835', '1111191615', '1111191881', '1111231838', '1111255278', '1111255975', '1111618703', '1111808332', '1111867431', '1111875457', '1111908026', '1111908536', '1111917349', '1111925709', '1112319408', '1112335062', '1112344251', '1112360223', '1112367208', '1112405725', '1112409138', '1112440204', '1112447565', '1113618459', '1114347291', '1114456561', '1115348020', '1116682880', '1116752541', '1117512992', '1119034836', '1119042735', '1119135839', '1119171499', '1119178625', '1119196179', '1119196450', '1119203572', '1119203720', '1119204682', '1119212312', '1119221376', '1119228792', '1119246041', '1119261824', '1119270440', '1120726932', '1120760568', '1121548492', '1139406086', '1141587149', '1141625239', '1143689024', '1144441025', '1144604993', '1146383861', '1146975175', '1147395094', '1148131140', '1148208389', '1150168717', '1150208587', '1152945860', '1153469261', '1153898979', '1154460658', '1155432468', '1155812895', '1161169183', '1161348367', '1161412283', '1161501775', '1162148270', '1165085303', '1165291223', '1165576025', '1165908532', '1166780672', '1166972720', '1168952924', '1170768035', '1170995500', '1171605085', '1171719970', '1172193629', '1173592928', '1174165311', '1174343263', '1178785322', '1178861174', '1179530270', '1180202548', '1180830706', '1180944303', '1182258260', '1182742261', '1184967878', '1185767924', '1185864040', '1186407421', '1190947639', '1191750415', '1191751143', '1191763736', '1192974121', '1193844815', '1194319002', '1194643862', '1195738882', '1197920010', '1198113685', '1198738881', '1198810419', '1199050727', '1199159941', '1199403770', '1199871982', '1200487540', '1201571112', '1202267390', '1202694895', '1202793966', '1202853695', '1203158450', '1203400517', '1203537020', '1203986932', '1204283030', '1204663731', '1204715957', '1205765177', '1206397977', '1206764191', '1207207117', '1208260799', '1209132777', '1209727599', '1211833266', '1211848700', '1211986401', '1212405184', '1212626025', '1213440415', '1213614231', '1213880708', '1215627954', '1215905465', '1215959963', '1216330175', '1217401649', '1218141326', '1218577067', '1218915157', '1219036818', '1219219737', '1219443894', '1219762392', '1219808733', '1221129800', '2000958971', '2001172788', '2001223992', '2001517398', '2001754649', '2001837800', '2001841219', '2001847389', '2002175359', '2002798857', '2003071645', '2120401652', '2120598774', '2120800245', '2120801813', '2120974530', '2121376034', '2121986057', '2122292797', '2123590810', '2123888864', '2124067974', '2124361041', '2124474180', '2125071671', '2125235479', '2125750267', '2126045152', '2126486961', '2127199855', '2127338973', '2127416288', '2127690180', '2128428129', '2128652897', '2129093618', '2129640847', '2129784328', '2130591985', '2131031342', '2131950131', '2132768912', '2132769271', '2133921550', '2134155854', '2134220242', '2134295256', '2134300790', '2135421529', '2135517680', '2135987729', '2136456260', '2136520888', '2136828547', '2137340175', '2137839489', '2137849233', '2137960816', '2138313939', '2139834299', '2141428519', '2141580130', '2142760737', '2142823775', '2142826236', '2142826431', '2142826844', '2143328607', '2143516585', '2144166624', '2144382222', '2144591279', '2144885988', '2144886134', '2145147379', '2145890750', '2145999724', '2147097720', '2147097909', '2147157806', '2147856514', '2148237430', '2148807335', '2148862425', '2149455358', '2151274650', '2152579211', '2153867488', '2153967188', '2154751218', '2156135067', '2156159044', '2156536367', '2156642512', '2156760673', '2157246237', '2158213781', '2159200426', '2159450097', '2159537610', '2159634239', '2159827993', '2159944904', '2160115952', '2160116587', '2160740712', '2160909174', '2161374110', '2161674570', '2161753482', '2161853526', '2162840308', '2163935663', '2164259200', '2164272012', '2164339329', '2164483443', '2164685932', '2164686043', '2165258760', '2166127963', '2168552480', '2168555917', '2169368741', '2169855630', '2170447899', '2172452515', '2173951744', '2173966653', '2174314541', '2174747904', '2175663638', '2175743823', '2175932661', '2175950837', '2176204793', '2176309561', '2176486300', '2176521321', '2177336319', '2177338793', '2177616562', '2177942933', '2178429858', '2178529666', '2178650679', '2178815602', '2179192264', '2179356118', '2179361930', '2179460491', '2179587769', '2179784020', '2180332978', '2180450496', '2183834737', '2184005065', '2184040842', '2184244286', '2184343544', '2184567301', '2184738511', '2185306361', '2185423267', '2185544720', '2185547466', '2185581064', '2185681343', '2185681452', '2185766468', '2185766508', '2186281584', '2186290710', '2186425136', '2186508278', '2186509165', '2186670142', '2187101020', '2187267253', '2187323984', '2187464508', '2188489848', '2188895084', '2190963915', '2192097772']\n",
      "Voters we texted successfully (got response): 417\n",
      "Nov voters who turned out: 997440\n",
      "Voters we contacted who turned out:  52\n",
      "Cost to get One Person To Vote: $ 11.731153846153846\n"
     ]
    }
   ],
   "source": [
    "#Money Spending\n",
    "totalMoneySpent = all_contacts_df.shape[0] * 0.06\n",
    "moneyLost = (1-num_success / all_contacts_df.shape[0]) * all_contacts_df.shape[0] * 0.06\n",
    "moneyWellSpent = num_success / all_contacts_df.shape[0] * all_contacts_df.shape[0] * 0.06\n",
    "\n",
    "\n",
    "print(\"total money spent = \", totalMoneySpent)\n",
    "print(\"money lost = \", moneyLost)\n",
    "print(\"money well spent = \", moneyWellSpent)\n",
    "success_by_location = {}\n",
    "\n",
    "nov_votes_id = pd.read_csv(\"../cleaned_nov_votes.csv\")[\"Voter ID\"].tolist()\n",
    "successful_contact_id = successful_contact_df.index.tolist()\n",
    "print(successful_contact_id)\n",
    "#Voter turn out\n",
    "countVoterTurnedOut = 0\n",
    "print(\"Voters we texted successfully (got response):\", len(successful_contact_id))\n",
    "print(\"Nov voters who turned out:\", len(nov_votes_id))\n",
    "\n",
    "for voterId in successful_contact_id:\n",
    "   if (int(voterId) in nov_votes_id):\n",
    "       countVoterTurnedOut += 1\n",
    "\n",
    "print(\"Voters we contacted who turned out: \", countVoterTurnedOut)\n",
    "\n",
    "costToGetOnePersonToVote = totalMoneySpent/countVoterTurnedOut\n",
    "\n",
    "print(\"Cost to get One Person To Vote: $\", costToGetOnePersonToVote)"
   ],
   "metadata": {
    "collapsed": false
   }
  },
  {
   "cell_type": "code",
   "execution_count": 12,
   "outputs": [],
   "source": [],
   "metadata": {
    "collapsed": false
   }
  }
 ],
 "metadata": {
  "kernelspec": {
   "display_name": "Python 3",
   "language": "python",
   "name": "python3"
  },
  "language_info": {
   "codemirror_mode": {
    "name": "ipython",
    "version": 2
   },
   "file_extension": ".py",
   "mimetype": "text/x-python",
   "name": "python",
   "nbconvert_exporter": "python",
   "pygments_lexer": "ipython2",
   "version": "2.7.6"
  }
 },
 "nbformat": 4,
 "nbformat_minor": 0
}