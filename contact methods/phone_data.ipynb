{
 "cells": [
  {
   "cell_type": "code",
   "execution_count": 2,
   "metadata": {},
   "outputs": [
    {
     "name": "stdout",
     "output_type": "stream",
     "text": [
      "percent talked to of those contacted: 0.2516297262059974\n",
      "percent contacted: 0.03210158367812812\n",
      "total percent talked to: 0.027536025110572123\n"
     ]
    }
   ],
   "source": [
    "import pandas as pd\n",
    "import openpyxl\n",
    "\n",
    "# read datasets\n",
    "df_atm = pd.read_csv(\"phone_attempts.csv\")\n",
    "df_con = pd.read_csv(\"phone_contacts.csv\")\n",
    "\n",
    "\n",
    "# contact data with voter id and contact outcome\n",
    "df_con = df_con[[\"Voter ID\", \"Contact Outcome\"]]\n",
    "df_con.head()\n",
    "\n",
    "# remove null Voter ID\n",
    "df_con = df_con[(df_con['Voter ID'] != \"--\")]\n",
    "\n",
    "df_con_talk = df_con[(df_con['Contact Outcome'] == \"Talking to Correct Person\")]\n",
    "df_con_talk.head()\n",
    "\n",
    "\n",
    "\n",
    "# attempt data with voter id and result\n",
    "df_atm = df_atm[[\"Voter ID\", \"Result\"]]\n",
    "\n",
    "# remove null Voter ID\n",
    "df_atm = df_atm[(df_atm['Voter ID'] != \"--\")]\n",
    "\n",
    "# possible results = {'Answering Machine', 'Busy Signal', 'Deliverability Error', 'Fax', 'No Answer', 'No Contact', 'Talked to Correct Person', 'Remove number from list'}\n",
    "df_atm_con = df_atm[(df_atm['Result'] == \"Talked to Correct Person\")]\n",
    "\n",
    "\n",
    "\n",
    "# calculate those talked to of the people who answered their phone\n",
    "talk_percent = df_con_talk.shape[0] / df_con.shape[0]\n",
    "print(\"percent talked to of those contacted:\", talk_percent)\n",
    "\n",
    "# calculate those contacted to of the total phone call attempts\n",
    "contact_percent = df_atm_con.shape[0] / df_atm.shape[0]\n",
    "print(\"percent contacted:\", contact_percent)\n",
    "\n",
    "# calculate those talked to of the total phone call attempts\n",
    "talk_total_percent = df_con_talk.shape[0] / df_atm.shape[0]\n",
    "print(\"total percent talked to:\", talk_total_percent)\n",
    "\n",
    "# print(df_atm)\n",
    "# print(df_con_talk)\n",
    "# print(df_atm_con)\n"
   ]
  },
  {
   "cell_type": "code",
   "execution_count": 8,
   "metadata": {},
   "outputs": [
    {
     "name": "stdout",
     "output_type": "stream",
     "text": [
      "total money spent =  99.71000000000001\n",
      "money lost =  74.62\n",
      "money well spent =  25.09\n",
      "Voters we phoned successfully (got response): 193\n",
      "Nov voters who turned out: 997440\n",
      "Voters we phoned who turned out:  37\n",
      "Cost to get One Person To Vote: $ 2.694864864864865\n"
     ]
    }
   ],
   "source": [
    "#Cost\n",
    "totalMoneySpent = df_con.shape[0] * 0.13\n",
    "moneyLost = (1-df_con_talk.shape[0] / df_con.shape[0]) * df_con.shape[0] * 0.13\n",
    "moneyWellSpent = df_con_talk.shape[0] / df_con.shape[0] * df_con.shape[0] * 0.13\n",
    "\n",
    "print(\"total money spent = \", totalMoneySpent)\n",
    "print(\"money lost = \", moneyLost)\n",
    "print(\"money well spent = \", moneyWellSpent)\n",
    "success_by_location = {}\n",
    "\n",
    "#Voter turn out\n",
    "countVoterTurnedOut = 0\n",
    "nov_votes_id = pd.read_csv(\"../cleaned_nov_votes.csv\")[\"Voter ID\"].tolist()\n",
    "\n",
    "print(\"Voters we phoned successfully (got response):\", len(df_con_talk))\n",
    "print(\"Nov voters who turned out:\", len(nov_votes_id))\n",
    "\n",
    "for voterId in df_con_talk[\"Voter ID\"]:\n",
    "   if (int(voterId) in nov_votes_id):\n",
    "       countVoterTurnedOut += 1\n",
    "\n",
    "print(\"Voters we phoned who turned out: \", countVoterTurnedOut)\n",
    "\n",
    "costToGetOnePersonToVote = totalMoneySpent/countVoterTurnedOut\n",
    "\n",
    "print(\"Cost to get One Person To Vote: $\", costToGetOnePersonToVote)"
   ]
  },
  {
   "cell_type": "code",
   "execution_count": 7,
   "outputs": [
    {
     "data": {
      "text/plain": "        Voter ID            Contact Outcome\n3     2136761568  Talking to Correct Person\n11    2150555717  Talking to Correct Person\n13    2145726178  Talking to Correct Person\n16    2123166729  Talking to Correct Person\n17    2185583493  Talking to Correct Person\n...          ...                        ...\n1406  2151974486  Talking to Correct Person\n1411  1222199811  Talking to Correct Person\n1414  2159866127  Talking to Correct Person\n1416  2135861668  Talking to Correct Person\n1418  2136748292  Talking to Correct Person\n\n[193 rows x 2 columns]",
      "text/html": "<div>\n<style scoped>\n    .dataframe tbody tr th:only-of-type {\n        vertical-align: middle;\n    }\n\n    .dataframe tbody tr th {\n        vertical-align: top;\n    }\n\n    .dataframe thead th {\n        text-align: right;\n    }\n</style>\n<table border=\"1\" class=\"dataframe\">\n  <thead>\n    <tr style=\"text-align: right;\">\n      <th></th>\n      <th>Voter ID</th>\n      <th>Contact Outcome</th>\n    </tr>\n  </thead>\n  <tbody>\n    <tr>\n      <th>3</th>\n      <td>2136761568</td>\n      <td>Talking to Correct Person</td>\n    </tr>\n    <tr>\n      <th>11</th>\n      <td>2150555717</td>\n      <td>Talking to Correct Person</td>\n    </tr>\n    <tr>\n      <th>13</th>\n      <td>2145726178</td>\n      <td>Talking to Correct Person</td>\n    </tr>\n    <tr>\n      <th>16</th>\n      <td>2123166729</td>\n      <td>Talking to Correct Person</td>\n    </tr>\n    <tr>\n      <th>17</th>\n      <td>2185583493</td>\n      <td>Talking to Correct Person</td>\n    </tr>\n    <tr>\n      <th>...</th>\n      <td>...</td>\n      <td>...</td>\n    </tr>\n    <tr>\n      <th>1406</th>\n      <td>2151974486</td>\n      <td>Talking to Correct Person</td>\n    </tr>\n    <tr>\n      <th>1411</th>\n      <td>1222199811</td>\n      <td>Talking to Correct Person</td>\n    </tr>\n    <tr>\n      <th>1414</th>\n      <td>2159866127</td>\n      <td>Talking to Correct Person</td>\n    </tr>\n    <tr>\n      <th>1416</th>\n      <td>2135861668</td>\n      <td>Talking to Correct Person</td>\n    </tr>\n    <tr>\n      <th>1418</th>\n      <td>2136748292</td>\n      <td>Talking to Correct Person</td>\n    </tr>\n  </tbody>\n</table>\n<p>193 rows × 2 columns</p>\n</div>"
     },
     "execution_count": 7,
     "metadata": {},
     "output_type": "execute_result"
    }
   ],
   "source": [
    "df_con_talk"
   ],
   "metadata": {
    "collapsed": false
   }
  },
  {
   "cell_type": "code",
   "execution_count": null,
   "outputs": [],
   "source": [],
   "metadata": {
    "collapsed": false
   }
  }
 ],
 "metadata": {
  "kernelspec": {
   "display_name": "Python 3",
   "language": "python",
   "name": "python3"
  },
  "language_info": {
   "codemirror_mode": {
    "name": "ipython",
    "version": 3
   },
   "file_extension": ".py",
   "mimetype": "text/x-python",
   "name": "python",
   "nbconvert_exporter": "python",
   "pygments_lexer": "ipython3",
   "version": "3.8.7"
  },
  "orig_nbformat": 4,
  "vscode": {
   "interpreter": {
    "hash": "90a7f9520ca2f95413c06593289b2edf029b485162a529c14f6348c27ec1b663"
   }
  }
 },
 "nbformat": 4,
 "nbformat_minor": 2
}
