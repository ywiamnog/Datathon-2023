{
 "cells": [
  {
   "cell_type": "code",
   "execution_count": 11,
   "metadata": {},
   "outputs": [
    {
     "name": "stdout",
     "output_type": "stream",
     "text": [
      "percent talked to of those contacted: 0.2516297262059974\n",
      "percent contacted: 0.03210158367812812\n",
      "total percent talked to: 0.027536025110572123\n"
     ]
    }
   ],
   "source": [
    "import pandas as pd\n",
    "import openpyxl\n",
    "\n",
    "# read datasets\n",
    "df_atm = pd.read_csv(\"phone_attempts.csv\")\n",
    "df_con = pd.read_csv(\"phone_contacts.csv\")\n",
    "\n",
    "\n",
    "# contact data with voter id and contact outcome\n",
    "df_con = df_con[[\"Voter ID\", \"Contact Outcome\"]]\n",
    "df_con.head()\n",
    "\n",
    "# remove null Voter ID\n",
    "df_con = df_con[(df_con['Voter ID'] != \"--\")]\n",
    "\n",
    "df_con_talk = df_con[(df_con['Contact Outcome'] == \"Talking to Correct Person\")]\n",
    "df_con_talk.head()\n",
    "\n",
    "\n",
    "\n",
    "# attempt data with voter id and result\n",
    "df_atm = df_atm[[\"Voter ID\", \"Result\"]]\n",
    "\n",
    "# remove null Voter ID\n",
    "df_atm = df_atm[(df_atm['Voter ID'] != \"--\")]\n",
    "\n",
    "# possible results = {'Answering Machine', 'Busy Signal', 'Deliverability Error', 'Fax', 'No Answer', 'No Contact', 'Talked to Correct Person', 'Remove number from list'}\n",
    "df_atm_con = df_atm[(df_atm['Result'] == \"Talked to Correct Person\")]\n",
    "\n",
    "\n",
    "\n",
    "# calculate those talked to of the people who answered their phone\n",
    "talk_percent = df_con_talk.shape[0] / df_con.shape[0]\n",
    "print(\"percent talked to of those contacted:\", talk_percent)\n",
    "\n",
    "# calculate those contacted to of the total phone call attempts\n",
    "contact_percent = df_atm_con.shape[0] / df_atm.shape[0]\n",
    "print(\"percent contacted:\", contact_percent)\n",
    "\n",
    "# calculate those talked to of the total phone call attempts\n",
    "talk_total_percent = df_con_talk.shape[0] / df_atm.shape[0]\n",
    "print(\"total percent talked to:\", talk_total_percent)\n",
    "\n",
    "# print(df_atm)\n",
    "# print(df_con_talk)\n",
    "# print(df_atm_con)\n"
   ]
  },
  {
   "cell_type": "code",
   "execution_count": 12,
   "metadata": {},
   "outputs": [
    {
     "name": "stdout",
     "output_type": "stream",
     "text": [
      "total money spent =  99.71000000000001\n",
      "money lost =  74.62\n",
      "money well spent =  25.09\n",
      "Voters we phoned successfully (got response): 193\n",
      "Nov voters who turned out: 997440\n",
      "Voters we phoned who turned out:  37\n",
      "Cost to get One Person To Vote: $ 2.694864864864865\n"
     ]
    }
   ],
   "source": [
    "#Cost\n",
    "totalMoneySpent = df_con.shape[0] * 0.13\n",
    "moneyLost = (1-df_con_talk.shape[0] / df_con.shape[0]) * df_con.shape[0] * 0.13\n",
    "moneyWellSpent = df_con_talk.shape[0] / df_con.shape[0] * df_con.shape[0] * 0.13\n",
    "\n",
    "print(\"total money spent = \", totalMoneySpent)\n",
    "print(\"money lost = \", moneyLost)\n",
    "print(\"money well spent = \", moneyWellSpent)\n",
    "success_by_location = {}\n",
    "\n",
    "#Voter turn out\n",
    "countVoterTurnedOut = 0\n",
    "nov_votes_id = pd.read_csv(\"../cleaned_nov_votes.csv\")[\"Voter ID\"].tolist()\n",
    "\n",
    "print(\"Voters we phoned successfully (got response):\", len(df_con_talk))\n",
    "print(\"Nov voters who turned out:\", len(nov_votes_id))\n",
    "\n",
    "for voterId in df_con_talk[\"Voter ID\"]:\n",
    "   if (int(voterId) in nov_votes_id):\n",
    "       countVoterTurnedOut += 1\n",
    "\n",
    "print(\"Voters we phoned who turned out: \", countVoterTurnedOut)\n",
    "\n",
    "costToGetOnePersonToVote = totalMoneySpent/countVoterTurnedOut\n",
    "\n",
    "print(\"Cost to get One Person To Vote: $\", costToGetOnePersonToVote)"
   ]
  },
  {
   "cell_type": "code",
   "execution_count": 13,
   "outputs": [
    {
     "name": "stdout",
     "output_type": "stream",
     "text": [
      "Voter ID           object\n",
      "Contact Outcome    object\n",
      "dtype: object\n"
     ]
    },
    {
     "name": "stderr",
     "output_type": "stream",
     "text": [
      "C:\\Users\\praha\\AppData\\Local\\Temp\\ipykernel_18368\\1518280992.py:5: SettingWithCopyWarning: \n",
      "A value is trying to be set on a copy of a slice from a DataFrame.\n",
      "Try using .loc[row_indexer,col_indexer] = value instead\n",
      "\n",
      "See the caveats in the documentation: https://pandas.pydata.org/pandas-docs/stable/user_guide/indexing.html#returning-a-view-versus-a-copy\n",
      "  df_con_talk['Voter ID'] = df_con_talk['Voter ID'].astype(str).astype(float)\n"
     ]
    }
   ],
   "source": [
    "df_con_talk.head()\n",
    "print(df_con_talk.dtypes)\n",
    "# ov_nov_vote = ov_nov_vote[(ov_nov_vote[\"ZIP\"] != \"***\")]\n",
    "# ov_nov_vote = ov_nov_vote[(ov_nov_vote[\"ZIP\"] != \"HOUSTON\")]\n",
    "df_con_talk['Voter ID'] = df_con_talk['Voter ID'].astype(str).astype(float)\n",
    "df_con_talk.to_csv('cleaned_phone_contacts.csv')"
   ],
   "metadata": {
    "collapsed": false,
    "pycharm": {
     "name": "#%%\n"
    }
   }
  },
  {
   "cell_type": "code",
   "execution_count": 13,
   "outputs": [],
   "source": [],
   "metadata": {
    "collapsed": false
   }
  },
  {
   "cell_type": "code",
   "execution_count": 13,
   "outputs": [],
   "source": [],
   "metadata": {
    "collapsed": false,
    "pycharm": {
     "name": "#%%\n"
    }
   }
  }
 ],
 "metadata": {
  "kernelspec": {
   "display_name": "Python 3",
   "language": "python",
   "name": "python3"
  },
  "language_info": {
   "codemirror_mode": {
    "name": "ipython",
    "version": 3
   },
   "file_extension": ".py",
   "mimetype": "text/x-python",
   "name": "python",
   "nbconvert_exporter": "python",
   "pygments_lexer": "ipython3",
   "version": "3.8.7"
  },
  "orig_nbformat": 4,
  "vscode": {
   "interpreter": {
    "hash": "90a7f9520ca2f95413c06593289b2edf029b485162a529c14f6348c27ec1b663"
   }
  }
 },
 "nbformat": 4,
 "nbformat_minor": 2
}