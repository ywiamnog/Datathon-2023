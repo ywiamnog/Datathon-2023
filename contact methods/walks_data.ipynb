{
 "cells": [
  {
   "cell_type": "code",
   "execution_count": 32,
   "metadata": {
    "collapsed": true
   },
   "outputs": [],
   "source": [
    "import pandas as pd\n",
    "import openpyxl"
   ]
  },
  {
   "cell_type": "code",
   "execution_count": 0,
   "outputs": [],
   "source": [
    "df = pd.read_excel(\"BlockWalking_Effort.xlsx\")\n",
    "totalNumWalks = df.shape[0]\n",
    "\n",
    "# data with id, zipcode, and result\n",
    "df_loc_res = df[[\"VoterID\", \"zip\", \"result of attempt\"]]\n",
    "df_loc_res.head()\n",
    "df_loc_res = df_loc_res[(df_loc_res['result of attempt'] == \"Canvassed\")]\n",
    "# possible results = {'Canvassed', 'Moved', 'Inaccessible', 'Deceased', 'Refused', 'Other Language'}\n",
    "foo = df_loc_res['result of attempt'].tolist()\n",
    "df_loc_res.head()\n",
    "\n",
    "ov_success_rate = df_loc_res.shape[0]/df.shape[0]\n",
    "print(\"overall success rate = \", ov_success_rate)"
   ],
   "metadata": {
    "collapsed": false
   }
  },
  {
   "cell_type": "code",
   "execution_count": 59,
   "outputs": [
    {
     "name": "stdout",
     "output_type": "stream",
     "text": [
      "overall success rate =  0.16643159379407615\n",
      "total money spent =  14180.0\n",
      "money lost =  11820.0\n",
      "money well spent =  2360.0\n"
     ]
    }
   ],
   "source": [
    "#Costs\n",
    "\n",
    "totalMoneySpent = totalNumWalks* 2.00\n",
    "moneyLost = (1-ov_success_rate) * totalNumWalks * 2.00\n",
    "moneyWellSpent = ov_success_rate * totalNumWalks * 2.00\n",
    "\n",
    "print(\"total money spent = \", totalMoneySpent)\n",
    "print(\"money lost = \", moneyLost)\n",
    "print(\"money well spent = \", moneyWellSpent)\n",
    "success_by_location = {}"
   ],
   "metadata": {
    "collapsed": false
   }
  },
  {
   "cell_type": "code",
   "execution_count": 34,
   "outputs": [],
   "source": [],
   "metadata": {
    "collapsed": false
   }
  },
  {
   "cell_type": "code",
   "execution_count": 36,
   "outputs": [],
   "source": [],
   "metadata": {
    "collapsed": false
   }
  },
  {
   "cell_type": "code",
   "execution_count": 36,
   "outputs": [],
   "source": [],
   "metadata": {
    "collapsed": false
   }
  }
 ],
 "metadata": {
  "kernelspec": {
   "display_name": "Python 3",
   "language": "python",
   "name": "python3"
  },
  "language_info": {
   "codemirror_mode": {
    "name": "ipython",
    "version": 2
   },
   "file_extension": ".py",
   "mimetype": "text/x-python",
   "name": "python",
   "nbconvert_exporter": "python",
   "pygments_lexer": "ipython2",
   "version": "2.7.6"
  }
 },
 "nbformat": 4,
 "nbformat_minor": 0
}
