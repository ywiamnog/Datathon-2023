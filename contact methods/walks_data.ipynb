{
 "cells": [
  {
   "cell_type": "code",
   "execution_count": 9,
   "metadata": {
    "collapsed": true
   },
   "outputs": [],
   "source": [
    "import pandas as pd\n",
    "import openpyxl"
   ]
  },
  {
   "cell_type": "code",
   "execution_count": 10,
   "outputs": [
    {
     "name": "stdout",
     "output_type": "stream",
     "text": [
      "overall success rate =  0.16643159379407615\n",
      "VoterID              float64\n",
      "result of attempt     object\n",
      "dtype: object\n"
     ]
    }
   ],
   "source": [
    "df = pd.read_excel(\"../BlockWalking_Effort.xlsx\")\n",
    "totalNumWalks = df.shape[0]\n",
    "\n",
    "# data with id, zipcode, and result\n",
    "df_res = df[[\"VoterID\", \"result of attempt\"]]\n",
    "df_res.head()\n",
    "df_total = df_res[df_res[\"VoterID\"] != \"--\"]\n",
    "df_res = df_res[(df_res['result of attempt'] == \"Canvassed\")]\n",
    "df_con = df_res[(df_res[\"VoterID\"] != \"--\")]\n",
    "# possible results = {'Canvassed', 'Moved', 'Inaccessible', 'Deceased', 'Refused', 'Other Language'}\n",
    "foo = df_res['result of attempt'].tolist()\n",
    "df_res.head()\n",
    "\n",
    "ov_success_rate = df_res.shape[0] / df.shape[0]\n",
    "print(\"overall success rate = \", ov_success_rate)\n",
    "df_con.to_csv('canvassed_walk.csv')\n",
    "df_total.to_csv('total_walk.csv')\n",
    "print(df_res.dtypes)"
   ],
   "metadata": {
    "collapsed": false
   }
  },
  {
   "cell_type": "code",
   "execution_count": 11,
   "outputs": [
    {
     "name": "stdout",
     "output_type": "stream",
     "text": [
      "total money spent =  14180.0\n",
      "money lost =  11820.0\n",
      "money well spent =  2360.0\n"
     ]
    }
   ],
   "source": [
    "#Costs\n",
    "\n",
    "totalMoneySpent = totalNumWalks* 2.00\n",
    "moneyLost = (1-ov_success_rate) * totalNumWalks * 2.00\n",
    "moneyWellSpent = ov_success_rate * totalNumWalks * 2.00\n",
    "\n",
    "print(\"total money spent = \", totalMoneySpent)\n",
    "print(\"money lost = \", moneyLost)\n",
    "print(\"money well spent = \", moneyWellSpent)\n",
    "success_by_location = {}"
   ],
   "metadata": {
    "collapsed": false
   }
  },
  {
   "cell_type": "code",
   "execution_count": 11,
   "outputs": [],
   "source": [],
   "metadata": {
    "collapsed": false
   }
  },
  {
   "cell_type": "code",
   "execution_count": 11,
   "outputs": [],
   "source": [],
   "metadata": {
    "collapsed": false
   }
  }
 ],
 "metadata": {
  "kernelspec": {
   "display_name": "Python 3",
   "language": "python",
   "name": "python3"
  },
  "language_info": {
   "codemirror_mode": {
    "name": "ipython",
    "version": 2
   },
   "file_extension": ".py",
   "mimetype": "text/x-python",
   "name": "python",
   "nbconvert_exporter": "python",
   "pygments_lexer": "ipython2",
   "version": "2.7.6"
  }
 },
 "nbformat": 4,
 "nbformat_minor": 0
}
