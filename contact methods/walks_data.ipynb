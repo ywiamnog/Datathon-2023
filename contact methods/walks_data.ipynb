{
 "cells": [
  {
   "cell_type": "code",
   "execution_count": 5,
   "metadata": {
    "collapsed": true
   },
   "outputs": [],
   "source": [
    "import pandas as pd\n",
    "import openpyxl"
   ]
  },
  {
   "cell_type": "code",
   "execution_count": 6,
   "outputs": [
    {
     "name": "stdout",
     "output_type": "stream",
     "text": [
      "overall success rate =  0.16643159379407615\n",
      "VoterID              float64\n",
      "result of attempt     object\n",
      "dtype: object\n"
     ]
    }
   ],
   "source": [
    "df = pd.read_excel(\"../BlockWalking_Effort.xlsx\")\n",
    "totalNumWalks = df.shape[0]\n",
    "\n",
    "# data with id, zipcode, and result\n",
    "df_res = df[[\"VoterID\", \"result of attempt\"]]\n",
    "df_res.head()\n",
    "df_res = df_res[(df_res['result of attempt'] == \"Canvassed\")]\n",
    "df_con = df_res[(df_res[\"VoterID\"] != \"--\")]\n",
    "# possible results = {'Canvassed', 'Moved', 'Inaccessible', 'Deceased', 'Refused', 'Other Language'}\n",
    "foo = df_res['result of attempt'].tolist()\n",
    "df_res.head()\n",
    "\n",
    "ov_success_rate = df_res.shape[0] / df.shape[0]\n",
    "print(\"overall success rate = \", ov_success_rate)\n",
    "print(df_res.dtypes)"
   ],
   "metadata": {
    "collapsed": false
   }
  },
  {
   "cell_type": "code",
   "execution_count": 9,
   "outputs": [
    {
     "name": "stdout",
     "output_type": "stream",
     "text": [
      "total money spent =  14180.0\n",
      "money lost =  11820.0\n",
      "money well spent =  2360.0\n"
     ]
    }
   ],
   "source": [
    "#Money Spending\n",
    "\n",
    "totalMoneySpent = totalNumWalks* 2.00\n",
    "moneyLost = (1-ov_success_rate) * totalNumWalks * 2.00\n",
    "moneyWellSpent = ov_success_rate * totalNumWalks * 2.00\n",
    "\n",
    "print(\"total money spent = \", totalMoneySpent)\n",
    "print(\"money lost = \", moneyLost)\n",
    "print(\"money well spent = \", moneyWellSpent)\n",
    "success_by_location = {}"
   ],
   "metadata": {
    "collapsed": false
   }
  },
  {
   "cell_type": "code",
   "execution_count": 12,
   "outputs": [
    {
     "name": "stdout",
     "output_type": "stream",
     "text": [
      "Voters we block walked successfully: 1180\n",
      "Nov voters who turned out: 997440\n"
     ]
    }
   ],
   "source": [
    "#Voter turn out\n",
    "nov_votes_id = pd.read_csv(\"../cleaned_nov_votes.csv\")[\"Voter ID\"].tolist()\n",
    "\n",
    "countVoterTurnedOut = 0\n",
    "print(\"Voters we block walked successfully:\", df_res.shape[0])\n",
    "print(\"Total Nov voters who turned out:\", len(nov_votes_id))"
   ],
   "metadata": {
    "collapsed": false
   }
  },
  {
   "cell_type": "code",
   "execution_count": 17,
   "outputs": [
    {
     "name": "stdout",
     "output_type": "stream",
     "text": [
      "Voters we contacted who turned out:  92\n",
      "Cost to get One Person To Vote: $ 154.1304347826087\n"
     ]
    }
   ],
   "source": [
    "for voterId in df_res[\"VoterID\"]:\n",
    "    if (voterId in nov_votes_id):\n",
    "        countVoterTurnedOut += 1\n",
    "\n",
    "print(\"Voters we contacted who turned out: \", countVoterTurnedOut)\n",
    "costToGetOnePersonToVote = totalMoneySpent/countVoterTurnedOut\n",
    "print(\"Cost to get One Person To Vote: $\", costToGetOnePersonToVote)"
   ],
   "metadata": {
    "collapsed": false
   }
  },
  {
   "cell_type": "code",
   "execution_count": 17,
   "outputs": [],
   "source": [],
   "metadata": {
    "collapsed": false
   }
  },
  {
   "cell_type": "code",
   "execution_count": 7,
   "outputs": [],
   "source": [],
   "metadata": {
    "collapsed": false
   }
  }
 ],
 "metadata": {
  "kernelspec": {
   "display_name": "Python 3",
   "language": "python",
   "name": "python3"
  },
  "language_info": {
   "codemirror_mode": {
    "name": "ipython",
    "version": 2
   },
   "file_extension": ".py",
   "mimetype": "text/x-python",
   "name": "python",
   "nbconvert_exporter": "python",
   "pygments_lexer": "ipython2",
   "version": "2.7.6"
  }
 },
 "nbformat": 4,
 "nbformat_minor": 0
}
