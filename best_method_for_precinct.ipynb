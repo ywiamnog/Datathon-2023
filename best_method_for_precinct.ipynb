{
 "cells": [
  {
   "cell_type": "code",
   "execution_count": 13,
   "metadata": {
    "collapsed": true
   },
   "outputs": [],
   "source": [
    "import pandas as pd\n",
    "import openpyxl\n",
    "import seaborn as sns"
   ]
  },
  {
   "cell_type": "code",
   "execution_count": 14,
   "outputs": [],
   "source": [
    "# which method was best per precinct\n",
    "\n",
    "# list of voters contacted through phone\n",
    "phone_contacts = pd.read_csv(\"contact methods/phone_contacts.csv\")\n",
    "phone_contacts = phone_contacts[phone_contacts[\"Contact Outcome\"] == \"Talking to Correct Person\"]\n",
    "phone_contacts.drop_duplicates()\n",
    "phone_contacts.dropna()\n",
    "phone_ids = phone_contacts[\"Voter ID\"].values.tolist()\n",
    "\n",
    "# list of voters contacted through text\n",
    "text_contacts = pd.read_csv(\"contact methods/success_text_data.csv\")\n",
    "text_ids = text_contacts[\"Voter ID\"].values.tolist()\n",
    "\n",
    "# list of voters contacted through walks\n",
    "walk_contacts = pd.read_csv(\"contact methods/canvassed_walk.csv\")\n",
    "walk_ids = walk_contacts[\"VoterID\"].values.tolist()\n",
    "\n",
    "# list of voters contacted through mail\n",
    "# turnout dicts\n",
    "phone_turnout = {}\n",
    "text_turnout = {}\n",
    "walk_turnout = {}\n",
    "mail_turnout = {}"
   ],
   "metadata": {
    "collapsed": false,
    "pycharm": {
     "name": "#%%\n"
    }
   }
  },
  {
   "cell_type": "code",
   "execution_count": 17,
   "outputs": [
    {
     "name": "stdout",
     "output_type": "stream",
     "text": [
      "0.12470023980815348\n",
      "0.0027874564459930314\n"
     ]
    }
   ],
   "source": [
    "voters = pd.read_csv(\"cleaned_nov_votes.csv\")\n",
    "text_voters = voters[voters[\"Voter ID\"].isin(text_ids)]\n",
    "phone_voters = voters[voters[\"Voter ID\"].isin(phone_ids)]\n",
    "walk_voters = voters[voters[\"Voter ID\"].isin(walk_ids)]\n",
    "\n",
    "text_outreach = pd.read_csv(\"contact methods/TextBanking_Efforts.xlsx - Attempts.csv\")\n",
    "text_contact_conversion = text_voters.shape[0]/len(text_ids)\n",
    "text_overall_conversion = text_voters.shape[0]/text_outreach.shape[0]\n",
    "print(text_contact_conversion)\n",
    "print(text_overall_conversion)"
   ],
   "metadata": {
    "collapsed": false,
    "pycharm": {
     "name": "#%%\n"
    }
   }
  },
  {
   "cell_type": "code",
   "execution_count": 14,
   "outputs": [],
   "source": [],
   "metadata": {
    "collapsed": false,
    "pycharm": {
     "name": "#%%\n"
    }
   }
  }
 ],
 "metadata": {
  "kernelspec": {
   "display_name": "Python 3",
   "language": "python",
   "name": "python3"
  },
  "language_info": {
   "codemirror_mode": {
    "name": "ipython",
    "version": 2
   },
   "file_extension": ".py",
   "mimetype": "text/x-python",
   "name": "python",
   "nbconvert_exporter": "python",
   "pygments_lexer": "ipython2",
   "version": "2.7.6"
  }
 },
 "nbformat": 4,
 "nbformat_minor": 0
}