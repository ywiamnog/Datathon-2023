{
 "cells": [
  {
   "cell_type": "code",
   "execution_count": null,
   "outputs": [],
   "source": [
    "# PURPOSE: to determine the zipcodes that are most similar"
   ],
   "metadata": {
    "collapsed": false,
    "pycharm": {
     "name": "#%%\n"
    }
   }
  },
  {
   "cell_type": "code",
   "execution_count": 129,
   "outputs": [],
   "source": [
    "# imports\n",
    "import numpy as np\n",
    "import pandas as pd\n",
    "import seaborn as sns\n",
    "from matplotlib import pyplot as plt\n",
    "sns.set()\n",
    "# import math"
   ],
   "metadata": {
    "collapsed": false,
    "pycharm": {
     "name": "#%%\n"
    }
   }
  },
  {
   "cell_type": "code",
   "execution_count": 130,
   "outputs": [
    {
     "data": {
      "text/plain": "                    Median Household Income  Median Age\nZip Codesort column                                    \n77002                              $87,888         37.2\n77003                              $86,707         36.1\n77004                              $55,289         35.9\n77005                             $185,974         37.8\n77006                              $90,467         41.3\n...                                     ...         ...\n77562                              $64,515         36.1\n77571                              $87,410         36.9\n77586                             $110,253         41.3\n77587                              $50,779         31.1\n77598                              $63,727         35.1\n\n[133 rows x 2 columns]",
      "text/html": "<div>\n<style scoped>\n    .dataframe tbody tr th:only-of-type {\n        vertical-align: middle;\n    }\n\n    .dataframe tbody tr th {\n        vertical-align: top;\n    }\n\n    .dataframe thead th {\n        text-align: right;\n    }\n</style>\n<table border=\"1\" class=\"dataframe\">\n  <thead>\n    <tr style=\"text-align: right;\">\n      <th></th>\n      <th>Median Household Income</th>\n      <th>Median Age</th>\n    </tr>\n    <tr>\n      <th>Zip Codesort column</th>\n      <th></th>\n      <th></th>\n    </tr>\n  </thead>\n  <tbody>\n    <tr>\n      <th>77002</th>\n      <td>$87,888</td>\n      <td>37.2</td>\n    </tr>\n    <tr>\n      <th>77003</th>\n      <td>$86,707</td>\n      <td>36.1</td>\n    </tr>\n    <tr>\n      <th>77004</th>\n      <td>$55,289</td>\n      <td>35.9</td>\n    </tr>\n    <tr>\n      <th>77005</th>\n      <td>$185,974</td>\n      <td>37.8</td>\n    </tr>\n    <tr>\n      <th>77006</th>\n      <td>$90,467</td>\n      <td>41.3</td>\n    </tr>\n    <tr>\n      <th>...</th>\n      <td>...</td>\n      <td>...</td>\n    </tr>\n    <tr>\n      <th>77562</th>\n      <td>$64,515</td>\n      <td>36.1</td>\n    </tr>\n    <tr>\n      <th>77571</th>\n      <td>$87,410</td>\n      <td>36.9</td>\n    </tr>\n    <tr>\n      <th>77586</th>\n      <td>$110,253</td>\n      <td>41.3</td>\n    </tr>\n    <tr>\n      <th>77587</th>\n      <td>$50,779</td>\n      <td>31.1</td>\n    </tr>\n    <tr>\n      <th>77598</th>\n      <td>$63,727</td>\n      <td>35.1</td>\n    </tr>\n  </tbody>\n</table>\n<p>133 rows × 2 columns</p>\n</div>"
     },
     "execution_count": 130,
     "metadata": {},
     "output_type": "execute_result"
    }
   ],
   "source": [
    "# Read in data. Data is already clean.\n",
    "precinct_data = pd.read_csv(\"ExternalDataByZipcode.csv\")\n",
    "income_age_data = precinct_data[[\"Zip Codesort column\", \"Median Household Income\", \"Median Age\"]]\n",
    "income_age_data = income_age_data.set_index('Zip Codesort column')\n",
    "income_age_data"
   ],
   "metadata": {
    "collapsed": false,
    "pycharm": {
     "name": "#%%\n"
    }
   }
  },
  {
   "cell_type": "code",
   "execution_count": null,
   "outputs": [],
   "source": [
    "import re\n",
    "\n",
    "# Create matrix where every entry is the absolute difference in med household income in precinct\n",
    "incomes = pd.DataFrame(columns=income_age_data.index, index=income_age_data.index)\n",
    "max_income_diff = 0 # keep track of max diff for normalization purposes later on\n",
    "for zipcode2 in incomes.columns:\n",
    "    for zipcode1 in incomes.index:\n",
    "        med_income1_str = income_age_data.loc[zipcode1, \"Median Household Income\"]\n",
    "        med_income2_str = income_age_data.loc[zipcode2, \"Median Household Income\"]\n",
    "        # remove non-numeric vals from med_income1 and med_income2\n",
    "        med_income1 = re.sub('[^0-9]','', med_income1_str)\n",
    "        med_income2 = re.sub('[^0-9]','', med_income2_str)\n",
    "\n",
    "        incomes.loc[zipcode1, zipcode2] = abs(float(med_income1) - float(med_income2))\n",
    "        max_income_diff = max(max_income_diff, abs(float(med_income1) - float(med_income2)))\n",
    "    # cast to floats\n",
    "    incomes[zipcode2] = pd.to_numeric(incomes[zipcode2])\n",
    "\n",
    "# Normalize incomes matrix\n",
    "for zipcode1 in incomes.index:\n",
    "    for zipcode2 in incomes.columns:\n",
    "        incomes.loc[zipcode1, zipcode2] /= max_income_diff\n",
    "\n",
    "incomes"
   ],
   "metadata": {
    "collapsed": false,
    "pycharm": {
     "name": "#%%\n",
     "is_executing": true
    }
   }
  },
  {
   "cell_type": "code",
   "execution_count": null,
   "outputs": [],
   "source": [
    "# Create matrix where every entry is the absolute difference in med age in precinct\n",
    "ages = pd.DataFrame(columns=income_age_data.index, index=income_age_data.index)\n",
    "max_age_diff = 0 # keep track of max diff for normalization purposes later on\n",
    "for zipcode2 in ages.columns:\n",
    "    for zipcode1 in ages.index:\n",
    "        med_age1 = income_age_data.loc[zipcode1, \"Median Age\"]\n",
    "        med_age2 = income_age_data.loc[zipcode2, \"Median Age\"]\n",
    "        ages.loc[zipcode1, zipcode2] = abs(float(med_age1) - float(med_age2))\n",
    "        max_age_diff = max(max_age_diff, abs(float(med_age1) - float(med_age2)))\n",
    "    # cast to floats\n",
    "    ages[zipcode2] = pd.to_numeric(ages[zipcode2])\n",
    "\n",
    "# Normalize ages matrix\n",
    "for zipcode1 in ages.index:\n",
    "    for zipcode2 in ages.columns:\n",
    "        ages.loc[zipcode1, zipcode2] /= max_age_diff\n",
    "ages"
   ],
   "metadata": {
    "collapsed": false,
    "pycharm": {
     "name": "#%%\n",
     "is_executing": true
    }
   }
  },
  {
   "cell_type": "code",
   "execution_count": null,
   "outputs": [],
   "source": [
    "# make side-by-side heat map of med household income and med age\n",
    "income_hmap = sns.heatmap(incomes, robust=True, cmap=sns.color_palette(\"mako\", as_cmap=True))\n",
    "income_hmap"
   ],
   "metadata": {
    "collapsed": false,
    "pycharm": {
     "name": "#%%\n",
     "is_executing": true
    }
   }
  },
  {
   "cell_type": "code",
   "execution_count": null,
   "outputs": [],
   "source": [
    "# make side-by-side heat map of med household income and med age\n",
    "age_hmap = sns.heatmap(ages, robust=True, cmap=sns.color_palette(\"mako\", as_cmap=True))\n",
    "age_hmap"
   ],
   "metadata": {
    "collapsed": false,
    "pycharm": {
     "name": "#%%\n",
     "is_executing": true
    }
   }
  },
  {
   "cell_type": "code",
   "execution_count": null,
   "outputs": [],
   "source": [
    "hmaps, axes = plt.subplots(1, 2, figsize=(28, 10))\n",
    "hmaps.suptitle(\"Comparison of Zipcodes by Demographic\")\n",
    "sns.heatmap(ax=axes[0], data=incomes, robust=True, cmap=sns.color_palette(\"mako\", as_cmap=True))\n",
    "sns.heatmap(ax=axes[1], data=ages, robust=True, cmap=sns.color_palette(\"mako\", as_cmap=True))\n",
    "axes[0].set_title(\"Difference in Median Household Income\")\n",
    "axes[1].set_title(\"Difference in Median Age\")"
   ],
   "metadata": {
    "collapsed": false,
    "pycharm": {
     "name": "#%%\n",
     "is_executing": true
    }
   }
  },
  {
   "cell_type": "code",
   "execution_count": null,
   "outputs": [],
   "source": [],
   "metadata": {
    "collapsed": false,
    "pycharm": {
     "name": "#%%\n"
    }
   }
  }
 ],
 "metadata": {
  "kernelspec": {
   "display_name": "Python 3",
   "language": "python",
   "name": "python3"
  },
  "language_info": {
   "codemirror_mode": {
    "name": "ipython",
    "version": 2
   },
   "file_extension": ".py",
   "mimetype": "text/x-python",
   "name": "python",
   "nbconvert_exporter": "python",
   "pygments_lexer": "ipython2",
   "version": "2.7.6"
  }
 },
 "nbformat": 4,
 "nbformat_minor": 0
}