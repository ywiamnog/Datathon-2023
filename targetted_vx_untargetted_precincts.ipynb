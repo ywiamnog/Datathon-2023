{
 "cells": [
  {
   "cell_type": "code",
   "execution_count": 1,
   "metadata": {
    "collapsed": true
   },
   "outputs": [],
   "source": [
    "targetted_precincts = [9, 10, 11, 44, 46, 285, 347, 379, 411, 430, 431, 664, 752, 792, 793]\n",
    "untargetted_precincts = [472, 789, 99, 112, 524, 725, 141, 725, 595, 487, 261,320, 49, 320, 141]"
   ]
  },
  {
   "cell_type": "code",
   "execution_count": null,
   "outputs": [],
   "source": [],
   "metadata": {
    "collapsed": false,
    "pycharm": {
     "name": "#%%\n"
    }
   }
  },
  {
   "cell_type": "code",
   "execution_count": 6,
   "outputs": [
    {
     "ename": "ModuleNotFoundError",
     "evalue": "No module named 'comparing_precincts_by_income_age_race'",
     "output_type": "error",
     "traceback": [
      "\u001B[1;31m---------------------------------------------------------------------------\u001B[0m",
      "\u001B[1;31mModuleNotFoundError\u001B[0m                       Traceback (most recent call last)",
      "Cell \u001B[1;32mIn[6], line 3\u001B[0m\n\u001B[0;32m      1\u001B[0m \u001B[38;5;28;01mfrom\u001B[39;00m \u001B[38;5;21;01mzipcode_to_precinct\u001B[39;00m \u001B[38;5;28;01mimport\u001B[39;00m prec_to_zip_dict\n\u001B[0;32m      2\u001B[0m \u001B[38;5;28;01mfrom\u001B[39;00m \u001B[38;5;21;01mzipcode_to_precinct\u001B[39;00m \u001B[38;5;28;01mimport\u001B[39;00m zip_to_prec_dict\n\u001B[1;32m----> 3\u001B[0m \u001B[38;5;28;01mfrom\u001B[39;00m \u001B[38;5;21;01mcomparing_precincts_by_income_age_race\u001B[39;00m \u001B[38;5;28;01mimport\u001B[39;00m races_pvalue\n",
      "\u001B[1;31mModuleNotFoundError\u001B[0m: No module named 'comparing_precincts_by_income_age_race'"
     ]
    }
   ],
   "source": [
    "from zipcode_to_precinct import prec_to_zip_dict\n",
    "from zipcode_to_precinct import zip_to_prec_dict\n",
    "from comparing_precincts_by_income_age_race import races_pvalue"
   ],
   "metadata": {
    "collapsed": false,
    "pycharm": {
     "name": "#%%\n"
    }
   }
  },
  {
   "cell_type": "code",
   "execution_count": 4,
   "outputs": [
    {
     "data": {
      "text/plain": "[{77002, 77003},\n {77003, 77011},\n {77011},\n {77009, 77026},\n {77009, 77026},\n {77087},\n {77034, 77504},\n {77087},\n {77039, 77093},\n {77074, 77081},\n {77081},\n {77039},\n {77504},\n {77039},\n {77034, 77504}]"
     },
     "execution_count": 4,
     "metadata": {},
     "output_type": "execute_result"
    }
   ],
   "source": [
    "targetted_zipcodes = []\n",
    "for precinct in targetted_precincts:\n",
    "    targetted_zipcodes.append(prec_to_zip_dict[precinct])\n",
    "    # for zipcode in prec_to_zip_dict[precinct]:\n",
    "    #     targetted_zipcodes.append\n",
    "        # targetted_zipcodes.add(zipcode)\n",
    "targetted_zipcodes"
   ],
   "metadata": {
    "collapsed": false,
    "pycharm": {
     "name": "#%%\n"
    }
   }
  },
  {
   "cell_type": "code",
   "execution_count": 5,
   "outputs": [
    {
     "ename": "SyntaxError",
     "evalue": "unexpected EOF while parsing (84578921.py, line 20)",
     "output_type": "error",
     "traceback": [
      "\u001B[1;36m  Cell \u001B[1;32mIn[5], line 20\u001B[1;36m\u001B[0m\n\u001B[1;33m    for precinct in targetted_precincts:\u001B[0m\n\u001B[1;37m                                        ^\u001B[0m\n\u001B[1;31mSyntaxError\u001B[0m\u001B[1;31m:\u001B[0m unexpected EOF while parsing\n"
     ]
    }
   ],
   "source": [
    "# for each targetted zipcode, find the best fit zipcode that is not in targetted_zipcodes\n",
    "\n",
    "# dict mapping targetted zipcode : most similar non-targetted zipcode by racial distribution similarity\n",
    "similar_race_zipcode = {}\n",
    "\n",
    "for zipcode in targetted_zipcodes:\n",
    "    greatest_p_value = 0\n",
    "    most_similar = zipcode\n",
    "    for zipcode_other in races_pvalue.columns:\n",
    "        # don't consider targetted zipcodes\n",
    "        if zipcode_other in targetted_zipcodes:\n",
    "            continue\n",
    "        if races_pvalue.loc[zipcode, zipcode_other] > greatest_p_value:\n",
    "            greatest_p_value = races_pvalue.loc[zipcode, zipcode_other]\n",
    "            most_similar = zipcode_other\n",
    "    similar_race_zipcode[zipcode] = most_similar\n",
    "\n",
    "# from zipcode, get precinct\n",
    "similar_race_precinct = {} # map precinct : most similar non=targetted precinct by racial distributino similarity\n",
    "for precinct in targetted_precincts:"
   ],
   "metadata": {
    "collapsed": false,
    "pycharm": {
     "name": "#%%\n"
    }
   }
  },
  {
   "cell_type": "code",
   "execution_count": null,
   "outputs": [],
   "source": [
    "print(zip_to_prec_dict[77373], zip_to_prec_dict[77044])"
   ],
   "metadata": {
    "collapsed": false,
    "pycharm": {
     "name": "#%%\n"
    }
   }
  }
 ],
 "metadata": {
  "kernelspec": {
   "display_name": "Python 3",
   "language": "python",
   "name": "python3"
  },
  "language_info": {
   "codemirror_mode": {
    "name": "ipython",
    "version": 2
   },
   "file_extension": ".py",
   "mimetype": "text/x-python",
   "name": "python",
   "nbconvert_exporter": "python",
   "pygments_lexer": "ipython2",
   "version": "2.7.6"
  }
 },
 "nbformat": 4,
 "nbformat_minor": 0
}