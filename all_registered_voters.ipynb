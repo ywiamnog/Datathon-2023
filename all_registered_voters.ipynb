{
 "cells": [
  {
   "cell_type": "code",
   "execution_count": 1,
   "metadata": {
    "collapsed": false,
    "pycharm": {
     "name": "#%%\n"
    }
   },
   "outputs": [],
   "source": [
    "import pandas as pd\n",
    "import openpyxl"
   ]
  },
  {
   "cell_type": "code",
   "execution_count": 2,
   "metadata": {
    "collapsed": false,
    "pycharm": {
     "name": "#%%\n"
    }
   },
   "outputs": [
    {
     "name": "stdout",
     "output_type": "stream",
     "text": [
      "   Status    Voter ID  Precinct     City    Zip Effective Date\n",
      "0  Active  1103621098        64  HOUSTON  77011      8/10/2007\n",
      "1  Active  1103589060        64  HOUSTON  77011       1/1/2002\n",
      "2  Active  1103644217        64  HOUSTON  77011      9/20/2003\n",
      "3  Active  2194491142        64  HOUSTON  77011      9/17/2022\n",
      "4  Active  1217953890        64  HOUSTON  77011      12/3/2020\n"
     ]
    }
   ],
   "source": [
    "df_all_1 = pd.read_csv(\"AllRegistered_Harris_1of3.csv\")\n",
    "df_all_2 = pd.read_csv(\"AllRegistered_Harris_2of3.csv\")\n",
    "df_all_3 = pd.read_csv(\"AllRegistered_Harris_3of3.csv\")\n",
    "df_nov = pd.read_csv(\"cleaned_nov_votes.csv\")\n",
    "print(df_all_1.head())"
   ]
  },
  {
   "cell_type": "code",
   "execution_count": 3,
   "metadata": {
    "collapsed": false,
    "pycharm": {
     "name": "#%%\n"
    }
   },
   "outputs": [
    {
     "name": "stdout",
     "output_type": "stream",
     "text": [
      "   Status    Voter ID  Precinct     City    Zip Effective Date\n",
      "0  Active  1103621098        64  HOUSTON  77011      8/10/2007\n",
      "1  Active  1103589060        64  HOUSTON  77011       1/1/2002\n",
      "2  Active  1103644217        64  HOUSTON  77011      9/20/2003\n",
      "3  Active  2194491142        64  HOUSTON  77011      9/17/2022\n",
      "4  Active  1217953890        64  HOUSTON  77011      12/3/2020\n",
      "(2411374, 4)\n"
     ]
    }
   ],
   "source": [
    "print(df_all_1.head())\n",
    "df_all_1 = df_all_1[[\"Status\", \"Voter ID\", \"Precinct\", \"Zip\"]]\n",
    "df_all_2 = df_all_2[[\"Status\", \"Voter ID\", \"Precinct\", \"Zip\"]]\n",
    "df_all_3 = df_all_3[[\"Status\", \"Voter ID\", \"Precinct\", \"Zip\"]]\n",
    "\n",
    "# total registered people\n",
    "total_registered = pd.concat([df_all_1, df_all_2, df_all_3])\n",
    "total_registered = total_registered[total_registered[\"Status\"] == \"Active\"]\n",
    "print(total_registered.shape)\n",
    "\n",
    "total_registered.to_csv('clean_all_registered.csv')"
   ]
  },
  {
   "cell_type": "code",
   "execution_count": 34,
   "metadata": {
    "collapsed": false,
    "pycharm": {
     "name": "#%%\n"
    }
   },
   "outputs": [],
   "source": [
    "# overall average voter turnout\n",
    "ov_voter_pctg = df_nov.shape[0]/total_registered.shape[0]\n",
    "\n",
    "# precinct voter turnouts for our precincts\n",
    "targeted_precincts = [9, 10, 11, 44, 46, 285, 347, 379, 411, 430, 431, 664, 752, 792, 793]\n",
    "precinct_registered = total_registered[total_registered[\"Precinct\"].isin(targeted_precincts)]\n",
    "precinct_voted = df_nov[df_nov[\"Voting Precinct\"].isin(targeted_precincts)]\n",
    "prec_voter_pctg = precinct_voted.shape[0]/precinct_registered.shape[0]\n",
    "# average voter turnout for zipcode minus precinct"
   ]
  },
  {
   "cell_type": "code",
   "execution_count": 32,
   "metadata": {
    "collapsed": false,
    "pycharm": {
     "name": "#%%\n"
    }
   },
   "outputs": [
    {
     "name": "stdout",
     "output_type": "stream",
     "text": [
      "0.4136396925570235\n",
      "0.3094498064234691\n"
     ]
    }
   ],
   "source": [
    "print(ov_voter_pctg)\n",
    "print(prec_voter_pctg)"
   ]
  },
  {
   "cell_type": "code",
   "execution_count": 28,
   "metadata": {
    "collapsed": false,
    "pycharm": {
     "name": "#%%\n"
    }
   },
   "outputs": [],
   "source": []
  }
 ],
 "metadata": {
  "kernelspec": {
   "display_name": "Python 3",
   "language": "python",
   "name": "python3"
  },
  "language_info": {
   "codemirror_mode": {
    "name": "ipython",
    "version": 3
   },
   "file_extension": ".py",
   "mimetype": "text/x-python",
   "name": "python",
   "nbconvert_exporter": "python",
   "pygments_lexer": "ipython3",
   "version": "3.8.7"
  },
  "vscode": {
   "interpreter": {
    "hash": "90a7f9520ca2f95413c06593289b2edf029b485162a529c14f6348c27ec1b663"
   }
  }
 },
 "nbformat": 4,
 "nbformat_minor": 0
}
