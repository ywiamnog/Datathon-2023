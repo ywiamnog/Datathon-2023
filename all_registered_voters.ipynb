{
 "cells": [
  {
   "cell_type": "code",
   "execution_count": 1,
   "outputs": [],
   "source": [
    "import pandas as pd\n",
    "import openpyxl"
   ],
   "metadata": {
    "collapsed": false,
    "pycharm": {
     "name": "#%%\n"
    }
   }
  },
  {
   "cell_type": "code",
   "execution_count": 2,
   "outputs": [],
   "source": [
    "df_all_1 = pd.read_csv(\"AllRegistered_Harris_1of3.csv\")\n",
    "df_all_2 = pd.read_csv(\"AllRegistered_Harris_2of3.csv\")\n",
    "df_all_3 = pd.read_csv(\"AllRegistered_Harris_3of3.csv\")"
   ],
   "metadata": {
    "collapsed": false,
    "pycharm": {
     "name": "#%%\n"
    }
   }
  },
  {
   "cell_type": "code",
   "execution_count": 5,
   "outputs": [
    {
     "name": "stdout",
     "output_type": "stream",
     "text": [
      "Status            object\n",
      "Voter ID           int64\n",
      "Precinct           int64\n",
      "City              object\n",
      "Zip                int64\n",
      "Effective Date    object\n",
      "dtype: object\n"
     ]
    }
   ],
   "source": [
    "df_all_1.head()\n",
    "df_all_1 = df_all_1[[\"Voter ID\", \"Precinct\", \"Zip\"]]\n",
    "df_all_2 = df_all_2[[\"Voter ID\", \"Precinct\", \"Zip\"]]\n",
    "df_all_3 = df_all_3[[\"Voter ID\", \"Precinct\", \"Zip\"]]\n",
    "\n",
    "# total registered people\n",
    "total_registered = pd.concat([df_all_1, df_all_2, df_all_3])\n"
   ],
   "metadata": {
    "collapsed": false,
    "pycharm": {
     "name": "#%%\n"
    }
   }
  },
  {
   "cell_type": "code",
   "execution_count": 6,
   "outputs": [],
   "source": [
    "# overall average voter turnout\n",
    "# precinct voter turnouts for our precincts\n",
    "# average voter turnout for zipcode minus precinct"
   ],
   "metadata": {
    "collapsed": false,
    "pycharm": {
     "name": "#%%\n"
    }
   }
  },
  {
   "cell_type": "code",
   "execution_count": null,
   "outputs": [],
   "source": [],
   "metadata": {
    "collapsed": false,
    "pycharm": {
     "name": "#%%\n"
    }
   }
  }
 ],
 "metadata": {
  "kernelspec": {
   "display_name": "Python 3",
   "language": "python",
   "name": "python3"
  },
  "language_info": {
   "codemirror_mode": {
    "name": "ipython",
    "version": 2
   },
   "file_extension": ".py",
   "mimetype": "text/x-python",
   "name": "python",
   "nbconvert_exporter": "python",
   "pygments_lexer": "ipython2",
   "version": "2.7.6"
  }
 },
 "nbformat": 4,
 "nbformat_minor": 0
}