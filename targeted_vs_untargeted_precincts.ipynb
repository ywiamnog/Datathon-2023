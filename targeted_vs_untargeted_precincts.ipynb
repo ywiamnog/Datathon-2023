{
 "cells": [
  {
   "cell_type": "code",
   "execution_count": 12,
   "metadata": {
    "collapsed": true
   },
   "outputs": [],
   "source": [
    "targetted_precincts = [9, 10, 11, 44, 46, 285, 347, 379, 411, 430, 431, 664, 752, 792, 793]\n",
    "untargetted_precincts = [472, 789, 99, 112, 524, 725, 141, 725, 595, 487, 261,320, 49, 320, 141]"
   ]
  },
  {
   "cell_type": "code",
   "execution_count": 12,
   "outputs": [],
   "source": [],
   "metadata": {
    "collapsed": false,
    "pycharm": {
     "name": "#%%\n"
    }
   }
  },
  {
   "cell_type": "code",
   "execution_count": 13,
   "outputs": [],
   "source": [
    "from zipcode_to_precinct import prec_to_zip_dict\n",
    "from zipcode_to_precinct import zip_to_prec_dict\n",
    "from precinct_income_age_race import races_pvalue"
   ],
   "metadata": {
    "collapsed": false,
    "pycharm": {
     "name": "#%%\n"
    }
   }
  },
  {
   "cell_type": "code",
   "execution_count": null,
   "outputs": [],
   "source": [],
   "metadata": {
    "collapsed": false,
    "pycharm": {
     "name": "#%%\n"
    }
   }
  },
  {
   "cell_type": "code",
   "execution_count": 4,
   "outputs": [
    {
     "data": {
      "text/plain": "[{77002, 77003},\n {77003, 77011},\n {77011},\n {77009, 77026},\n {77009, 77026},\n {77087},\n {77034, 77504},\n {77087},\n {77039, 77093},\n {77074, 77081},\n {77081},\n {77039},\n {77504},\n {77039},\n {77034, 77504}]"
     },
     "execution_count": 4,
     "metadata": {},
     "output_type": "execute_result"
    }
   ],
   "source": [
    "targetted_zipcodes = []\n",
    "for precinct in targetted_precincts:\n",
    "    targetted_zipcodes.append(prec_to_zip_dict[precinct])\n",
    "    # for zipcode in prec_to_zip_dict[precinct]:\n",
    "    #     targetted_zipcodes.append\n",
    "        # targetted_zipcodes.add(zipcode)\n",
    "targetted_zipcodes"
   ],
   "metadata": {
    "collapsed": false,
    "pycharm": {
     "name": "#%%\n"
    }
   }
  },
  {
   "cell_type": "code",
   "execution_count": 10,
   "outputs": [
    {
     "name": "stderr",
     "output_type": "stream",
     "text": [
      "C:\\Users\\wwyim\\AppData\\Local\\Temp\\ipykernel_7204\\446090271.py:13: FutureWarning: Passing a set as an indexer is deprecated and will raise in a future version. Use a list instead.\n",
      "  if races_pvalue.loc[zipcode, zipcode_other] > greatest_p_value:\n"
     ]
    },
    {
     "ename": "ValueError",
     "evalue": "The truth value of a Series is ambiguous. Use a.empty, a.bool(), a.item(), a.any() or a.all().",
     "output_type": "error",
     "traceback": [
      "\u001B[1;31m---------------------------------------------------------------------------\u001B[0m",
      "\u001B[1;31mValueError\u001B[0m                                Traceback (most recent call last)",
      "Cell \u001B[1;32mIn[10], line 13\u001B[0m\n\u001B[0;32m     11\u001B[0m \u001B[38;5;28;01mif\u001B[39;00m zipcode_other \u001B[38;5;129;01min\u001B[39;00m targetted_zipcodes:\n\u001B[0;32m     12\u001B[0m     \u001B[38;5;28;01mcontinue\u001B[39;00m\n\u001B[1;32m---> 13\u001B[0m \u001B[38;5;28;01mif\u001B[39;00m \u001B[43mraces_pvalue\u001B[49m\u001B[38;5;241;43m.\u001B[39;49m\u001B[43mloc\u001B[49m\u001B[43m[\u001B[49m\u001B[43mzipcode\u001B[49m\u001B[43m,\u001B[49m\u001B[43m \u001B[49m\u001B[43mzipcode_other\u001B[49m\u001B[43m]\u001B[49m\u001B[43m \u001B[49m\u001B[38;5;241;43m>\u001B[39;49m\u001B[43m \u001B[49m\u001B[43mgreatest_p_value\u001B[49m:\n\u001B[0;32m     14\u001B[0m     greatest_p_value \u001B[38;5;241m=\u001B[39m races_pvalue\u001B[38;5;241m.\u001B[39mloc[zipcode, zipcode_other]\n\u001B[0;32m     15\u001B[0m     most_similar \u001B[38;5;241m=\u001B[39m zipcode_other\n",
      "File \u001B[1;32m~\\AppData\\Local\\Programs\\Python\\Python38\\lib\\site-packages\\pandas\\core\\generic.py:1527\u001B[0m, in \u001B[0;36mNDFrame.__nonzero__\u001B[1;34m(self)\u001B[0m\n\u001B[0;32m   1525\u001B[0m \u001B[38;5;129m@final\u001B[39m\n\u001B[0;32m   1526\u001B[0m \u001B[38;5;28;01mdef\u001B[39;00m \u001B[38;5;21m__nonzero__\u001B[39m(\u001B[38;5;28mself\u001B[39m):\n\u001B[1;32m-> 1527\u001B[0m     \u001B[38;5;28;01mraise\u001B[39;00m \u001B[38;5;167;01mValueError\u001B[39;00m(\n\u001B[0;32m   1528\u001B[0m         \u001B[38;5;124mf\u001B[39m\u001B[38;5;124m\"\u001B[39m\u001B[38;5;124mThe truth value of a \u001B[39m\u001B[38;5;132;01m{\u001B[39;00m\u001B[38;5;28mtype\u001B[39m(\u001B[38;5;28mself\u001B[39m)\u001B[38;5;241m.\u001B[39m\u001B[38;5;18m__name__\u001B[39m\u001B[38;5;132;01m}\u001B[39;00m\u001B[38;5;124m is ambiguous. \u001B[39m\u001B[38;5;124m\"\u001B[39m\n\u001B[0;32m   1529\u001B[0m         \u001B[38;5;124m\"\u001B[39m\u001B[38;5;124mUse a.empty, a.bool(), a.item(), a.any() or a.all().\u001B[39m\u001B[38;5;124m\"\u001B[39m\n\u001B[0;32m   1530\u001B[0m     )\n",
      "\u001B[1;31mValueError\u001B[0m: The truth value of a Series is ambiguous. Use a.empty, a.bool(), a.item(), a.any() or a.all()."
     ]
    }
   ],
   "source": [
    "# for each targetted zipcode, find the best fit zipcode that is not in targetted_zipcodes\n",
    "\n",
    "# dict mapping targetted zipcode : most similar non-targetted zipcode by racial distribution similarity\n",
    "similar_race_zipcode = {}\n",
    "\n",
    "for zipcode in targetted_zipcodes:\n",
    "    greatest_p_value = 0\n",
    "    most_similar = zipcode\n",
    "    for zipcode_other in races_pvalue.columns:\n",
    "        # don't consider targetted zipcodes\n",
    "        if zipcode_other in targetted_zipcodes:\n",
    "            continue\n",
    "        if races_pvalue.loc[zipcode, zipcode_other] > greatest_p_value:\n",
    "            greatest_p_value = races_pvalue.loc[zipcode, zipcode_other]\n",
    "            most_similar = zipcode_other\n",
    "    similar_race_zipcode[zipcode] = most_similar\n",
    "\n",
    "# from zipcode, get precinct\n",
    "similar_race_precinct = {} # map precinct : most similar non=targetted precinct by racial distributino similarity\n",
    "# for precinct in targetted_precincts:"
   ],
   "metadata": {
    "collapsed": false,
    "pycharm": {
     "name": "#%%\n"
    }
   }
  },
  {
   "cell_type": "code",
   "execution_count": null,
   "outputs": [],
   "source": [
    "print(zip_to_prec_dict[77373], zip_to_prec_dict[77044])"
   ],
   "metadata": {
    "collapsed": false,
    "pycharm": {
     "name": "#%%\n"
    }
   }
  }
 ],
 "metadata": {
  "kernelspec": {
   "display_name": "Python 3",
   "language": "python",
   "name": "python3"
  },
  "language_info": {
   "codemirror_mode": {
    "name": "ipython",
    "version": 2
   },
   "file_extension": ".py",
   "mimetype": "text/x-python",
   "name": "python",
   "nbconvert_exporter": "python",
   "pygments_lexer": "ipython2",
   "version": "2.7.6"
  }
 },
 "nbformat": 4,
 "nbformat_minor": 0
}