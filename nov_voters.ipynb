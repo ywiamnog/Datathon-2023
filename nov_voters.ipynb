{
 "cells": [
  {
   "cell_type": "code",
   "execution_count": 42,
   "metadata": {
    "collapsed": true
   },
   "outputs": [],
   "source": [
    "import numpy as np\n",
    "import pandas as pd\n",
    "import openpyxl"
   ]
  },
  {
   "cell_type": "code",
   "execution_count": 4,
   "outputs": [],
   "source": [
    "df_nov_1 = pd.read_excel(\"Nov2022_Voters_1of3.xlsx\")\n",
    "df_nov_2 = pd.read_excel(\"Nov2022_Voters_2of3.xlsx\")\n",
    "df_nov_3 = pd.read_excel(\"Nov2022_Voters_3of3.xlsx\")"
   ],
   "metadata": {
    "collapsed": false,
    "pycharm": {
     "name": "#%%\n"
    }
   }
  },
  {
   "cell_type": "code",
   "execution_count": 62,
   "outputs": [],
   "source": [
    "df_nov_1 = df_nov_1[[\"Voter ID\", \"VOTE_TYPE\", \"ZIP\", \"SEX\", \"BIRTHYEAR\", \"Voting Site\", \"Voting Precinct\"]]\n",
    "df_nov_2 = df_nov_2[[\"Voter ID\", \"VOTE_TYPE\", \"ZIP\", \"SEX\", \"BIRTHYEAR\", \"Voting Site\", \"Voting Precinct\"]]\n",
    "df_nov_3 = df_nov_3[[\"Voter ID\", \"VOTE_TYPE\", \"ZIP\", \"SEX\", \"BIRTHYEAR\", \"Voting Site\", \"Voting Precinct\"]]\n",
    "\n",
    "# generating the total list of voters\n",
    "ov_nov_vote = pd.concat([df_nov_1, df_nov_2, df_nov_3])\n",
    "\n",
    "\n",
    "# indexAge = ov_nov_vote[ (ov_nov_vote['ZIP'].isdigit()) || (ov_nov_vote['Voter ID'] <= 25) ].index\n",
    "# df.drop(indexAge , inplace=True)\n"
   ],
   "metadata": {
    "collapsed": false,
    "pycharm": {
     "name": "#%%\n"
    }
   }
  },
  {
   "cell_type": "code",
   "execution_count": 74,
   "outputs": [
    {
     "name": "stdout",
     "output_type": "stream",
     "text": [
      "(997440, 7)\n",
      "(997440, 7) version 2\n"
     ]
    }
   ],
   "source": [
    "\n",
    "ov_nov_vote.drop_duplicates(inplace = True)\n",
    "print(ov_nov_vote.shape)\n",
    "\n",
    "ov_nov_vote.dropna(inplace = True)\n",
    "\n",
    "# Cleaned ZIP\n",
    "ov_nov_vote = ov_nov_vote[(ov_nov_vote[\"ZIP\"] != \"***\")]\n",
    "ov_nov_vote = ov_nov_vote[(ov_nov_vote[\"ZIP\"] != \"HOUSTON\")]\n",
    "ov_nov_vote['ZIP'] = ov_nov_vote['ZIP'].astype(str).astype(int)\n",
    "\n",
    "# Cleaned VOTERID\n",
    "ov_nov_vote['BIRTHYEAR'] = ov_nov_vote['BIRTHYEAR'].astype(str).astype(int)\n",
    "ov_nov_vote['Voter ID'] = ov_nov_vote['Voter ID'].astype(int)\n",
    "ov_nov_vote['Voting Precinct'] = ov_nov_vote['Voting Precinct'].astype(str).astype(int)\n",
    "ov_nov_vote['VOTE_TYPE'] = ov_nov_vote['VOTE_TYPE'].astype(str)\n",
    "ov_nov_vote['Voting Site'] = ov_nov_vote['Voting Site'].astype(str)\n",
    "print(ov_nov_vote.shape, \"version 2\")\n",
    "\n",
    "# subset of targeted voters\n",
    "targeted_precincts = [9, 10, 11, 44, 46, 285, 347, 379, 411, 430, 431, 664, 752, 792, 793]\n",
    "ov_nov_vote_targeted = ov_nov_vote[(ov_nov_vote[\"Voting Precinct\"].isin(targeted_precincts))]\n",
    "ov_nov_vote_targeted.to_csv('targeted_nov_votes.csv')\n",
    "\n",
    "# overall voters\n",
    "ov_nov_vote.to_csv('cleaned_nov_votes.csv')"
   ],
   "metadata": {
    "collapsed": false,
    "pycharm": {
     "name": "#%%\n"
    }
   }
  },
  {
   "cell_type": "code",
   "execution_count": 78,
   "outputs": [
    {
     "name": "stdout",
     "output_type": "stream",
     "text": [
      "{9: 1042, 10: 625, 11: 619, 379: 685, 44: 838, 46: 811, 793: 832, 285: 770, 347: 1341, 411: 633, 430: 350, 431: 870, 664: 730, 752: 629, 792: 575}\n"
     ]
    }
   ],
   "source": [
    "# calculate voter turnout of our precincts\n",
    "targ_precinct_voter_turnout = {}\n",
    "for idx, row in ov_nov_vote_targeted.iterrows():\n",
    "    precinct = row[\"Voting Precinct\"]\n",
    "    if precinct not in targ_precinct_voter_turnout.keys():\n",
    "        targ_precinct_voter_turnout[precinct] = 1\n",
    "    else:\n",
    "        targ_precinct_voter_turnout[precinct] += 1\n",
    "print(targ_precinct_voter_turnout)"
   ],
   "metadata": {
    "collapsed": false,
    "pycharm": {
     "name": "#%%\n"
    }
   }
  },
  {
   "cell_type": "code",
   "execution_count": null,
   "outputs": [],
   "source": [],
   "metadata": {
    "collapsed": false,
    "pycharm": {
     "name": "#%%\n"
    }
   }
  }
 ],
 "metadata": {
  "kernelspec": {
   "display_name": "Python 3",
   "language": "python",
   "name": "python3"
  },
  "language_info": {
   "codemirror_mode": {
    "name": "ipython",
    "version": 2
   },
   "file_extension": ".py",
   "mimetype": "text/x-python",
   "name": "python",
   "nbconvert_exporter": "python",
   "pygments_lexer": "ipython2",
   "version": "2.7.6"
  }
 },
 "nbformat": 4,
 "nbformat_minor": 0
}