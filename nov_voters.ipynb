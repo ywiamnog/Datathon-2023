{
 "cells": [
  {
   "cell_type": "code",
   "execution_count": 42,
   "metadata": {
    "collapsed": true
   },
   "outputs": [],
   "source": [
    "import numpy as np\n",
    "import pandas as pd\n",
    "import openpyxl\n",
    "import re"
   ]
  },
  {
   "cell_type": "code",
   "execution_count": 4,
   "outputs": [],
   "source": [
    "df_nov_1 = pd.read_excel(\"Nov2022_Voters_1of3.xlsx\")\n",
    "df_nov_2 = pd.read_excel(\"Nov2022_Voters_2of3.xlsx\")\n",
    "df_nov_3 = pd.read_excel(\"Nov2022_Voters_3of3.xlsx\")"
   ],
   "metadata": {
    "collapsed": false,
    "pycharm": {
     "name": "#%%\n"
    }
   }
  },
  {
   "cell_type": "code",
   "execution_count": 62,
   "outputs": [],
   "source": [
    "df_nov_1 = df_nov_1[[\"Voter ID\", \"VOTE_TYPE\", \"ZIP\", \"SEX\", \"BIRTHYEAR\", \"Voting Site\", \"Voting Precinct\"]]\n",
    "df_nov_2 = df_nov_2[[\"Voter ID\", \"VOTE_TYPE\", \"ZIP\", \"SEX\", \"BIRTHYEAR\", \"Voting Site\", \"Voting Precinct\"]]\n",
    "df_nov_3 = df_nov_3[[\"Voter ID\", \"VOTE_TYPE\", \"ZIP\", \"SEX\", \"BIRTHYEAR\", \"Voting Site\", \"Voting Precinct\"]]\n",
    "\n",
    "# generating the total list of voters\n",
    "ov_nov_vote = pd.concat([df_nov_1, df_nov_2, df_nov_3])\n",
    "\n",
    "\n",
    "# indexAge = ov_nov_vote[ (ov_nov_vote['ZIP'].isdigit()) || (ov_nov_vote['Voter ID'] <= 25) ].index\n",
    "# df.drop(indexAge , inplace=True)\n"
   ],
   "metadata": {
    "collapsed": false,
    "pycharm": {
     "name": "#%%\n"
    }
   }
  },
  {
   "cell_type": "code",
   "execution_count": 68,
   "outputs": [
    {
     "name": "stdout",
     "output_type": "stream",
     "text": [
      "(1021263, 7)\n",
      "Voter ID            int32\n",
      "VOTE_TYPE          object\n",
      "ZIP                 int32\n",
      "SEX                object\n",
      "BIRTHYEAR           int32\n",
      "Voting Site        object\n",
      "Voting Precinct     int32\n",
      "dtype: object\n",
      "(1021263, 7)\n"
     ]
    },
    {
     "data": {
      "text/plain": "     Voter ID VOTE_TYPE    ZIP SEX  BIRTHYEAR Voting Site  Voting Precinct\n0  1102134232         P  77007   M       1952     SRD134M                1\n1  1102253308         P  77009   F       1947     SRD145M                1\n2  1102030272         E  77007   F       1944       92049                1\n4  1102253349         P  77009   M       1949     SRD145M                1\n5  1102253365         P  77009   F       1950     SRD145M                1",
      "text/html": "<div>\n<style scoped>\n    .dataframe tbody tr th:only-of-type {\n        vertical-align: middle;\n    }\n\n    .dataframe tbody tr th {\n        vertical-align: top;\n    }\n\n    .dataframe thead th {\n        text-align: right;\n    }\n</style>\n<table border=\"1\" class=\"dataframe\">\n  <thead>\n    <tr style=\"text-align: right;\">\n      <th></th>\n      <th>Voter ID</th>\n      <th>VOTE_TYPE</th>\n      <th>ZIP</th>\n      <th>SEX</th>\n      <th>BIRTHYEAR</th>\n      <th>Voting Site</th>\n      <th>Voting Precinct</th>\n    </tr>\n  </thead>\n  <tbody>\n    <tr>\n      <th>0</th>\n      <td>1102134232</td>\n      <td>P</td>\n      <td>77007</td>\n      <td>M</td>\n      <td>1952</td>\n      <td>SRD134M</td>\n      <td>1</td>\n    </tr>\n    <tr>\n      <th>1</th>\n      <td>1102253308</td>\n      <td>P</td>\n      <td>77009</td>\n      <td>F</td>\n      <td>1947</td>\n      <td>SRD145M</td>\n      <td>1</td>\n    </tr>\n    <tr>\n      <th>2</th>\n      <td>1102030272</td>\n      <td>E</td>\n      <td>77007</td>\n      <td>F</td>\n      <td>1944</td>\n      <td>92049</td>\n      <td>1</td>\n    </tr>\n    <tr>\n      <th>4</th>\n      <td>1102253349</td>\n      <td>P</td>\n      <td>77009</td>\n      <td>M</td>\n      <td>1949</td>\n      <td>SRD145M</td>\n      <td>1</td>\n    </tr>\n    <tr>\n      <th>5</th>\n      <td>1102253365</td>\n      <td>P</td>\n      <td>77009</td>\n      <td>F</td>\n      <td>1950</td>\n      <td>SRD145M</td>\n      <td>1</td>\n    </tr>\n  </tbody>\n</table>\n</div>"
     },
     "execution_count": 68,
     "metadata": {},
     "output_type": "execute_result"
    }
   ],
   "source": [
    "\n",
    "ov_nov_vote.drop_duplicates(inplace = True)\n",
    "print(ov_nov_vote.shape)\n",
    "\n",
    "ov_nov_vote.dropna(inplace = True)\n",
    "\n",
    "# Cleaned ZIP\n",
    "ov_nov_vote = ov_nov_vote[(ov_nov_vote[\"ZIP\"] != \"***\")]\n",
    "ov_nov_vote = ov_nov_vote[(ov_nov_vote[\"ZIP\"] != \"HOUSTON\")]\n",
    "ov_nov_vote['ZIP'] = ov_nov_vote['ZIP'].astype(str).astype(int)\n",
    "\n",
    "# Cleaned VOTERID\n",
    "ov_nov_vote['BIRTHYEAR'] = ov_nov_vote['BIRTHYEAR'].astype(str).astype(int)\n",
    "ov_nov_vote['Voter ID'] = ov_nov_vote['Voter ID'].astype(int)\n",
    "ov_nov_vote['Voting Precinct'] = ov_nov_vote['Voting Precinct'].astype(str).astype(int)\n",
    "ov_nov_vote['VOTE_TYPE'] = ov_nov_vote['VOTE_TYPE'].astype(str)\n",
    "ov_nov_vote['Voting Site'] = ov_nov_vote['Voting Site'].astype(str)\n"
   ],
   "metadata": {
    "collapsed": false,
    "pycharm": {
     "name": "#%%\n"
    }
   }
  }
 ],
 "metadata": {
  "kernelspec": {
   "display_name": "Python 3",
   "language": "python",
   "name": "python3"
  },
  "language_info": {
   "codemirror_mode": {
    "name": "ipython",
    "version": 2
   },
   "file_extension": ".py",
   "mimetype": "text/x-python",
   "name": "python",
   "nbconvert_exporter": "python",
   "pygments_lexer": "ipython2",
   "version": "2.7.6"
  }
 },
 "nbformat": 4,
 "nbformat_minor": 0
}