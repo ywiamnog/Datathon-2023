{
 "cells": [
  {
   "cell_type": "code",
   "execution_count": 50,
   "metadata": {
    "collapsed": true
   },
   "outputs": [],
   "source": [
    "import numpy as np\n",
    "import pandas as pd"
   ]
  },
  {
   "cell_type": "code",
   "execution_count": 51,
   "outputs": [],
   "source": [
    "attempts_df = pd.read_csv(\"TextBanking_Efforts.xlsx - Attempts.csv\")\n",
    "contact_df = pd.read_csv(\"TextBanking_Efforts.xlsx - Contact.csv\")\n",
    "\n",
    "# clean -- values\n",
    "for column in attempts_df.columns:\n",
    "    attempts_df = attempts_df[(attempts_df[column] != \"--\")]\n",
    "for column in contact_df.columns:\n",
    "    contact_df = contact_df[(contact_df[column] != \"--\")]"
   ],
   "metadata": {
    "collapsed": false,
    "pycharm": {
     "name": "#%%\n"
    }
   }
  },
  {
   "cell_type": "code",
   "execution_count": 52,
   "outputs": [
    {
     "data": {
      "text/plain": "Index(['timestamp', 'message_direction', 'Voter ID'], dtype='object')"
     },
     "execution_count": 52,
     "metadata": {},
     "output_type": "execute_result"
    }
   ],
   "source": [
    "attempts_df.columns"
   ],
   "metadata": {
    "collapsed": false,
    "pycharm": {
     "name": "#%%\n"
    }
   }
  },
  {
   "cell_type": "code",
   "execution_count": 53,
   "outputs": [
    {
     "data": {
      "text/plain": "Index(['Question Sent', 'question_Response_type', 'response to question',\n       'updated_at', 'Voter ID'],\n      dtype='object')"
     },
     "execution_count": 53,
     "metadata": {},
     "output_type": "execute_result"
    }
   ],
   "source": [
    "contact_df.columns"
   ],
   "metadata": {
    "collapsed": false,
    "pycharm": {
     "name": "#%%\n"
    }
   }
  },
  {
   "cell_type": "code",
   "execution_count": 59,
   "outputs": [
    {
     "name": "stdout",
     "output_type": "stream",
     "text": [
      "419\n"
     ]
    },
    {
     "data": {
      "text/plain": "{'Planning to vote?': {'Yes': 200, 'No': 44},\n 'Do you have the proper ID to vote?': {'Yes': 49, 'Unsure': 3, 'No': 2},\n 'Texting correct person': {'Contacted': 142,\n  'Refused': 53,\n  'Wrong Number': 111,\n  'Other Language': 1,\n  'Spanish': 2},\n 'Texting the Right Person': {'Wrong Number': 8}}"
     },
     "execution_count": 59,
     "metadata": {},
     "output_type": "execute_result"
    }
   ],
   "source": [
    "# dictionary mapping {Question : {available response : count}}\n",
    "question_response = {}\n",
    "total_count = 0\n",
    "\n",
    "# initialize questions\n",
    "for question in contact_df[\"Question Sent\"].unique():\n",
    "    question_response[question] = {}\n",
    "\n",
    "# initialize available responses per question\n",
    "for row_idx in range(0, contact_df.shape[0]):\n",
    "    # 'Question Sent' is col 0, 'response to question' is col 2\n",
    "    question = contact_df.iloc[row_idx, 0]\n",
    "    response = contact_df.iloc[row_idx, 2]\n",
    "    if response not in question_response[question]:\n",
    "        question_response[question][response] = 1\n",
    "        total_count += 1\n",
    "    else:\n",
    "        question_response[question][response] += 1\n",
    "        total_count += 1\n",
    "\n",
    "print(contact_df[\"Voter ID\"].unique().shape[0])\n",
    "question_response"
   ],
   "metadata": {
    "collapsed": false,
    "pycharm": {
     "name": "#%%\n"
    }
   }
  },
  {
   "cell_type": "code",
   "execution_count": 60,
   "outputs": [],
   "source": [
    "# Success at getting a response from reaching out, ie contact success rate\n",
    "all_contacts_df = pd.DataFrame({\"Voter ID\": attempts_df[\"Voter ID\"].unique()})\n",
    "all_contacts_df[\"Contact Success\"] = 0 # changed to 1 later if success\n",
    "all_contacts_df = all_contacts_df.set_index('Voter ID')\n",
    "all_contacts_df = all_contacts_df.sort_values(by=[\"Voter ID\"])\n",
    "contact_df = contact_df.sort_values(by=[\"Voter ID\"])"
   ],
   "metadata": {
    "collapsed": false,
    "pycharm": {
     "name": "#%%\n"
    }
   }
  },
  {
   "cell_type": "code",
   "execution_count": 69,
   "outputs": [
    {
     "data": {
      "text/plain": "            Contact Success\nVoter ID                   \n1000205011                0\n1000433225                0\n1000746850                0\n1001614539                0\n1004309873                0\n...                     ...\n2193193194                0\n2193193564                0\n2193194892                0\n2193225791                0\n2193229462                0\n\n[10167 rows x 1 columns]",
      "text/html": "<div>\n<style scoped>\n    .dataframe tbody tr th:only-of-type {\n        vertical-align: middle;\n    }\n\n    .dataframe tbody tr th {\n        vertical-align: top;\n    }\n\n    .dataframe thead th {\n        text-align: right;\n    }\n</style>\n<table border=\"1\" class=\"dataframe\">\n  <thead>\n    <tr style=\"text-align: right;\">\n      <th></th>\n      <th>Contact Success</th>\n    </tr>\n    <tr>\n      <th>Voter ID</th>\n      <th></th>\n    </tr>\n  </thead>\n  <tbody>\n    <tr>\n      <th>1000205011</th>\n      <td>0</td>\n    </tr>\n    <tr>\n      <th>1000433225</th>\n      <td>0</td>\n    </tr>\n    <tr>\n      <th>1000746850</th>\n      <td>0</td>\n    </tr>\n    <tr>\n      <th>1001614539</th>\n      <td>0</td>\n    </tr>\n    <tr>\n      <th>1004309873</th>\n      <td>0</td>\n    </tr>\n    <tr>\n      <th>...</th>\n      <td>...</td>\n    </tr>\n    <tr>\n      <th>2193193194</th>\n      <td>0</td>\n    </tr>\n    <tr>\n      <th>2193193564</th>\n      <td>0</td>\n    </tr>\n    <tr>\n      <th>2193194892</th>\n      <td>0</td>\n    </tr>\n    <tr>\n      <th>2193225791</th>\n      <td>0</td>\n    </tr>\n    <tr>\n      <th>2193229462</th>\n      <td>0</td>\n    </tr>\n  </tbody>\n</table>\n<p>10167 rows × 1 columns</p>\n</div>"
     },
     "execution_count": 69,
     "metadata": {},
     "output_type": "execute_result"
    }
   ],
   "source": [
    "# Define successful contact as someone who was contacted correctly and communicated with correctly\n",
    "\n",
    "# Voter ID is column 4 in contact_df\n",
    "prev_voterID = contact_df.iloc[0, 4]\n",
    "responses = {}\n",
    "success = False # list of questions this person was asked over text\n",
    "\n",
    "for row_idx in range(0, contact_df.shape[0]):\n",
    "    curr_voterID = contact_df.iloc[row_idx, 4]\n",
    "    # if new person, analyze the boolean and reset boolean\n",
    "    if curr_voterID != prev_voterID:\n",
    "        # analyze previous voterID. If success, change in all_contacts_df\n",
    "        # various booleans\n",
    "        not_plan_to_vote = 'Planning to vote?' in responses and responses['Planning to vote?']=='No'\n",
    "        no_proper_ID = 'Do you have the proper ID to vote?' in responses and responses['Do you have the proper ID to vote?']!=\"Yes\"\n",
    "        not_correct_person = 'Texting correct person' in responses and responses['Texting correct person']!='Contacted'\n",
    "        not_right_person = 'Texting the Right Person' in responses and responses['Texting the Right Person'] == 'Wrong Number'\n",
    "        if not_correct_person or not_right_person:\n",
    "            success = False\n",
    "        if success:\n",
    "            all_contacts_df.loc[prev_voterID, \"Contact Success\"] = 1\n",
    "        success = True # default boolean to False\n",
    "        responses = {} # reset responses\n",
    "\n",
    "    prev_voterID = curr_voterID\n",
    "\n",
    "all_contacts_df"
   ],
   "metadata": {
    "collapsed": false,
    "pycharm": {
     "name": "#%%\n"
    }
   }
  },
  {
   "cell_type": "code",
   "execution_count": 70,
   "outputs": [
    {
     "data": {
      "text/plain": "0"
     },
     "execution_count": 70,
     "metadata": {},
     "output_type": "execute_result"
    }
   ],
   "source": [
    "# sanity check to make sure all voter ids in contacts_df are also in all_contacts_df\n",
    "count = 0\n",
    "for voter_id in contact_df[\"Voter ID\"].unique():\n",
    "    if voter_id not in all_contacts_df.index:\n",
    "        count += 1\n",
    "count"
   ],
   "metadata": {
    "collapsed": false,
    "pycharm": {
     "name": "#%%\n"
    }
   }
  },
  {
   "cell_type": "code",
   "execution_count": 71,
   "outputs": [
    {
     "data": {
      "text/plain": "418"
     },
     "execution_count": 71,
     "metadata": {},
     "output_type": "execute_result"
    }
   ],
   "source": [
    "# sanity check for previous block:\n",
    "num_success = 0\n",
    "for row_idx in range(0, all_contacts_df.shape[0]):\n",
    "    if all_contacts_df.iloc[row_idx, 0] == 1:\n",
    "        num_success += 1\n",
    "num_success\n",
    "# should be <200"
   ],
   "metadata": {
    "collapsed": false,
    "pycharm": {
     "name": "#%%\n"
    }
   }
  },
  {
   "cell_type": "code",
   "execution_count": 72,
   "outputs": [
    {
     "data": {
      "text/plain": "0.0411134061178322"
     },
     "execution_count": 72,
     "metadata": {},
     "output_type": "execute_result"
    }
   ],
   "source": [
    "# get final percentage of successfully contacted people\n",
    "num_success / all_contacts_df.shape[0]"
   ],
   "metadata": {
    "collapsed": false,
    "pycharm": {
     "name": "#%%\n"
    }
   }
  },
  {
   "cell_type": "code",
   "execution_count": null,
   "outputs": [],
   "source": [],
   "metadata": {
    "collapsed": false,
    "pycharm": {
     "name": "#%%\n"
    }
   }
  }
 ],
 "metadata": {
  "kernelspec": {
   "display_name": "Python 3",
   "language": "python",
   "name": "python3"
  },
  "language_info": {
   "codemirror_mode": {
    "name": "ipython",
    "version": 2
   },
   "file_extension": ".py",
   "mimetype": "text/x-python",
   "name": "python",
   "nbconvert_exporter": "python",
   "pygments_lexer": "ipython2",
   "version": "2.7.6"
  }
 },
 "nbformat": 4,
 "nbformat_minor": 0
}