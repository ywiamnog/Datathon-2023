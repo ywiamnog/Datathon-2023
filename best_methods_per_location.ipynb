{
 "cells": [
  {
   "cell_type": "code",
   "metadata": {
    "collapsed": true,
    "pycharm": {
     "name": "#%%\n"
    }
   },
   "source": [
    "import pandas as pd\n",
    "import openpyxl\n",
    "import seaborn as sns\n",
    "import matplotlib.pyplot as plt"
   ],
   "execution_count": 10,
   "outputs": []
  },
  {
   "cell_type": "code",
   "execution_count": 11,
   "outputs": [],
   "source": [
    "# which method was best per precinct\n",
    "voters = pd.read_csv(\"cleaned_nov_votes.csv\")\n",
    "text_outreach = pd.read_csv(\"contact methods/TextBanking_Efforts.xlsx - Attempts.csv\")\n",
    "walk_outreach = pd.read_csv(\"contact methods/total_walk.csv\")\n",
    "\n",
    "# list of voters contacted through phone\n",
    "phone_outreach = pd.read_csv(\"contact methods/phone_contacts.csv\")\n",
    "phone_contacts = phone_outreach[phone_outreach[\"Contact Outcome\"] == \"Talking to Correct Person\"]\n",
    "phone_contacts.drop_duplicates()\n",
    "phone_contacts.dropna()\n",
    "phone_ids = phone_contacts[\"Voter ID\"].values.tolist()\n",
    "\n",
    "# list of voters contacted through text\n",
    "text_contacts = pd.read_csv(\"contact methods/success_text_data.csv\")\n",
    "text_ids = text_contacts[\"Voter ID\"].values.tolist()\n",
    "\n",
    "# list of voters contacted through walks\n",
    "walk_contacts = pd.read_csv(\"contact methods/canvassed_walk.csv\")\n",
    "walk_ids = walk_contacts[\"VoterID\"].values.tolist()\n",
    "\n",
    "# list of voters contacted through mail\n",
    "# turnout dicts\n",
    "phone_turnout = {}\n",
    "text_turnout = {}\n",
    "walk_turnout = {}\n",
    "mail_turnout = {}"
   ],
   "metadata": {
    "collapsed": false,
    "pycharm": {
     "name": "#%%\n"
    }
   }
  },
  {
   "cell_type": "code",
   "execution_count": 12,
   "outputs": [],
   "source": [
    "text_voters = voters[voters[\"Voter ID\"].isin(text_ids)]\n",
    "phone_voter_id = voters[\"Voter ID\"].values.tolist()\n",
    "\n",
    "phone_contacted_ids = []\n",
    "for elem in phone_ids:\n",
    "    if str(elem).isdigit():\n",
    "        phone_contacted_ids.append(int(elem))\n",
    "\n",
    "phone_voters = voters[voters[\"Voter ID\"].isin(phone_contacted_ids)]\n",
    "walk_voters = voters[voters[\"Voter ID\"].isin(walk_ids)]\n",
    "text_contact_conversion = text_voters.shape[0]/len(text_ids)\n",
    "text_overall_conversion = text_voters.shape[0]/text_outreach.shape[0]\n",
    "\n",
    "phone_contact_conversion = phone_voters.shape[0]/len(phone_contacted_ids)\n",
    "phone_overall_conversion = phone_voters.shape[0]/phone_outreach.shape[0]\n",
    "\n",
    "walk_contact_conversion = walk_voters.shape[0]/len(walk_ids)\n",
    "walk_overall_conversion = walk_voters.shape[0]/walk_outreach.shape[0]"
   ],
   "metadata": {
    "collapsed": false,
    "pycharm": {
     "name": "#%%\n"
    }
   }
  },
  {
   "cell_type": "code",
   "execution_count": 16,
   "outputs": [
    {
     "name": "stdout",
     "output_type": "stream",
     "text": [
      "        Unnamed: 0    Voter ID VOTE_TYPE    ZIP SEX  BIRTHYEAR Voting Site  \\\n",
      "4598          5545  1103153910         P  77009   F       1934     SRD145M   \n",
      "30912        37543  1107676492         E  77033   F       1965       62025   \n",
      "125249      151355  1104248838         E  77009   F       1977       92113   \n",
      "146004      173563  1106105154         P  77093   F       1947     SRD142K   \n",
      "163890      192836  1109169518         P  77506   F       1955     SRD144J   \n",
      "\n",
      "        Voting Precinct  \n",
      "4598                 44  \n",
      "30912               238  \n",
      "125249              637  \n",
      "146004              171  \n",
      "163890              301  \n"
     ]
    },
    {
     "data": {
      "text/plain": "<Figure size 640x480 with 1 Axes>",
      "image/png": "[encoded data removed]"
     },
     "metadata": {},
     "output_type": "display_data"
    }
   ],
   "source": [
    "# best method per age:\n",
    "# dict needs to be of form { age: [0, 1, 2], text: [4, 5, 6], door:[4, 5, 6], phone:}\n",
    "print(text_voters.head())\n",
    "age_text = []\n",
    "age_walk = []\n",
    "for idx, row in text_voters.iterrows():\n",
    "    age = 2022 - row.loc[\"BIRTHYEAR\"]\n",
    "    precinct = row.loc[\"Voting Precinct\"]\n",
    "    sex = row.loc[\"SEX\"]\n",
    "    if age not in age_text.keys():\n",
    "        age_text[age] = 1\n",
    "    else:\n",
    "        age_text[age] += 1\n",
    "    if precinct not in precinct_text.keys():\n",
    "        precinct_text[precinct] = 1\n",
    "    else:\n",
    "        precinct_text[precinct] +=  1\n"
   ],
   "metadata": {
    "collapsed": false,
    "pycharm": {
     "name": "#%%\n"
    }
   }
  },
  {
   "cell_type": "code",
   "execution_count": 13,
   "outputs": [],
   "source": [],
   "metadata": {
    "collapsed": false,
    "pycharm": {
     "name": "#%%\n"
    }
   }
  }
 ],
 "metadata": {
  "kernelspec": {
   "display_name": "Python 3",
   "language": "python",
   "name": "python3"
  },
  "language_info": {
   "codemirror_mode": {
    "name": "ipython",
    "version": 2
   },
   "file_extension": ".py",
   "mimetype": "text/x-python",
   "name": "python",
   "nbconvert_exporter": "python",
   "pygments_lexer": "ipython2",
   "version": "2.7.6"
  }
 },
 "nbformat": 4,
 "nbformat_minor": 0
}