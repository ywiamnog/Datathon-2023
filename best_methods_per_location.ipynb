{
 "cells": [
  {
   "cell_type": "code",
   "metadata": {
    "collapsed": true,
    "pycharm": {
     "name": "#%%\n"
    }
   },
   "source": [
    "import pandas as pd\n",
    "import openpyxl\n",
    "import seaborn as sns"
   ],
   "execution_count": 1,
   "outputs": []
  },
  {
   "cell_type": "code",
   "execution_count": 2,
   "outputs": [],
   "source": [
    "# which method was best per precinct\n",
    "voters = pd.read_csv(\"cleaned_nov_votes.csv\")\n",
    "text_outreach = pd.read_csv(\"contact methods/TextBanking_Efforts.xlsx - Attempts.csv\")\n",
    "walk_outreach = pd.read_csv(\"contact methods/total_walk.csv\")\n",
    "\n",
    "# list of voters contacted through phone\n",
    "phone_outreach = pd.read_csv(\"contact methods/phone_contacts.csv\")\n",
    "phone_contacts = phone_outreach[phone_outreach[\"Contact Outcome\"] == \"Talking to Correct Person\"]\n",
    "phone_contacts.drop_duplicates()\n",
    "phone_contacts.dropna()\n",
    "phone_ids = phone_contacts[\"Voter ID\"].values.tolist()\n",
    "\n",
    "# list of voters contacted through text\n",
    "text_contacts = pd.read_csv(\"contact methods/success_text_data.csv\")\n",
    "text_ids = text_contacts[\"Voter ID\"].values.tolist()\n",
    "\n",
    "# list of voters contacted through walks\n",
    "walk_contacts = pd.read_csv(\"contact methods/canvassed_walk.csv\")\n",
    "walk_ids = walk_contacts[\"VoterID\"].values.tolist()\n",
    "\n",
    "# list of voters contacted through mail\n",
    "# turnout dicts\n",
    "phone_turnout = {}\n",
    "text_turnout = {}\n",
    "walk_turnout = {}\n",
    "mail_turnout = {}"
   ],
   "metadata": {
    "collapsed": false,
    "pycharm": {
     "name": "#%%\n"
    }
   }
  },
  {
   "cell_type": "code",
   "execution_count": 3,
   "outputs": [],
   "source": [
    "text_voters = voters[voters[\"Voter ID\"].isin(text_ids)]\n",
    "phone_voter_id = voters[\"Voter ID\"].values.tolist()\n",
    "\n",
    "phone_contacted_ids = []\n",
    "for elem in phone_ids:\n",
    "    if str(elem).isdigit():\n",
    "        phone_contacted_ids.append(int(elem))\n",
    "\n",
    "phone_voters = voters[voters[\"Voter ID\"].isin(phone_contacted_ids)]\n",
    "walk_voters = voters[voters[\"Voter ID\"].isin(walk_ids)]\n",
    "text_contact_conversion = text_voters.shape[0]/len(text_ids)\n",
    "text_overall_conversion = text_voters.shape[0]/text_outreach.shape[0]\n",
    "\n",
    "phone_contact_conversion = phone_voters.shape[0]/len(phone_contacted_ids)\n",
    "phone_overall_conversion = phone_voters.shape[0]/phone_outreach.shape[0]\n",
    "\n",
    "walk_contact_conversion = walk_voters.shape[0]/len(walk_ids)\n",
    "walk_overall_conversion = walk_voters.shape[0]/walk_outreach.shape[0]"
   ],
   "metadata": {
    "collapsed": false,
    "pycharm": {
     "name": "#%%\n"
    }
   }
  },
  {
   "cell_type": "code",
   "execution_count": 4,
   "outputs": [
    {
     "name": "stdout",
     "output_type": "stream",
     "text": [
      "0.0027874564459930314 0.026074700493305146 0.01086036671368124\n",
      "0.12470023980815348 0.19170984455958548 0.06525423728813559\n"
     ]
    }
   ],
   "source": [
    "print(text_overall_conversion, phone_overall_conversion, walk_overall_conversion)\n",
    "print(text_contact_conversion, phone_contact_conversion, walk_contact_conversion)"
   ],
   "metadata": {
    "collapsed": false,
    "pycharm": {
     "name": "#%%\n"
    }
   }
  }
 ],
 "metadata": {
  "kernelspec": {
   "display_name": "Python 3",
   "language": "python",
   "name": "python3"
  },
  "language_info": {
   "codemirror_mode": {
    "name": "ipython",
    "version": 2
   },
   "file_extension": ".py",
   "mimetype": "text/x-python",
   "name": "python",
   "nbconvert_exporter": "python",
   "pygments_lexer": "ipython2",
   "version": "2.7.6"
  }
 },
 "nbformat": 4,
 "nbformat_minor": 0
}