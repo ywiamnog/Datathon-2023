{
 "cells": [
  {
   "cell_type": "code",
   "execution_count": 3,
   "metadata": {},
   "outputs": [
    {
     "name": "stdout",
     "output_type": "stream",
     "text": [
      "percent talked to of those contacted: 0.2516297262059974\n",
      "percent contacted: 0.03210158367812812\n",
      "total percent talked to: 0.027536025110572123\n"
     ]
    }
   ],
   "source": [
    "import pandas as pd\n",
    "import openpyxl\n",
    "\n",
    "# read datasets\n",
    "df_atm = pd.read_csv(\"phone_attempts.xlsx.csv\")\n",
    "df_con = pd.read_csv(\"phone_contacts.xlsx.csv\")\n",
    "\n",
    "\n",
    "# contact data with voter id and contact outcome\n",
    "df_con = df_con[[\"Voter ID\", \"Contact Outcome\"]]\n",
    "df_con.head()\n",
    "\n",
    "# remove null Voter ID\n",
    "df_con = df_con[(df_con['Voter ID'] != \"--\")]\n",
    "\n",
    "df_con_talk = df_con[(df_con['Contact Outcome'] == \"Talking to Correct Person\")]\n",
    "df_con_talk.head()\n",
    "\n",
    "\n",
    "\n",
    "# attempt data with voter id and result\n",
    "df_atm = df_atm[[\"Voter ID\", \"Result\"]]\n",
    "\n",
    "# remove null Voter ID\n",
    "df_atm = df_atm[(df_atm['Voter ID'] != \"--\")]\n",
    "\n",
    "# possible results = {'Answering Machine', 'Busy Signal', 'Deliverability Error', 'Fax', 'No Answer', 'No Contact', 'Talked to Correct Person', 'Remove number from list'}\n",
    "df_atm_con = df_atm[(df_atm['Result'] == \"Talked to Correct Person\")]\n",
    "\n",
    "\n",
    "\n",
    "# calculate those talked to of the people who answered their phone\n",
    "talk_percent = df_con_talk.shape[0] / df_con.shape[0]\n",
    "print(\"percent talked to of those contacted:\", talk_percent)\n",
    "\n",
    "# calculate those contacted to of the total phone call attempts\n",
    "contact_percent = df_atm_con.shape[0] / df_atm.shape[0]\n",
    "print(\"percent contacted:\", contact_percent)\n",
    "\n",
    "# calculate those talked to of the total phone call attempts\n",
    "talk_total_percent = df_con_talk.shape[0] / df_atm.shape[0]\n",
    "print(\"total percent talked to:\", talk_total_percent)\n",
    "\n",
    "# print(df_atm)\n",
    "# print(df_con_talk)\n",
    "# print(df_atm_con)"
   ]
  }
 ],
 "metadata": {
  "kernelspec": {
   "display_name": "Python 3",
   "language": "python",
   "name": "python3"
  },
  "language_info": {
   "codemirror_mode": {
    "name": "ipython",
    "version": 3
   },
   "file_extension": ".py",
   "mimetype": "text/x-python",
   "name": "python",
   "nbconvert_exporter": "python",
   "pygments_lexer": "ipython3",
   "version": "3.8.7"
  },
  "orig_nbformat": 4,
  "vscode": {
   "interpreter": {
    "hash": "90a7f9520ca2f95413c06593289b2edf029b485162a529c14f6348c27ec1b663"
   }
  }
 },
 "nbformat": 4,
 "nbformat_minor": 2
}
