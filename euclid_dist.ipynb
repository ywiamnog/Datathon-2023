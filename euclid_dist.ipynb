{
 "cells": [
  {
   "cell_type": "code",
   "execution_count": 45,
   "metadata": {},
   "outputs": [],
   "source": [
    "import pandas as pd\n",
    "import seaborn as sns\n",
    "import openpyxl\n",
    "import math\n",
    "import re\n",
    "import numpy as np"
   ]
  },
  {
   "cell_type": "code",
   "execution_count": 51,
   "metadata": {},
   "outputs": [
    {
     "name": "stdout",
     "output_type": "stream",
     "text": [
      "221544.54292534493\n",
      "closest other zipcode:      Zip Codesort column  Median Household Income  Median Age  Population  \\\n",
      "109                77401                 221212.0        40.0     12134.0   \n",
      "\n",
      "    White Percentage Black/AfricanAmerican Percentage  \\\n",
      "109           69.60%                            2.50%   \n",
      "\n",
      "    Pacific Islander Percentage Asian Percentage Other Race Population  \\\n",
      "109                       0.02%           21.77%                 2.12%   \n",
      "\n",
      "    2+ Races Percentage     sum  \n",
      "109               3.73%  99.74%  \n"
     ]
    }
   ],
   "source": [
    "zipdata = pd.read_csv(\"ExternalDataByZipcode.csv\")\n",
    "\n",
    "# convert \n",
    "zipdata['Median Household Income'] = zipdata['Median Household Income'].str.replace('\\W', '', regex=True).astype(float)\n",
    "zipdata['Population'] = zipdata['Population'].str.replace('\\W', '', regex=True).astype(float)\n",
    "\n",
    "\n",
    "# print(zipdata.dtypes)\n",
    "zipdata.head()\n",
    "\n",
    "# for each zip code find euclid norm (L2-norm) of vars\n",
    "# vars = [income, age, population, nonwhite]\n",
    "\n",
    "# sample for precinct 9 = 77002\n",
    "\n",
    "norm = []\n",
    "for i in range(133):\n",
    "    income = zipdata.iloc[i]['Median Household Income']\n",
    "    age = zipdata.iloc[i]['Median Age']\n",
    "    pop = zipdata.iloc[i]['Population']\n",
    "    sum = (income**2) + (age**2) + (pop**2)\n",
    "    norm.append(math.sqrt(sum))\n",
    "\n",
    "# print(norm)\n",
    "print(max(norm))\n",
    "indexnorm = np.argmax(norm)\n",
    "print('closest other zipcode:', zipdata.loc[[indexnorm]])"
   ]
  }
 ],
 "metadata": {
  "kernelspec": {
   "display_name": "Python 3",
   "language": "python",
   "name": "python3"
  },
  "language_info": {
   "codemirror_mode": {
    "name": "ipython",
    "version": 3
   },
   "file_extension": ".py",
   "mimetype": "text/x-python",
   "name": "python",
   "nbconvert_exporter": "python",
   "pygments_lexer": "ipython3",
   "version": "3.8.7"
  },
  "orig_nbformat": 4,
  "vscode": {
   "interpreter": {
    "hash": "90a7f9520ca2f95413c06593289b2edf029b485162a529c14f6348c27ec1b663"
   }
  }
 },
 "nbformat": 4,
 "nbformat_minor": 2
}
