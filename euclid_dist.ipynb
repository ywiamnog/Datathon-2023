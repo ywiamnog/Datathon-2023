{
 "cells": [
  {
   "cell_type": "code",
   "execution_count": 45,
   "metadata": {},
   "outputs": [],
   "source": [
    "import pandas as pd\n",
    "import seaborn as sns\n",
    "import openpyxl\n",
    "import math\n",
    "import re\n",
    "import numpy as np"
   ]
  },
  {
   "cell_type": "code",
   "execution_count": 98,
   "metadata": {},
   "outputs": [
    {
     "name": "stdout",
     "output_type": "stream",
     "text": [
      "0.00019303190379615993\n",
      "targeted zipcode:    Zip Codesort column  Median Household Income  Median Age  Population  \\\n",
      "7                77009                  64011.0        37.0     25649.0   \n",
      "\n",
      "  White Percentage Black/AfricanAmerican Percentage  \\\n",
      "7           64.61%                            7.43%   \n",
      "\n",
      "  Pacific Islander Percentage Asian Percentage Other Race Population  \\\n",
      "7                       0.07%            1.23%                21.86%   \n",
      "\n",
      "  2+ Races Percentage     sum  \n",
      "7               3.91%  99.11%  \n",
      "closest other zipcode:      Zip Codesort column  Median Household Income  Median Age  Population  \\\n",
      "105                77379                 107167.0        37.0     55065.0   \n",
      "\n",
      "    White Percentage Black/AfricanAmerican Percentage  \\\n",
      "105           64.54%                           11.50%   \n",
      "\n",
      "    Pacific Islander Percentage Asian Percentage Other Race Population  \\\n",
      "105                       0.08%           12.30%                 6.59%   \n",
      "\n",
      "    2+ Races Percentage     sum  \n",
      "105               4.60%  99.61%  \n"
     ]
    }
   ],
   "source": [
    "zipdata = pd.read_csv(\"ExternalDataByZipcode.csv\")\n",
    "\n",
    "# convert data into usuable types\n",
    "zipdata['Median Household Income'] = zipdata['Median Household Income'].str.replace('\\W', '', regex=True).astype(float)\n",
    "zipdata['Population'] = zipdata['Population'].str.replace('\\W', '', regex=True).astype(float)\n",
    "\n",
    "# print(zipdata.var())\n",
    "# print(zipdata.dtypes)\n",
    "zipdata.head()\n",
    "\n",
    "# for each zip code find standardized euclidean norm (2-norm) of varialbes\n",
    "# vars = [income, age, population, nonwhite]\n",
    "\n",
    "# initialize list of norms\n",
    "norm = []\n",
    "\n",
    "# select which zipcode to test\n",
    "zipcode = 77009\n",
    "zipindex = zipdata[zipdata['Zip Codesort column'] == zipcode].index.values\n",
    "targeted = [zipindex[0]]\n",
    "\n",
    "for precinct in targeted:\n",
    "    # retrieves values of variables for zipcodes of targeted precincts\n",
    "    tar_income = zipdata.iloc[precinct]['Median Household Income']\n",
    "    tar_age = zipdata.iloc[precinct]['Median Age']\n",
    "    tar_pop = zipdata.iloc[precinct]['Population']\n",
    "\n",
    "\n",
    "    for i in range(zipdata.shape[0]):\n",
    "        # takes out testing precinct with itself\n",
    "        if precinct != i:\n",
    "            # retrieves values of variables for other zipcodes\n",
    "            income = zipdata.iloc[i]['Median Household Income']\n",
    "            age = zipdata.iloc[i]['Median Age']\n",
    "            pop = zipdata.iloc[i]['Population']\n",
    "            # standardizes the difference between the targeted and other zipcodes\n",
    "            # i.e. income and age are varied across vastly different scales\n",
    "            incomediff = (tar_income - income) / (1.067543e+09)\n",
    "            agediff = (tar_age - age) / (1.693905e+01)\n",
    "            popdiff = (tar_pop - pop) / (1.558452e+08)\n",
    "            # sums the standardized differences\n",
    "            sum = ((incomediff)**2) + ((agediff)**2) + ((popdiff)**2)\n",
    "        # takes the square root of the sum according to formula\n",
    "        norm.append(math.sqrt(sum))\n",
    "\n",
    "# print(norm)\n",
    "print(min(norm))\n",
    "indexnorm = np.argmin(norm)\n",
    "print('targeted zipcode:', zipdata.loc[[targeted[0]]])\n",
    "print('closest other zipcode:', zipdata.loc[[indexnorm]])"
   ]
  }
 ],
 "metadata": {
  "kernelspec": {
   "display_name": "Python 3",
   "language": "python",
   "name": "python3"
  },
  "language_info": {
   "codemirror_mode": {
    "name": "ipython",
    "version": 3
   },
   "file_extension": ".py",
   "mimetype": "text/x-python",
   "name": "python",
   "nbconvert_exporter": "python",
   "pygments_lexer": "ipython3",
   "version": "3.8.7"
  },
  "orig_nbformat": 4,
  "vscode": {
   "interpreter": {
    "hash": "90a7f9520ca2f95413c06593289b2edf029b485162a529c14f6348c27ec1b663"
   }
  }
 },
 "nbformat": 4,
 "nbformat_minor": 2
}
