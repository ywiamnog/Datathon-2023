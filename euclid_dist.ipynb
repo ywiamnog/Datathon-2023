{
 "cells": [
  {
   "cell_type": "code",
   "execution_count": 228,
   "metadata": {},
   "outputs": [],
   "source": [
    "import pandas as pd\n",
    "import seaborn as sns\n",
    "import openpyxl\n",
    "import math\n",
    "import re\n",
    "import numpy as np"
   ]
  },
  {
   "cell_type": "code",
   "execution_count": 266,
   "metadata": {},
   "outputs": [
    {
     "data": {
      "text/html": [
       "<div>\n",
       "<style scoped>\n",
       "    .dataframe tbody tr th:only-of-type {\n",
       "        vertical-align: middle;\n",
       "    }\n",
       "\n",
       "    .dataframe tbody tr th {\n",
       "        vertical-align: top;\n",
       "    }\n",
       "\n",
       "    .dataframe thead th {\n",
       "        text-align: right;\n",
       "    }\n",
       "</style>\n",
       "<table border=\"1\" class=\"dataframe\">\n",
       "  <thead>\n",
       "    <tr style=\"text-align: right;\">\n",
       "      <th></th>\n",
       "      <th>Zip Codesort column</th>\n",
       "      <th>Median Household Income</th>\n",
       "      <th>Median Age</th>\n",
       "      <th>Population</th>\n",
       "      <th>White Percentage</th>\n",
       "    </tr>\n",
       "  </thead>\n",
       "  <tbody>\n",
       "    <tr>\n",
       "      <th>0</th>\n",
       "      <td>0.000000</td>\n",
       "      <td>0.291734</td>\n",
       "      <td>0.636015</td>\n",
       "      <td>0.164170</td>\n",
       "      <td>0.586141</td>\n",
       "    </tr>\n",
       "    <tr>\n",
       "      <th>1</th>\n",
       "      <td>0.001678</td>\n",
       "      <td>0.285460</td>\n",
       "      <td>0.593870</td>\n",
       "      <td>0.116437</td>\n",
       "      <td>0.593670</td>\n",
       "    </tr>\n",
       "    <tr>\n",
       "      <th>2</th>\n",
       "      <td>0.003356</td>\n",
       "      <td>0.118556</td>\n",
       "      <td>0.586207</td>\n",
       "      <td>0.165117</td>\n",
       "      <td>0.313298</td>\n",
       "    </tr>\n",
       "    <tr>\n",
       "      <th>3</th>\n",
       "      <td>0.005034</td>\n",
       "      <td>0.812803</td>\n",
       "      <td>0.659004</td>\n",
       "      <td>0.309294</td>\n",
       "      <td>0.864599</td>\n",
       "    </tr>\n",
       "    <tr>\n",
       "      <th>4</th>\n",
       "      <td>0.006711</td>\n",
       "      <td>0.305435</td>\n",
       "      <td>0.793103</td>\n",
       "      <td>0.272116</td>\n",
       "      <td>0.882593</td>\n",
       "    </tr>\n",
       "    <tr>\n",
       "      <th>...</th>\n",
       "      <td>...</td>\n",
       "      <td>...</td>\n",
       "      <td>...</td>\n",
       "      <td>...</td>\n",
       "      <td>...</td>\n",
       "    </tr>\n",
       "    <tr>\n",
       "      <th>128</th>\n",
       "      <td>0.939597</td>\n",
       "      <td>0.167568</td>\n",
       "      <td>0.593870</td>\n",
       "      <td>0.120597</td>\n",
       "      <td>0.783946</td>\n",
       "    </tr>\n",
       "    <tr>\n",
       "      <th>129</th>\n",
       "      <td>0.954698</td>\n",
       "      <td>0.289195</td>\n",
       "      <td>0.624521</td>\n",
       "      <td>0.479409</td>\n",
       "      <td>0.889357</td>\n",
       "    </tr>\n",
       "    <tr>\n",
       "      <th>130</th>\n",
       "      <td>0.979866</td>\n",
       "      <td>0.410545</td>\n",
       "      <td>0.793103</td>\n",
       "      <td>0.315425</td>\n",
       "      <td>0.940531</td>\n",
       "    </tr>\n",
       "    <tr>\n",
       "      <th>131</th>\n",
       "      <td>0.981544</td>\n",
       "      <td>0.094597</td>\n",
       "      <td>0.402299</td>\n",
       "      <td>0.178032</td>\n",
       "      <td>0.736983</td>\n",
       "    </tr>\n",
       "    <tr>\n",
       "      <th>132</th>\n",
       "      <td>1.000000</td>\n",
       "      <td>0.163382</td>\n",
       "      <td>0.555556</td>\n",
       "      <td>0.232859</td>\n",
       "      <td>0.601582</td>\n",
       "    </tr>\n",
       "  </tbody>\n",
       "</table>\n",
       "<p>133 rows × 5 columns</p>\n",
       "</div>"
      ],
      "text/plain": [
       "     Zip Codesort column  Median Household Income  Median Age  Population  \\\n",
       "0               0.000000                 0.291734    0.636015    0.164170   \n",
       "1               0.001678                 0.285460    0.593870    0.116437   \n",
       "2               0.003356                 0.118556    0.586207    0.165117   \n",
       "3               0.005034                 0.812803    0.659004    0.309294   \n",
       "4               0.006711                 0.305435    0.793103    0.272116   \n",
       "..                   ...                      ...         ...         ...   \n",
       "128             0.939597                 0.167568    0.593870    0.120597   \n",
       "129             0.954698                 0.289195    0.624521    0.479409   \n",
       "130             0.979866                 0.410545    0.793103    0.315425   \n",
       "131             0.981544                 0.094597    0.402299    0.178032   \n",
       "132             1.000000                 0.163382    0.555556    0.232859   \n",
       "\n",
       "     White Percentage  \n",
       "0            0.586141  \n",
       "1            0.593670  \n",
       "2            0.313298  \n",
       "3            0.864599  \n",
       "4            0.882593  \n",
       "..                ...  \n",
       "128          0.783946  \n",
       "129          0.889357  \n",
       "130          0.940531  \n",
       "131          0.736983  \n",
       "132          0.601582  \n",
       "\n",
       "[133 rows x 5 columns]"
      ]
     },
     "execution_count": 266,
     "metadata": {},
     "output_type": "execute_result"
    }
   ],
   "source": [
    "zipdata = pd.read_csv(\"ExternalDataByZipcode.csv\")\n",
    "\n",
    "# convert data into usuable types\n",
    "zipdata['Median Household Income'] = zipdata['Median Household Income'].str.replace('\\W', '', regex=True).astype(float)\n",
    "zipdata['Population'] = zipdata['Population'].str.replace('\\W', '', regex=True).astype(float)\n",
    "zipdata['White Percentage'] = (zipdata['White Percentage'].str.replace('\\W', '', regex=True).astype(float)) / 100\n",
    "\n",
    "# print(zipdata.var())\n",
    "# print(zipdata.dtypes)\n",
    "zipdata.head()\n",
    "\n",
    "focusdf = zipdata[['Zip Codesort column', 'Median Household Income', 'Median Age', 'Population', \"White Percentage\"]]\n",
    "# normed_zipdata = (focusdf-focusdf.mean())/focusdf.std()\n",
    "# normed_zipdata\n",
    "normed_zipdata = (focusdf-focusdf.min())/(focusdf.max()-focusdf.min())\n",
    "normed_zipdata"
   ]
  },
  {
   "cell_type": "code",
   "execution_count": 287,
   "metadata": {},
   "outputs": [
    {
     "name": "stdout",
     "output_type": "stream",
     "text": [
      "standardized euclidean norm: 0.008412762278455001\n",
      "targeted zipcode:     Zip Codesort column  Median Household Income  Median Age  Population  \\\n",
      "32                77034                  59587.0        31.1     21818.0   \n",
      "\n",
      "    White Percentage Black/AfricanAmerican Percentage  \\\n",
      "32             57.95                           10.27%   \n",
      "\n",
      "   Pacific Islander Percentage Asian Percentage Other Race Population  \\\n",
      "32                       0.08%            3.91%                22.75%   \n",
      "\n",
      "   2+ Races Percentage     sum  \n",
      "32               4.15%  99.11%  \n",
      "closest other zipcode:      Zip Codesort column  Median Household Income  Median Age  Population  \\\n",
      "124                77530                  68075.0        31.1     19697.0   \n",
      "\n",
      "     White Percentage Black/AfricanAmerican Percentage  \\\n",
      "124             55.35                           11.45%   \n",
      "\n",
      "    Pacific Islander Percentage Asian Percentage Other Race Population  \\\n",
      "124                       0.05%            1.12%                26.89%   \n",
      "\n",
      "    2+ Races Percentage     sum  \n",
      "124               4.36%  99.22%  \n",
      "77002\n",
      "0.33319880163300786\n"
     ]
    }
   ],
   "source": [
    "\n",
    "# for each zip code find standardized euclidean norm (2-norm) of varialbes\n",
    "# vars = [income, age, population, nonwhite]\n",
    "\n",
    "# initialize list of norms\n",
    "norm = []\n",
    "\n",
    "# select which zipcode to test\n",
    "zipcode = 77034\n",
    "zipindex = zipdata[zipdata['Zip Codesort column'] == zipcode].index.values\n",
    "targeted = [zipindex[0]]\n",
    "\n",
    "for precinct in targeted:\n",
    "    # retrieves values of variables for zipcodes of targeted precincts\n",
    "    tar_income = zipdata.iloc[precinct]['Median Household Income']\n",
    "    tar_age = zipdata.iloc[precinct]['Median Age']\n",
    "    tar_pop = zipdata.iloc[precinct]['Population']\n",
    "    tar_div = 100 - zipdata.iloc[precinct]['White Percentage']\n",
    "\n",
    "    for i in range(zipdata.shape[0]):\n",
    "        # takes out testing precinct with itself\n",
    "        if precinct != i:\n",
    "            # retrieves values of variables for other zipcodes\n",
    "            income = zipdata.iloc[i]['Median Household Income']\n",
    "            age = zipdata.iloc[i]['Median Age']\n",
    "            pop = zipdata.iloc[i]['Population']\n",
    "            div = 100 - zipdata.iloc[i]['White Percentage']\n",
    "            # standardizes the difference between the targeted and other zipcodes\n",
    "            # i.e. income and age are varied across vastly different scales\n",
    "            incomediff = (tar_income - income) / (1.067543e+09)\n",
    "            agediff = (tar_age - age) / (1.693905e+01)\n",
    "            popdiff = (tar_pop - pop) / (1.558452e+08)\n",
    "            divdiff = (tar_div - div) / (3.090548e+02)\n",
    "            # sums the standardized differences\n",
    "            sum = ((incomediff)**2) + ((agediff)**2) + ((popdiff)**2) + ((divdiff)**2)\n",
    "        # takes the square root of the sum according to formula\n",
    "        norm.append(math.sqrt(sum))\n",
    "\n",
    "# print(norm)\n",
    "print('standardized euclidean norm:', min(norm))\n",
    "indexnorm = np.argmin(norm)\n",
    "print('targeted zipcode:', zipdata.loc[[targeted[0]]])\n",
    "print('closest other zipcode:', zipdata.loc[[indexnorm]])\n",
    "closezip = zipdata.loc[0].at['Zip Codesort column']\n",
    "print(closezip)\n",
    "\n",
    "normed_zipdata\n",
    "x = normed_zipdata.loc[zipindex[0]].at['Population']\n",
    "print(x)"
   ]
  },
  {
   "cell_type": "code",
   "execution_count": 289,
   "metadata": {},
   "outputs": [
    {
     "name": "stdout",
     "output_type": "stream",
     "text": [
      "[32]\n"
     ]
    },
    {
     "ename": "ValueError",
     "evalue": "Mime type rendering requires nbformat>=4.2.0 but it is not installed",
     "output_type": "error",
     "traceback": [
      "\u001B[1;31m---------------------------------------------------------------------------\u001B[0m",
      "\u001B[1;31mValueError\u001B[0m                                Traceback (most recent call last)",
      "File \u001B[1;32mc:\\Users\\Bob Esponja\\lib\\site-packages\\IPython\\core\\formatters.py:920\u001B[0m, in \u001B[0;36mIPythonDisplayFormatter.__call__\u001B[1;34m(self, obj)\u001B[0m\n\u001B[0;32m    918\u001B[0m method \u001B[39m=\u001B[39m get_real_method(obj, \u001B[39mself\u001B[39m\u001B[39m.\u001B[39mprint_method)\n\u001B[0;32m    919\u001B[0m \u001B[39mif\u001B[39;00m method \u001B[39mis\u001B[39;00m \u001B[39mnot\u001B[39;00m \u001B[39mNone\u001B[39;00m:\n\u001B[1;32m--> 920\u001B[0m     method()\n\u001B[0;32m    921\u001B[0m     \u001B[39mreturn\u001B[39;00m \u001B[39mTrue\u001B[39;00m\n",
      "File \u001B[1;32mc:\\Users\\Bob Esponja\\lib\\site-packages\\plotly\\basedatatypes.py:834\u001B[0m, in \u001B[0;36mBaseFigure._ipython_display_\u001B[1;34m(self)\u001B[0m\n\u001B[0;32m    831\u001B[0m \u001B[39mimport\u001B[39;00m \u001B[39mplotly\u001B[39;00m\u001B[39m.\u001B[39;00m\u001B[39mio\u001B[39;00m \u001B[39mas\u001B[39;00m \u001B[39mpio\u001B[39;00m\n\u001B[0;32m    833\u001B[0m \u001B[39mif\u001B[39;00m pio\u001B[39m.\u001B[39mrenderers\u001B[39m.\u001B[39mrender_on_display \u001B[39mand\u001B[39;00m pio\u001B[39m.\u001B[39mrenderers\u001B[39m.\u001B[39mdefault:\n\u001B[1;32m--> 834\u001B[0m     pio\u001B[39m.\u001B[39;49mshow(\u001B[39mself\u001B[39;49m)\n\u001B[0;32m    835\u001B[0m \u001B[39melse\u001B[39;00m:\n\u001B[0;32m    836\u001B[0m     \u001B[39mprint\u001B[39m(\u001B[39mrepr\u001B[39m(\u001B[39mself\u001B[39m))\n",
      "File \u001B[1;32mc:\\Users\\Bob Esponja\\lib\\site-packages\\plotly\\io\\_renderers.py:396\u001B[0m, in \u001B[0;36mshow\u001B[1;34m(fig, renderer, validate, **kwargs)\u001B[0m\n\u001B[0;32m    391\u001B[0m         \u001B[39mraise\u001B[39;00m \u001B[39mValueError\u001B[39;00m(\n\u001B[0;32m    392\u001B[0m             \u001B[39m\"\u001B[39m\u001B[39mMime type rendering requires ipython but it is not installed\u001B[39m\u001B[39m\"\u001B[39m\n\u001B[0;32m    393\u001B[0m         )\n\u001B[0;32m    395\u001B[0m     \u001B[39mif\u001B[39;00m \u001B[39mnot\u001B[39;00m nbformat \u001B[39mor\u001B[39;00m LooseVersion(nbformat\u001B[39m.\u001B[39m__version__) \u001B[39m<\u001B[39m LooseVersion(\u001B[39m\"\u001B[39m\u001B[39m4.2.0\u001B[39m\u001B[39m\"\u001B[39m):\n\u001B[1;32m--> 396\u001B[0m         \u001B[39mraise\u001B[39;00m \u001B[39mValueError\u001B[39;00m(\n\u001B[0;32m    397\u001B[0m             \u001B[39m\"\u001B[39m\u001B[39mMime type rendering requires nbformat>=4.2.0 but it is not installed\u001B[39m\u001B[39m\"\u001B[39m\n\u001B[0;32m    398\u001B[0m         )\n\u001B[0;32m    400\u001B[0m     ipython_display\u001B[39m.\u001B[39mdisplay(bundle, raw\u001B[39m=\u001B[39m\u001B[39mTrue\u001B[39;00m)\n\u001B[0;32m    402\u001B[0m \u001B[39m# external renderers\u001B[39;00m\n",
      "\u001B[1;31mValueError\u001B[0m: Mime type rendering requires nbformat>=4.2.0 but it is not installed"
     ]
    },
    {
     "data": {
      "application/vnd.plotly.v1+json": {
       "config": {
        "plotlyServerURL": "https://plot.ly"
       },
       "data": [
        {
         "fill": "toself",
         "name": "77034",
         "r": [
          0.1413886527836804,
          0.4022988505747126,
          0.33319880163300786,
          0.35502807554874927
         ],
         "theta": [
          "median household income",
          "median age",
          "total population",
          "underrepresented voter percentage"
         ],
         "type": "scatterpolar"
        },
        {
         "fill": "toself",
         "name": "77530",
         "r": [
          0.18648002549936252,
          0.4022988505747126,
          0.3002747551264339,
          0.388208269525268
         ],
         "theta": [
          "median household income",
          "median age",
          "total population",
          "underrepresented voter percentage"
         ],
         "type": "scatterpolar"
        }
       ],
       "layout": {
        "polar": {
         "radialaxis": {
          "visible": true
         }
        },
        "showlegend": true,
        "template": {
         "data": {
          "bar": [
           {
            "error_x": {
             "color": "#2a3f5f"
            },
            "error_y": {
             "color": "#2a3f5f"
            },
            "marker": {
             "line": {
              "color": "#E5ECF6",
              "width": 0.5
             },
             "pattern": {
              "fillmode": "overlay",
              "size": 10,
              "solidity": 0.2
             }
            },
            "type": "bar"
           }
          ],
          "barpolar": [
           {
            "marker": {
             "line": {
              "color": "#E5ECF6",
              "width": 0.5
             },
             "pattern": {
              "fillmode": "overlay",
              "size": 10,
              "solidity": 0.2
             }
            },
            "type": "barpolar"
           }
          ],
          "carpet": [
           {
            "aaxis": {
             "endlinecolor": "#2a3f5f",
             "gridcolor": "white",
             "linecolor": "white",
             "minorgridcolor": "white",
             "startlinecolor": "#2a3f5f"
            },
            "baxis": {
             "endlinecolor": "#2a3f5f",
             "gridcolor": "white",
             "linecolor": "white",
             "minorgridcolor": "white",
             "startlinecolor": "#2a3f5f"
            },
            "type": "carpet"
           }
          ],
          "choropleth": [
           {
            "colorbar": {
             "outlinewidth": 0,
             "ticks": ""
            },
            "type": "choropleth"
           }
          ],
          "contour": [
           {
            "colorbar": {
             "outlinewidth": 0,
             "ticks": ""
            },
            "colorscale": [
             [
              0,
              "#0d0887"
             ],
             [
              0.1111111111111111,
              "#46039f"
             ],
             [
              0.2222222222222222,
              "#7201a8"
             ],
             [
              0.3333333333333333,
              "#9c179e"
             ],
             [
              0.4444444444444444,
              "#bd3786"
             ],
             [
              0.5555555555555556,
              "#d8576b"
             ],
             [
              0.6666666666666666,
              "#ed7953"
             ],
             [
              0.7777777777777778,
              "#fb9f3a"
             ],
             [
              0.8888888888888888,
              "#fdca26"
             ],
             [
              1,
              "#f0f921"
             ]
            ],
            "type": "contour"
           }
          ],
          "contourcarpet": [
           {
            "colorbar": {
             "outlinewidth": 0,
             "ticks": ""
            },
            "type": "contourcarpet"
           }
          ],
          "heatmap": [
           {
            "colorbar": {
             "outlinewidth": 0,
             "ticks": ""
            },
            "colorscale": [
             [
              0,
              "#0d0887"
             ],
             [
              0.1111111111111111,
              "#46039f"
             ],
             [
              0.2222222222222222,
              "#7201a8"
             ],
             [
              0.3333333333333333,
              "#9c179e"
             ],
             [
              0.4444444444444444,
              "#bd3786"
             ],
             [
              0.5555555555555556,
              "#d8576b"
             ],
             [
              0.6666666666666666,
              "#ed7953"
             ],
             [
              0.7777777777777778,
              "#fb9f3a"
             ],
             [
              0.8888888888888888,
              "#fdca26"
             ],
             [
              1,
              "#f0f921"
             ]
            ],
            "type": "heatmap"
           }
          ],
          "heatmapgl": [
           {
            "colorbar": {
             "outlinewidth": 0,
             "ticks": ""
            },
            "colorscale": [
             [
              0,
              "#0d0887"
             ],
             [
              0.1111111111111111,
              "#46039f"
             ],
             [
              0.2222222222222222,
              "#7201a8"
             ],
             [
              0.3333333333333333,
              "#9c179e"
             ],
             [
              0.4444444444444444,
              "#bd3786"
             ],
             [
              0.5555555555555556,
              "#d8576b"
             ],
             [
              0.6666666666666666,
              "#ed7953"
             ],
             [
              0.7777777777777778,
              "#fb9f3a"
             ],
             [
              0.8888888888888888,
              "#fdca26"
             ],
             [
              1,
              "#f0f921"
             ]
            ],
            "type": "heatmapgl"
           }
          ],
          "histogram": [
           {
            "marker": {
             "pattern": {
              "fillmode": "overlay",
              "size": 10,
              "solidity": 0.2
             }
            },
            "type": "histogram"
           }
          ],
          "histogram2d": [
           {
            "colorbar": {
             "outlinewidth": 0,
             "ticks": ""
            },
            "colorscale": [
             [
              0,
              "#0d0887"
             ],
             [
              0.1111111111111111,
              "#46039f"
             ],
             [
              0.2222222222222222,
              "#7201a8"
             ],
             [
              0.3333333333333333,
              "#9c179e"
             ],
             [
              0.4444444444444444,
              "#bd3786"
             ],
             [
              0.5555555555555556,
              "#d8576b"
             ],
             [
              0.6666666666666666,
              "#ed7953"
             ],
             [
              0.7777777777777778,
              "#fb9f3a"
             ],
             [
              0.8888888888888888,
              "#fdca26"
             ],
             [
              1,
              "#f0f921"
             ]
            ],
            "type": "histogram2d"
           }
          ],
          "histogram2dcontour": [
           {
            "colorbar": {
             "outlinewidth": 0,
             "ticks": ""
            },
            "colorscale": [
             [
              0,
              "#0d0887"
             ],
             [
              0.1111111111111111,
              "#46039f"
             ],
             [
              0.2222222222222222,
              "#7201a8"
             ],
             [
              0.3333333333333333,
              "#9c179e"
             ],
             [
              0.4444444444444444,
              "#bd3786"
             ],
             [
              0.5555555555555556,
              "#d8576b"
             ],
             [
              0.6666666666666666,
              "#ed7953"
             ],
             [
              0.7777777777777778,
              "#fb9f3a"
             ],
             [
              0.8888888888888888,
              "#fdca26"
             ],
             [
              1,
              "#f0f921"
             ]
            ],
            "type": "histogram2dcontour"
           }
          ],
          "mesh3d": [
           {
            "colorbar": {
             "outlinewidth": 0,
             "ticks": ""
            },
            "type": "mesh3d"
           }
          ],
          "parcoords": [
           {
            "line": {
             "colorbar": {
              "outlinewidth": 0,
              "ticks": ""
             }
            },
            "type": "parcoords"
           }
          ],
          "pie": [
           {
            "automargin": true,
            "type": "pie"
           }
          ],
          "scatter": [
           {
            "fillpattern": {
             "fillmode": "overlay",
             "size": 10,
             "solidity": 0.2
            },
            "type": "scatter"
           }
          ],
          "scatter3d": [
           {
            "line": {
             "colorbar": {
              "outlinewidth": 0,
              "ticks": ""
             }
            },
            "marker": {
             "colorbar": {
              "outlinewidth": 0,
              "ticks": ""
             }
            },
            "type": "scatter3d"
           }
          ],
          "scattercarpet": [
           {
            "marker": {
             "colorbar": {
              "outlinewidth": 0,
              "ticks": ""
             }
            },
            "type": "scattercarpet"
           }
          ],
          "scattergeo": [
           {
            "marker": {
             "colorbar": {
              "outlinewidth": 0,
              "ticks": ""
             }
            },
            "type": "scattergeo"
           }
          ],
          "scattergl": [
           {
            "marker": {
             "colorbar": {
              "outlinewidth": 0,
              "ticks": ""
             }
            },
            "type": "scattergl"
           }
          ],
          "scattermapbox": [
           {
            "marker": {
             "colorbar": {
              "outlinewidth": 0,
              "ticks": ""
             }
            },
            "type": "scattermapbox"
           }
          ],
          "scatterpolar": [
           {
            "marker": {
             "colorbar": {
              "outlinewidth": 0,
              "ticks": ""
             }
            },
            "type": "scatterpolar"
           }
          ],
          "scatterpolargl": [
           {
            "marker": {
             "colorbar": {
              "outlinewidth": 0,
              "ticks": ""
             }
            },
            "type": "scatterpolargl"
           }
          ],
          "scatterternary": [
           {
            "marker": {
             "colorbar": {
              "outlinewidth": 0,
              "ticks": ""
             }
            },
            "type": "scatterternary"
           }
          ],
          "surface": [
           {
            "colorbar": {
             "outlinewidth": 0,
             "ticks": ""
            },
            "colorscale": [
             [
              0,
              "#0d0887"
             ],
             [
              0.1111111111111111,
              "#46039f"
             ],
             [
              0.2222222222222222,
              "#7201a8"
             ],
             [
              0.3333333333333333,
              "#9c179e"
             ],
             [
              0.4444444444444444,
              "#bd3786"
             ],
             [
              0.5555555555555556,
              "#d8576b"
             ],
             [
              0.6666666666666666,
              "#ed7953"
             ],
             [
              0.7777777777777778,
              "#fb9f3a"
             ],
             [
              0.8888888888888888,
              "#fdca26"
             ],
             [
              1,
              "#f0f921"
             ]
            ],
            "type": "surface"
           }
          ],
          "table": [
           {
            "cells": {
             "fill": {
              "color": "#EBF0F8"
             },
             "line": {
              "color": "white"
             }
            },
            "header": {
             "fill": {
              "color": "#C8D4E3"
             },
             "line": {
              "color": "white"
             }
            },
            "type": "table"
           }
          ]
         },
         "layout": {
          "annotationdefaults": {
           "arrowcolor": "#2a3f5f",
           "arrowhead": 0,
           "arrowwidth": 1
          },
          "autotypenumbers": "strict",
          "coloraxis": {
           "colorbar": {
            "outlinewidth": 0,
            "ticks": ""
           }
          },
          "colorscale": {
           "diverging": [
            [
             0,
             "#8e0152"
            ],
            [
             0.1,
             "#c51b7d"
            ],
            [
             0.2,
             "#de77ae"
            ],
            [
             0.3,
             "#f1b6da"
            ],
            [
             0.4,
             "#fde0ef"
            ],
            [
             0.5,
             "#f7f7f7"
            ],
            [
             0.6,
             "#e6f5d0"
            ],
            [
             0.7,
             "#b8e186"
            ],
            [
             0.8,
             "#7fbc41"
            ],
            [
             0.9,
             "#4d9221"
            ],
            [
             1,
             "#276419"
            ]
           ],
           "sequential": [
            [
             0,
             "#0d0887"
            ],
            [
             0.1111111111111111,
             "#46039f"
            ],
            [
             0.2222222222222222,
             "#7201a8"
            ],
            [
             0.3333333333333333,
             "#9c179e"
            ],
            [
             0.4444444444444444,
             "#bd3786"
            ],
            [
             0.5555555555555556,
             "#d8576b"
            ],
            [
             0.6666666666666666,
             "#ed7953"
            ],
            [
             0.7777777777777778,
             "#fb9f3a"
            ],
            [
             0.8888888888888888,
             "#fdca26"
            ],
            [
             1,
             "#f0f921"
            ]
           ],
           "sequentialminus": [
            [
             0,
             "#0d0887"
            ],
            [
             0.1111111111111111,
             "#46039f"
            ],
            [
             0.2222222222222222,
             "#7201a8"
            ],
            [
             0.3333333333333333,
             "#9c179e"
            ],
            [
             0.4444444444444444,
             "#bd3786"
            ],
            [
             0.5555555555555556,
             "#d8576b"
            ],
            [
             0.6666666666666666,
             "#ed7953"
            ],
            [
             0.7777777777777778,
             "#fb9f3a"
            ],
            [
             0.8888888888888888,
             "#fdca26"
            ],
            [
             1,
             "#f0f921"
            ]
           ]
          },
          "colorway": [
           "#636efa",
           "#EF553B",
           "#00cc96",
           "#ab63fa",
           "#FFA15A",
           "#19d3f3",
           "#FF6692",
           "#B6E880",
           "#FF97FF",
           "#FECB52"
          ],
          "font": {
           "color": "#2a3f5f"
          },
          "geo": {
           "bgcolor": "white",
           "lakecolor": "white",
           "landcolor": "#E5ECF6",
           "showlakes": true,
           "showland": true,
           "subunitcolor": "white"
          },
          "hoverlabel": {
           "align": "left"
          },
          "hovermode": "closest",
          "mapbox": {
           "style": "light"
          },
          "paper_bgcolor": "white",
          "plot_bgcolor": "#E5ECF6",
          "polar": {
           "angularaxis": {
            "gridcolor": "white",
            "linecolor": "white",
            "ticks": ""
           },
           "bgcolor": "#E5ECF6",
           "radialaxis": {
            "gridcolor": "white",
            "linecolor": "white",
            "ticks": ""
           }
          },
          "scene": {
           "xaxis": {
            "backgroundcolor": "#E5ECF6",
            "gridcolor": "white",
            "gridwidth": 2,
            "linecolor": "white",
            "showbackground": true,
            "ticks": "",
            "zerolinecolor": "white"
           },
           "yaxis": {
            "backgroundcolor": "#E5ECF6",
            "gridcolor": "white",
            "gridwidth": 2,
            "linecolor": "white",
            "showbackground": true,
            "ticks": "",
            "zerolinecolor": "white"
           },
           "zaxis": {
            "backgroundcolor": "#E5ECF6",
            "gridcolor": "white",
            "gridwidth": 2,
            "linecolor": "white",
            "showbackground": true,
            "ticks": "",
            "zerolinecolor": "white"
           }
          },
          "shapedefaults": {
           "line": {
            "color": "#2a3f5f"
           }
          },
          "ternary": {
           "aaxis": {
            "gridcolor": "white",
            "linecolor": "white",
            "ticks": ""
           },
           "baxis": {
            "gridcolor": "white",
            "linecolor": "white",
            "ticks": ""
           },
           "bgcolor": "#E5ECF6",
           "caxis": {
            "gridcolor": "white",
            "linecolor": "white",
            "ticks": ""
           }
          },
          "title": {
           "x": 0.05
          },
          "xaxis": {
           "automargin": true,
           "gridcolor": "white",
           "linecolor": "white",
           "ticks": "",
           "title": {
            "standoff": 15
           },
           "zerolinecolor": "white",
           "zerolinewidth": 2
          },
          "yaxis": {
           "automargin": true,
           "gridcolor": "white",
           "linecolor": "white",
           "ticks": "",
           "title": {
            "standoff": 15
           },
           "zerolinecolor": "white",
           "zerolinewidth": 2
          }
         }
        }
       }
      },
      "text/html": [
       "<div>                        <script type=\"text/javascript\">window.PlotlyConfig = {MathJaxConfig: 'local'};</script>\n",
       "        <script src=\"https://cdn.plot.ly/plotly-2.18.0.min.js\"></script>                <div id=\"8e3fdf70-e3a2-47fa-97a7-d566ee8e6135\" class=\"plotly-graph-div\" style=\"height:100%; width:100%;\"></div>            <script type=\"text/javascript\">                                    window.PLOTLYENV=window.PLOTLYENV || {};                                    if (document.getElementById(\"8e3fdf70-e3a2-47fa-97a7-d566ee8e6135\")) {                    Plotly.newPlot(                        \"8e3fdf70-e3a2-47fa-97a7-d566ee8e6135\",                        [{\"fill\":\"toself\",\"name\":\"77034\",\"r\":[0.1413886527836804,0.4022988505747126,0.33319880163300786,0.35502807554874927],\"theta\":[\"median household income\",\"median age\",\"total population\",\"underrepresented voter percentage\"],\"type\":\"scatterpolar\"},{\"fill\":\"toself\",\"name\":\"77530\",\"r\":[0.18648002549936252,0.4022988505747126,0.3002747551264339,0.388208269525268],\"theta\":[\"median household income\",\"median age\",\"total population\",\"underrepresented voter percentage\"],\"type\":\"scatterpolar\"}],                        {\"template\":{\"data\":{\"histogram2dcontour\":[{\"type\":\"histogram2dcontour\",\"colorbar\":{\"outlinewidth\":0,\"ticks\":\"\"},\"colorscale\":[[0.0,\"#0d0887\"],[0.1111111111111111,\"#46039f\"],[0.2222222222222222,\"#7201a8\"],[0.3333333333333333,\"#9c179e\"],[0.4444444444444444,\"#bd3786\"],[0.5555555555555556,\"#d8576b\"],[0.6666666666666666,\"#ed7953\"],[0.7777777777777778,\"#fb9f3a\"],[0.8888888888888888,\"#fdca26\"],[1.0,\"#f0f921\"]]}],\"choropleth\":[{\"type\":\"choropleth\",\"colorbar\":{\"outlinewidth\":0,\"ticks\":\"\"}}],\"histogram2d\":[{\"type\":\"histogram2d\",\"colorbar\":{\"outlinewidth\":0,\"ticks\":\"\"},\"colorscale\":[[0.0,\"#0d0887\"],[0.1111111111111111,\"#46039f\"],[0.2222222222222222,\"#7201a8\"],[0.3333333333333333,\"#9c179e\"],[0.4444444444444444,\"#bd3786\"],[0.5555555555555556,\"#d8576b\"],[0.6666666666666666,\"#ed7953\"],[0.7777777777777778,\"#fb9f3a\"],[0.8888888888888888,\"#fdca26\"],[1.0,\"#f0f921\"]]}],\"heatmap\":[{\"type\":\"heatmap\",\"colorbar\":{\"outlinewidth\":0,\"ticks\":\"\"},\"colorscale\":[[0.0,\"#0d0887\"],[0.1111111111111111,\"#46039f\"],[0.2222222222222222,\"#7201a8\"],[0.3333333333333333,\"#9c179e\"],[0.4444444444444444,\"#bd3786\"],[0.5555555555555556,\"#d8576b\"],[0.6666666666666666,\"#ed7953\"],[0.7777777777777778,\"#fb9f3a\"],[0.8888888888888888,\"#fdca26\"],[1.0,\"#f0f921\"]]}],\"heatmapgl\":[{\"type\":\"heatmapgl\",\"colorbar\":{\"outlinewidth\":0,\"ticks\":\"\"},\"colorscale\":[[0.0,\"#0d0887\"],[0.1111111111111111,\"#46039f\"],[0.2222222222222222,\"#7201a8\"],[0.3333333333333333,\"#9c179e\"],[0.4444444444444444,\"#bd3786\"],[0.5555555555555556,\"#d8576b\"],[0.6666666666666666,\"#ed7953\"],[0.7777777777777778,\"#fb9f3a\"],[0.8888888888888888,\"#fdca26\"],[1.0,\"#f0f921\"]]}],\"contourcarpet\":[{\"type\":\"contourcarpet\",\"colorbar\":{\"outlinewidth\":0,\"ticks\":\"\"}}],\"contour\":[{\"type\":\"contour\",\"colorbar\":{\"outlinewidth\":0,\"ticks\":\"\"},\"colorscale\":[[0.0,\"#0d0887\"],[0.1111111111111111,\"#46039f\"],[0.2222222222222222,\"#7201a8\"],[0.3333333333333333,\"#9c179e\"],[0.4444444444444444,\"#bd3786\"],[0.5555555555555556,\"#d8576b\"],[0.6666666666666666,\"#ed7953\"],[0.7777777777777778,\"#fb9f3a\"],[0.8888888888888888,\"#fdca26\"],[1.0,\"#f0f921\"]]}],\"surface\":[{\"type\":\"surface\",\"colorbar\":{\"outlinewidth\":0,\"ticks\":\"\"},\"colorscale\":[[0.0,\"#0d0887\"],[0.1111111111111111,\"#46039f\"],[0.2222222222222222,\"#7201a8\"],[0.3333333333333333,\"#9c179e\"],[0.4444444444444444,\"#bd3786\"],[0.5555555555555556,\"#d8576b\"],[0.6666666666666666,\"#ed7953\"],[0.7777777777777778,\"#fb9f3a\"],[0.8888888888888888,\"#fdca26\"],[1.0,\"#f0f921\"]]}],\"mesh3d\":[{\"type\":\"mesh3d\",\"colorbar\":{\"outlinewidth\":0,\"ticks\":\"\"}}],\"scatter\":[{\"fillpattern\":{\"fillmode\":\"overlay\",\"size\":10,\"solidity\":0.2},\"type\":\"scatter\"}],\"parcoords\":[{\"type\":\"parcoords\",\"line\":{\"colorbar\":{\"outlinewidth\":0,\"ticks\":\"\"}}}],\"scatterpolargl\":[{\"type\":\"scatterpolargl\",\"marker\":{\"colorbar\":{\"outlinewidth\":0,\"ticks\":\"\"}}}],\"bar\":[{\"error_x\":{\"color\":\"#2a3f5f\"},\"error_y\":{\"color\":\"#2a3f5f\"},\"marker\":{\"line\":{\"color\":\"#E5ECF6\",\"width\":0.5},\"pattern\":{\"fillmode\":\"overlay\",\"size\":10,\"solidity\":0.2}},\"type\":\"bar\"}],\"scattergeo\":[{\"type\":\"scattergeo\",\"marker\":{\"colorbar\":{\"outlinewidth\":0,\"ticks\":\"\"}}}],\"scatterpolar\":[{\"type\":\"scatterpolar\",\"marker\":{\"colorbar\":{\"outlinewidth\":0,\"ticks\":\"\"}}}],\"histogram\":[{\"marker\":{\"pattern\":{\"fillmode\":\"overlay\",\"size\":10,\"solidity\":0.2}},\"type\":\"histogram\"}],\"scattergl\":[{\"type\":\"scattergl\",\"marker\":{\"colorbar\":{\"outlinewidth\":0,\"ticks\":\"\"}}}],\"scatter3d\":[{\"type\":\"scatter3d\",\"line\":{\"colorbar\":{\"outlinewidth\":0,\"ticks\":\"\"}},\"marker\":{\"colorbar\":{\"outlinewidth\":0,\"ticks\":\"\"}}}],\"scattermapbox\":[{\"type\":\"scattermapbox\",\"marker\":{\"colorbar\":{\"outlinewidth\":0,\"ticks\":\"\"}}}],\"scatterternary\":[{\"type\":\"scatterternary\",\"marker\":{\"colorbar\":{\"outlinewidth\":0,\"ticks\":\"\"}}}],\"scattercarpet\":[{\"type\":\"scattercarpet\",\"marker\":{\"colorbar\":{\"outlinewidth\":0,\"ticks\":\"\"}}}],\"carpet\":[{\"aaxis\":{\"endlinecolor\":\"#2a3f5f\",\"gridcolor\":\"white\",\"linecolor\":\"white\",\"minorgridcolor\":\"white\",\"startlinecolor\":\"#2a3f5f\"},\"baxis\":{\"endlinecolor\":\"#2a3f5f\",\"gridcolor\":\"white\",\"linecolor\":\"white\",\"minorgridcolor\":\"white\",\"startlinecolor\":\"#2a3f5f\"},\"type\":\"carpet\"}],\"table\":[{\"cells\":{\"fill\":{\"color\":\"#EBF0F8\"},\"line\":{\"color\":\"white\"}},\"header\":{\"fill\":{\"color\":\"#C8D4E3\"},\"line\":{\"color\":\"white\"}},\"type\":\"table\"}],\"barpolar\":[{\"marker\":{\"line\":{\"color\":\"#E5ECF6\",\"width\":0.5},\"pattern\":{\"fillmode\":\"overlay\",\"size\":10,\"solidity\":0.2}},\"type\":\"barpolar\"}],\"pie\":[{\"automargin\":true,\"type\":\"pie\"}]},\"layout\":{\"autotypenumbers\":\"strict\",\"colorway\":[\"#636efa\",\"#EF553B\",\"#00cc96\",\"#ab63fa\",\"#FFA15A\",\"#19d3f3\",\"#FF6692\",\"#B6E880\",\"#FF97FF\",\"#FECB52\"],\"font\":{\"color\":\"#2a3f5f\"},\"hovermode\":\"closest\",\"hoverlabel\":{\"align\":\"left\"},\"paper_bgcolor\":\"white\",\"plot_bgcolor\":\"#E5ECF6\",\"polar\":{\"bgcolor\":\"#E5ECF6\",\"angularaxis\":{\"gridcolor\":\"white\",\"linecolor\":\"white\",\"ticks\":\"\"},\"radialaxis\":{\"gridcolor\":\"white\",\"linecolor\":\"white\",\"ticks\":\"\"}},\"ternary\":{\"bgcolor\":\"#E5ECF6\",\"aaxis\":{\"gridcolor\":\"white\",\"linecolor\":\"white\",\"ticks\":\"\"},\"baxis\":{\"gridcolor\":\"white\",\"linecolor\":\"white\",\"ticks\":\"\"},\"caxis\":{\"gridcolor\":\"white\",\"linecolor\":\"white\",\"ticks\":\"\"}},\"coloraxis\":{\"colorbar\":{\"outlinewidth\":0,\"ticks\":\"\"}},\"colorscale\":{\"sequential\":[[0.0,\"#0d0887\"],[0.1111111111111111,\"#46039f\"],[0.2222222222222222,\"#7201a8\"],[0.3333333333333333,\"#9c179e\"],[0.4444444444444444,\"#bd3786\"],[0.5555555555555556,\"#d8576b\"],[0.6666666666666666,\"#ed7953\"],[0.7777777777777778,\"#fb9f3a\"],[0.8888888888888888,\"#fdca26\"],[1.0,\"#f0f921\"]],\"sequentialminus\":[[0.0,\"#0d0887\"],[0.1111111111111111,\"#46039f\"],[0.2222222222222222,\"#7201a8\"],[0.3333333333333333,\"#9c179e\"],[0.4444444444444444,\"#bd3786\"],[0.5555555555555556,\"#d8576b\"],[0.6666666666666666,\"#ed7953\"],[0.7777777777777778,\"#fb9f3a\"],[0.8888888888888888,\"#fdca26\"],[1.0,\"#f0f921\"]],\"diverging\":[[0,\"#8e0152\"],[0.1,\"#c51b7d\"],[0.2,\"#de77ae\"],[0.3,\"#f1b6da\"],[0.4,\"#fde0ef\"],[0.5,\"#f7f7f7\"],[0.6,\"#e6f5d0\"],[0.7,\"#b8e186\"],[0.8,\"#7fbc41\"],[0.9,\"#4d9221\"],[1,\"#276419\"]]},\"xaxis\":{\"gridcolor\":\"white\",\"linecolor\":\"white\",\"ticks\":\"\",\"title\":{\"standoff\":15},\"zerolinecolor\":\"white\",\"automargin\":true,\"zerolinewidth\":2},\"yaxis\":{\"gridcolor\":\"white\",\"linecolor\":\"white\",\"ticks\":\"\",\"title\":{\"standoff\":15},\"zerolinecolor\":\"white\",\"automargin\":true,\"zerolinewidth\":2},\"scene\":{\"xaxis\":{\"backgroundcolor\":\"#E5ECF6\",\"gridcolor\":\"white\",\"linecolor\":\"white\",\"showbackground\":true,\"ticks\":\"\",\"zerolinecolor\":\"white\",\"gridwidth\":2},\"yaxis\":{\"backgroundcolor\":\"#E5ECF6\",\"gridcolor\":\"white\",\"linecolor\":\"white\",\"showbackground\":true,\"ticks\":\"\",\"zerolinecolor\":\"white\",\"gridwidth\":2},\"zaxis\":{\"backgroundcolor\":\"#E5ECF6\",\"gridcolor\":\"white\",\"linecolor\":\"white\",\"showbackground\":true,\"ticks\":\"\",\"zerolinecolor\":\"white\",\"gridwidth\":2}},\"shapedefaults\":{\"line\":{\"color\":\"#2a3f5f\"}},\"annotationdefaults\":{\"arrowcolor\":\"#2a3f5f\",\"arrowhead\":0,\"arrowwidth\":1},\"geo\":{\"bgcolor\":\"white\",\"landcolor\":\"#E5ECF6\",\"subunitcolor\":\"white\",\"showland\":true,\"showlakes\":true,\"lakecolor\":\"white\"},\"title\":{\"x\":0.05},\"mapbox\":{\"style\":\"light\"}}},\"polar\":{\"radialaxis\":{\"visible\":true}},\"showlegend\":true},                        {\"responsive\": true}                    )                };                            </script>        </div>"
      ],
      "text/plain": [
       "Figure({\n",
       "    'data': [{'fill': 'toself',\n",
       "              'name': '77034',\n",
       "              'r': [0.1413886527836804, 0.4022988505747126, 0.33319880163300786,\n",
       "                    0.35502807554874927],\n",
       "              'theta': [median household income, median age, total population,\n",
       "                        underrepresented voter percentage],\n",
       "              'type': 'scatterpolar'},\n",
       "             {'fill': 'toself',\n",
       "              'name': '77530',\n",
       "              'r': [0.18648002549936252, 0.4022988505747126, 0.3002747551264339,\n",
       "                    0.388208269525268],\n",
       "              'theta': [median household income, median age, total population,\n",
       "                        underrepresented voter percentage],\n",
       "              'type': 'scatterpolar'}],\n",
       "    'layout': {'polar': {'radialaxis': {'visible': True}}, 'showlegend': True, 'template': '...'}\n",
       "})"
      ]
     },
     "execution_count": 289,
     "metadata": {},
     "output_type": "execute_result"
    }
   ],
   "source": [
    "import plotly.graph_objects as go\n",
    "\n",
    "categories = ['median household income','median age','total population',\n",
    "              'underrepresented voter percentage']\n",
    "\n",
    "print(zipindex)\n",
    "og_income = normed_zipdata.loc[zipindex[0]].at['Median Household Income']\n",
    "og_age = normed_zipdata.loc[zipindex[0]].at['Median Age']\n",
    "og_pop = normed_zipdata.loc[zipindex[0]].at['Population']\n",
    "og_div = 1 - normed_zipdata.loc[zipindex[0]].at['White Percentage']\n",
    "\n",
    "fig = go.Figure()\n",
    "fig.add_trace(go.Scatterpolar(\n",
    "      r=[og_income, og_age, og_pop, og_div],\n",
    "      theta=categories,\n",
    "      fill='toself',\n",
    "      name='77034'\n",
    "))\n",
    "\n",
    "sim_income = normed_zipdata.loc[indexnorm].at['Median Household Income']\n",
    "sim_age = normed_zipdata.loc[indexnorm].at['Median Age']\n",
    "sim_pop = normed_zipdata.loc[indexnorm].at['Population']\n",
    "sim_div = 1 - normed_zipdata.loc[indexnorm].at['White Percentage']\n",
    "\n",
    "fig.add_trace(go.Scatterpolar(\n",
    "      r=[sim_income, sim_age, sim_pop, sim_div],\n",
    "      theta=categories,\n",
    "      fill='toself',\n",
    "      name='77530'\n",
    "))\n",
    "\n",
    "fig.update_layout(\n",
    "  polar=dict(\n",
    "    radialaxis=dict(\n",
    "      visible=True,\n",
    "      #range=[0, 1]\n",
    "    )),\n",
    "  showlegend=True\n",
    ")\n",
    "\n"
   ]
  },
  {
   "cell_type": "code",
   "execution_count": 179,
   "metadata": {},
   "outputs": [
    {
     "data": {
      "text/html": [
       "<div>\n",
       "<style scoped>\n",
       "    .dataframe tbody tr th:only-of-type {\n",
       "        vertical-align: middle;\n",
       "    }\n",
       "\n",
       "    .dataframe tbody tr th {\n",
       "        vertical-align: top;\n",
       "    }\n",
       "\n",
       "    .dataframe thead th {\n",
       "        text-align: right;\n",
       "    }\n",
       "</style>\n",
       "<table border=\"1\" class=\"dataframe\">\n",
       "  <thead>\n",
       "    <tr style=\"text-align: right;\">\n",
       "      <th></th>\n",
       "      <th>Zip Codesort column</th>\n",
       "      <th>Median Household Income</th>\n",
       "      <th>Median Age</th>\n",
       "      <th>Population</th>\n",
       "      <th>White Percentage</th>\n",
       "    </tr>\n",
       "  </thead>\n",
       "  <tbody>\n",
       "    <tr>\n",
       "      <th>0</th>\n",
       "      <td>0.000000</td>\n",
       "      <td>0.291734</td>\n",
       "      <td>0.636015</td>\n",
       "      <td>0.164170</td>\n",
       "      <td>0.586141</td>\n",
       "    </tr>\n",
       "    <tr>\n",
       "      <th>1</th>\n",
       "      <td>0.001678</td>\n",
       "      <td>0.285460</td>\n",
       "      <td>0.593870</td>\n",
       "      <td>0.116437</td>\n",
       "      <td>0.593670</td>\n",
       "    </tr>\n",
       "    <tr>\n",
       "      <th>2</th>\n",
       "      <td>0.003356</td>\n",
       "      <td>0.118556</td>\n",
       "      <td>0.586207</td>\n",
       "      <td>0.165117</td>\n",
       "      <td>0.313298</td>\n",
       "    </tr>\n",
       "    <tr>\n",
       "      <th>3</th>\n",
       "      <td>0.005034</td>\n",
       "      <td>0.812803</td>\n",
       "      <td>0.659004</td>\n",
       "      <td>0.309294</td>\n",
       "      <td>0.864599</td>\n",
       "    </tr>\n",
       "    <tr>\n",
       "      <th>4</th>\n",
       "      <td>0.006711</td>\n",
       "      <td>0.305435</td>\n",
       "      <td>0.793103</td>\n",
       "      <td>0.272116</td>\n",
       "      <td>0.882593</td>\n",
       "    </tr>\n",
       "    <tr>\n",
       "      <th>...</th>\n",
       "      <td>...</td>\n",
       "      <td>...</td>\n",
       "      <td>...</td>\n",
       "      <td>...</td>\n",
       "      <td>...</td>\n",
       "    </tr>\n",
       "    <tr>\n",
       "      <th>128</th>\n",
       "      <td>0.939597</td>\n",
       "      <td>0.167568</td>\n",
       "      <td>0.593870</td>\n",
       "      <td>0.120597</td>\n",
       "      <td>0.783946</td>\n",
       "    </tr>\n",
       "    <tr>\n",
       "      <th>129</th>\n",
       "      <td>0.954698</td>\n",
       "      <td>0.289195</td>\n",
       "      <td>0.624521</td>\n",
       "      <td>0.479409</td>\n",
       "      <td>0.889357</td>\n",
       "    </tr>\n",
       "    <tr>\n",
       "      <th>130</th>\n",
       "      <td>0.979866</td>\n",
       "      <td>0.410545</td>\n",
       "      <td>0.793103</td>\n",
       "      <td>0.315425</td>\n",
       "      <td>0.940531</td>\n",
       "    </tr>\n",
       "    <tr>\n",
       "      <th>131</th>\n",
       "      <td>0.981544</td>\n",
       "      <td>0.094597</td>\n",
       "      <td>0.402299</td>\n",
       "      <td>0.178032</td>\n",
       "      <td>0.736983</td>\n",
       "    </tr>\n",
       "    <tr>\n",
       "      <th>132</th>\n",
       "      <td>1.000000</td>\n",
       "      <td>0.163382</td>\n",
       "      <td>0.555556</td>\n",
       "      <td>0.232859</td>\n",
       "      <td>0.601582</td>\n",
       "    </tr>\n",
       "  </tbody>\n",
       "</table>\n",
       "<p>133 rows × 5 columns</p>\n",
       "</div>"
      ],
      "text/plain": [
       "     Zip Codesort column  Median Household Income  Median Age  Population  \\\n",
       "0               0.000000                 0.291734    0.636015    0.164170   \n",
       "1               0.001678                 0.285460    0.593870    0.116437   \n",
       "2               0.003356                 0.118556    0.586207    0.165117   \n",
       "3               0.005034                 0.812803    0.659004    0.309294   \n",
       "4               0.006711                 0.305435    0.793103    0.272116   \n",
       "..                   ...                      ...         ...         ...   \n",
       "128             0.939597                 0.167568    0.593870    0.120597   \n",
       "129             0.954698                 0.289195    0.624521    0.479409   \n",
       "130             0.979866                 0.410545    0.793103    0.315425   \n",
       "131             0.981544                 0.094597    0.402299    0.178032   \n",
       "132             1.000000                 0.163382    0.555556    0.232859   \n",
       "\n",
       "     White Percentage  \n",
       "0            0.586141  \n",
       "1            0.593670  \n",
       "2            0.313298  \n",
       "3            0.864599  \n",
       "4            0.882593  \n",
       "..                ...  \n",
       "128          0.783946  \n",
       "129          0.889357  \n",
       "130          0.940531  \n",
       "131          0.736983  \n",
       "132          0.601582  \n",
       "\n",
       "[133 rows x 5 columns]"
      ]
     },
     "execution_count": 179,
     "metadata": {},
     "output_type": "execute_result"
    }
   ],
   "source": [
    "import plotly.graph_objects as go\n",
    "\n",
    "categories = ['median household income','median age','total population',\n",
    "              'underrepresented voter percentage']\n",
    "\n",
    "# fig = go.Figure()\n",
    "\n",
    "# zipdata.loc[zipdata.n == \"closezip\", ['a','b']].values.flatten().tolist()\n",
    "# r = zipdata.loc[0, 2:6].values.tolist()\n",
    "\n",
    "# r = zipdata.values.tolist()[0]\n",
    "# [1, 6]\n",
    "\n",
    "#r = zipdata.loc[indexnorm, 2:6].values.flatten().tolist()\n",
    "\n",
    "#print(r)\n",
    "\n",
    "# scat_income = zipdata.iloc[indexnorm]['Median Household Income'] / (1.067543e+09)\n",
    "# scat_age = zipdata.iloc[indexnorm]['Median Age'] / (1.693905e+01)\n",
    "# scat_pop = zipdata.iloc[indexnorm]['Population'] / (1.558452e+08)\n",
    "# scat_div = 100 - zipdata.iloc[indexnorm]['White Percentage'] / (3.090548e+02)\n",
    "\n",
    "\n",
    "# fig.add_trace(go.Scatterpolar(\n",
    "#       r=[scat_income, scat_age, scat_pop, scat_div],\n",
    "#       theta=categories,\n",
    "#       fill='toself',\n",
    "#       name='77026'\n",
    "# ))"
   ]
  }
 ],
 "metadata": {
  "kernelspec": {
   "display_name": "Python 3",
   "language": "python",
   "name": "python3"
  },
  "language_info": {
   "codemirror_mode": {
    "name": "ipython",
    "version": 3
   },
   "file_extension": ".py",
   "mimetype": "text/x-python",
   "name": "python",
   "nbconvert_exporter": "python",
   "pygments_lexer": "ipython3",
   "version": "3.8.7"
  },
  "orig_nbformat": 4,
  "vscode": {
   "interpreter": {
    "hash": "90a7f9520ca2f95413c06593289b2edf029b485162a529c14f6348c27ec1b663"
   }
  }
 },
 "nbformat": 4,
 "nbformat_minor": 2
}