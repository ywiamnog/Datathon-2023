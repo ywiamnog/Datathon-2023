{
 "cells": [
  {
   "cell_type": "code",
   "execution_count": 45,
   "metadata": {},
   "outputs": [],
   "source": [
    "import pandas as pd\n",
    "import seaborn as sns\n",
    "import openpyxl\n",
    "import math\n",
    "import re\n",
    "import numpy as np"
   ]
  },
  {
   "cell_type": "code",
   "execution_count": 81,
   "metadata": {},
   "outputs": [
    {
     "name": "stdout",
     "output_type": "stream",
     "text": [
      "1.2456424761834093\n",
      "targeted zipcode:      Zip Codesort column  Median Household Income  Median Age  Population  \\\n",
      "100                77345                 141123.0        41.7     23712.0   \n",
      "\n",
      "    White Percentage Black/AfricanAmerican Percentage  \\\n",
      "100           85.77%                            3.62%   \n",
      "\n",
      "    Pacific Islander Percentage Asian Percentage Other Race Population  \\\n",
      "100                       0.08%            4.00%                 3.24%   \n",
      "\n",
      "    2+ Races Percentage     sum  \n",
      "100               2.95%  99.66%  \n",
      "closest other zipcode:     Zip Codesort column  Median Household Income  Median Age  Population  \\\n",
      "25                77027                 103889.0        41.9     13039.0   \n",
      "\n",
      "   White Percentage Black/AfricanAmerican Percentage  \\\n",
      "25           74.38%                            7.34%   \n",
      "\n",
      "   Pacific Islander Percentage Asian Percentage Other Race Population  \\\n",
      "25                       0.09%           11.91%                 3.62%   \n",
      "\n",
      "   2+ Races Percentage     sum  \n",
      "25               2.40%  99.74%  \n"
     ]
    }
   ],
   "source": [
    "zipdata = pd.read_csv(\"ExternalDataByZipcode.csv\")\n",
    "\n",
    "# convert \n",
    "zipdata['Median Household Income'] = zipdata['Median Household Income'].str.replace('\\W', '', regex=True).astype(float)\n",
    "zipdata['Population'] = zipdata['Population'].str.replace('\\W', '', regex=True).astype(float)\n",
    "\n",
    "\n",
    "# print(zipdata.dtypes)\n",
    "zipdata.head()\n",
    "# for each zip code find euclid norm (L2-norm) of vars\n",
    "# vars = [income, age, population, nonwhite]\n",
    "\n",
    "# sample for precinct 9 = 77002\n",
    "\n",
    "norm = []\n",
    "targeted = [100]\n",
    "\n",
    "for precinct in targeted:\n",
    "    tar_income = zipdata.iloc[precinct]['Median Household Income']\n",
    "    tar_age = zipdata.iloc[precinct]['Median Age']\n",
    "    tar_pop = zipdata.iloc[precinct]['Population']\n",
    "\n",
    "    for i in range(zipdata.shape[0]):\n",
    "        if precinct != i:\n",
    "            # print(precinct, i)\n",
    "            income = zipdata.iloc[i]['Median Household Income']\n",
    "            age = zipdata.iloc[i]['Median Age']\n",
    "            pop = zipdata.iloc[i]['Population']\n",
    "            \n",
    "            incomediff = (tar_income - income) / (1.067543e+09)\n",
    "            agediff = (tar_age - age) / (1.693905e+01)\n",
    "            popdiff = (tar_pop - pop) / (1.558452e+08)\n",
    "            sum = ((incomediff)**2) + ((agediff)**2) + ((popdiff)**2)\n",
    "            # print(sum)\n",
    "        norm.append(math.sqrt(sum))\n",
    "\n",
    "# print(norm)\n",
    "print(max(norm))\n",
    "indexnorm = np.argmin(norm)\n",
    "print('targeted zipcode:', zipdata.loc[[100]])\n",
    "print('closest other zipcode:', zipdata.loc[[indexnorm]])"
   ]
  }
 ],
 "metadata": {
  "kernelspec": {
   "display_name": "Python 3",
   "language": "python",
   "name": "python3"
  },
  "language_info": {
   "codemirror_mode": {
    "name": "ipython",
    "version": 3
   },
   "file_extension": ".py",
   "mimetype": "text/x-python",
   "name": "python",
   "nbconvert_exporter": "python",
   "pygments_lexer": "ipython3",
   "version": "3.8.7"
  },
  "orig_nbformat": 4,
  "vscode": {
   "interpreter": {
    "hash": "90a7f9520ca2f95413c06593289b2edf029b485162a529c14f6348c27ec1b663"
   }
  }
 },
 "nbformat": 4,
 "nbformat_minor": 2
}
