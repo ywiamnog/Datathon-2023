{
 "cells": [
  {
   "cell_type": "code",
   "execution_count": 1,
   "metadata": {
    "collapsed": true
   },
   "outputs": [],
   "source": [
    "import numpy as np\n",
    "import pandas as pd"
   ]
  },
  {
   "cell_type": "code",
   "execution_count": 2,
   "outputs": [],
   "source": [
    "# read in csv files\n",
    "registered1 = pd.read_csv(\"AllRegistered_Harris_1of3.csv\")\n",
    "registered2 = pd.read_csv(\"AllRegistered_Harris_2of3.csv\")\n",
    "registered3 = pd.read_csv(\"AllRegistered_Harris_3of3.csv\")"
   ],
   "metadata": {
    "collapsed": false,
    "pycharm": {
     "name": "#%%\n"
    }
   }
  },
  {
   "cell_type": "code",
   "execution_count": null,
   "outputs": [],
   "source": [
    "# clean each file, then merge\n",
    "for column in registered1.columns:\n",
    "        registered1 = registered1[(registered1[column] != \"--\")]\n",
    "\n",
    "files_lst = [registered1, registered2, registered3]\n",
    "for i in range(0, len(files_lst)):\n",
    "    for column in files_lst[i].columns:\n",
    "        df = df[(df[column] != \"--\")]"
   ],
   "metadata": {
    "collapsed": false,
    "pycharm": {
     "name": "#%%\n"
    }
   }
  }
 ],
 "metadata": {
  "kernelspec": {
   "display_name": "Python 3",
   "language": "python",
   "name": "python3"
  },
  "language_info": {
   "codemirror_mode": {
    "name": "ipython",
    "version": 2
   },
   "file_extension": ".py",
   "mimetype": "text/x-python",
   "name": "python",
   "nbconvert_exporter": "python",
   "pygments_lexer": "ipython2",
   "version": "2.7.6"
  }
 },
 "nbformat": 4,
 "nbformat_minor": 0
}
